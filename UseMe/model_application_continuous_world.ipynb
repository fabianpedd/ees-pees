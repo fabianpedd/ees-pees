{
 "cells": [
  {
   "cell_type": "markdown",
   "metadata": {},
   "source": [
    "# Introduction\n",
    "\n",
    "\n",
    "\n",
    "This notebook is a template for applying a PPO model in Webots continuous environment.\n",
    "\n",
    "---\n",
    "**NOTE**\n",
    "\n",
    "To use this notebook, please first follow `UseGuide.md` to install the neccessary software and packages."
   ]
  },
  {
   "cell_type": "markdown",
   "metadata": {},
   "source": [
    "Import the PPO1 algorithm from stable baselines:"
   ]
  },
  {
   "cell_type": "code",
   "execution_count": null,
   "metadata": {
    "tags": []
   },
   "outputs": [],
   "source": [
    "%%capture output \n",
    "# captures ALL output in cell to disable tensorflow warnings\n",
    "\n",
    "from stable_baselines import PPO1"
   ]
  },
  {
   "cell_type": "markdown",
   "metadata": {},
   "source": [
    "Import our gym:"
   ]
  },
  {
   "cell_type": "code",
   "execution_count": null,
   "metadata": {},
   "outputs": [],
   "source": [
    "import sys\n",
    "sys.path.insert(0,'../backend')\n",
    "\n",
    "import webotsgym as wg"
   ]
  },
  {
   "cell_type": "markdown",
   "metadata": {},
   "source": [
    "# Setup World Parameters and Start the Webotsgym\n",
    "\n",
    "\n",
    "You can setup the Webots environment parameters:\n",
    "\n",
    "* `config.world_size`, setup the size of Webots environments for training. For example: `config.world_size = 8` will setup a square map of size 8x8 in Webots.\n",
    "* `config.num_obstacles`, setup the number of obstacles. Each obstacle is a block of size 1x1.\n",
    "* `config.sim_mode`, used to setup the speed of the simulation of Webots. \n",
    "`config.sim_mode = wg.config.SimSpeedMode.NORMAL`, run the simulation in the Real-Time mode.\n",
    "`config.sim_mode = wg.config.SimSpeedMode.RUN`, run the simulation as fast as possible using all the available CPU power. \n",
    "`config.sim_mode = wg.config.SimSpeedMode.FAST`, run the simulation as fast as possible without the graphics rendering, hence the 3d window is black.\n",
    "* `config.sim_step_every_x`, controls the interval between state/action in Webots time steps (32ms). The lower, the more frequent the actions. We recommend setting this to 5 for the continuous environment."
   ]
  },
  {
   "cell_type": "code",
   "execution_count": null,
   "metadata": {
    "tags": []
   },
   "outputs": [],
   "source": [
    "# set config\n",
    "config = wg.WbtConfig()\n",
    "config.world_size = 3\n",
    "config.num_obstacles = 0\n",
    "config.sim_mode = wg.config.SimSpeedMode.RUN\n",
    "config.sim_step_every_x = 5\n",
    "\n",
    "# start world\n",
    "# the pretrained model which will be loaded in the next cell was working with the following discrete action space: \n",
    "act = wg.WbtActDiscrete(config=config, \n",
    "                        range_direction=0.1, \n",
    "                        range_speed=0.1, \n",
    "                        speeds=3, \n",
    "                        directions=3)\n",
    "env = wg.WbtGym(action_class=act,\n",
    "                config=config)"
   ]
  },
  {
   "cell_type": "markdown",
   "metadata": {},
   "source": [
    "# Load a Model\n",
    "\n",
    "Load a pretrained model to apply on the WbtGym. You must train your own model in `model_training_continuous_world.ipynb`. Due to the complexity of the continuous world we have not trained a very successful model for randomized worlds. The model in model/continuous/model_3x3_reach_target is our best shot."
   ]
  },
  {
   "cell_type": "code",
   "execution_count": null,
   "metadata": {
    "tags": []
   },
   "outputs": [],
   "source": [
    "%%capture output \n",
    "# captures ALL output in cell to disable tensorflow warnings\n",
    "\n",
    "model_name = \"model_3x3_reach_target\"\n",
    "model = PPO1.load(\"model/continuous/{}\".format(model_name))"
   ]
  },
  {
   "cell_type": "markdown",
   "metadata": {},
   "source": [
    "# Apply Model on a Random World\n",
    "\n",
    "Randomly reset the start point, target point, and the obstacles in the environment and apply the loaded PPO model to this environment. Please set `step_limit` to limit the steps for the robot.\n",
    "\n",
    "You can see how the robot goes to the target. If the robot reaches the target, it will print \"Reach the target, congratulations!\". If the robot doesn't reach the target in 2000 time steps, it will stop. Then you can rerun this cell to reset the environment. The `step_limit` must be set properly with regards to both the size/complexity of the environment and the frequency of the state/action pairs (controlled with the paramter `sim_step_every_x` in the config) to give the robot a suitable amount of time to reach the target."
   ]
  },
  {
   "cell_type": "code",
   "execution_count": null,
   "metadata": {},
   "outputs": [],
   "source": [
    "obs = env.reset()\n",
    "step_limit = 2000\n",
    "for i in range(step_limit):\n",
    "    (action, _states) = model.predict(obs)\n",
    "    (obs, rewards, done, info) = env.step(action)\n",
    "\n",
    "    if env.get_target_distance() < 0.1:\n",
    "        print ('Congratulations! The robot reached the target.')\n",
    "        break\n",
    "    if i == step_limit - 1:\n",
    "        print ('Reached step limit without reaching target.')"
   ]
  }
 ],
 "metadata": {
  "file_extension": ".py",
  "kernelspec": {
   "display_name": "Python 3",
   "language": "python",
   "name": "python3"
  },
  "language_info": {
   "codemirror_mode": {
    "name": "ipython",
    "version": 3
   },
   "file_extension": ".py",
   "mimetype": "text/x-python",
   "name": "python",
   "nbconvert_exporter": "python",
   "pygments_lexer": "ipython3",
   "version": "3.6.10"
  },
  "mimetype": "text/x-python",
  "name": "python",
  "npconvert_exporter": "python",
  "pygments_lexer": "ipython3",
  "version": 3
 },
 "nbformat": 4,
 "nbformat_minor": 2
}

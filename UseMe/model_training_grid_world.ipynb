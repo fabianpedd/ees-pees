{
 "cells": [
  {
   "cell_type": "markdown",
   "metadata": {},
   "source": [
    "# Introduction\n",
    "\n",
    "\n",
    "Please write text here. Please write text here. Please write text here. Please write text here. Please write text here. Please write text here. Please write text here. Please write text here. Please write text here. Please write text here. Please write text here. Please write text here. Please write text here. Please write text here. "
   ]
  },
  {
   "cell_type": "code",
   "execution_count": 1,
   "metadata": {},
   "outputs": [],
   "source": [
    "%%capture output \n",
    "# captures ALL output in cell to disable tensorflow warnings\n",
    "\n",
    "import numpy as np\n",
    "from stable_baselines import PPO1"
   ]
  },
  {
   "cell_type": "code",
   "execution_count": 2,
   "metadata": {},
   "outputs": [],
   "source": [
    "import sys\n",
    "sys.path.insert(0,'../backend')\n",
    "\n",
    "# load our webotsgym\n",
    "import webotsgym as wg"
   ]
  },
  {
   "cell_type": "markdown",
   "metadata": {},
   "source": [
    "# Create a Custom Reward Function (optional)\n",
    "\n",
    "\n",
    "Please write text here. Please write text here. Please write text here. Please write text here. Please write text here. Please write text here. Please write text here. Please write text here. Please write text here. Please write text here. Please write text here. Please write text here. Please write text here. Please write text here. "
   ]
  },
  {
   "cell_type": "code",
   "execution_count": 3,
   "metadata": {},
   "outputs": [],
   "source": [
    "class MyEval(wg.WbtRewardGrid):\n",
    "    def __init__(self, env, config: wg.WbtConfig = wg.WbtConfig()):\n",
    "        super(MyEval, self).__init__(env, config)\n",
    "\n",
    "    def calc_reward(self):\n",
    "        # to be filled\n",
    "        pass\n",
    "    \n",
    "    def check_done(self):\n",
    "        # to be filled\n",
    "        pass"
   ]
  },
  {
   "cell_type": "markdown",
   "metadata": {},
   "source": [
    "# Select Parameters for the Webots World\n",
    "\n",
    "\n",
    "Please write text here. Please write text here. Please write text here. Please write text here. Please write text here. Please write text here. Please write text here. Please write text here. Please write text here. Please write text here. Please write text here. Please write text here. Please write text here. Please write text here. "
   ]
  },
  {
   "cell_type": "code",
   "execution_count": 4,
   "metadata": {},
   "outputs": [],
   "source": [
    "config = wg.WbtConfig()\n",
    "config.world_size = 8\n",
    "config.num_obstacles = 16\n",
    "config.sim_mode = wg.config.SimSpeedMode.RUN"
   ]
  },
  {
   "cell_type": "markdown",
   "metadata": {},
   "source": [
    "# Start our Webotsgym\n",
    "\n",
    "\n",
    "Please write text here. Please write text here. Please write text here. Please write text here. Please write text here. Please write text here. Please write text here. Please write text here. Please write text here. Please write text here. Please write text here. Please write text here. Please write text here. Please write text here. "
   ]
  },
  {
   "cell_type": "code",
   "execution_count": 5,
   "metadata": {},
   "outputs": [
    {
     "name": "stdout",
     "output_type": "stream",
     "text": [
      "Accepting on Port:  10201\n"
     ]
    }
   ],
   "source": [
    "# normal\n",
    "env = wg.WbtGymGrid(config=config)"
   ]
  },
  {
   "cell_type": "code",
   "execution_count": 6,
   "metadata": {},
   "outputs": [],
   "source": [
    "# custom reward class\n",
    "# env = wg.WbtGymGrid(config=config,\n",
    "#                     evaluate_class=MyEval)"
   ]
  },
  {
   "cell_type": "markdown",
   "metadata": {},
   "source": [
    "# Initialize a Model from Stable Baselines\n",
    "\n",
    "Please write text here. Please write text here. Please write text here. Please write text here. Please write text here. Please write text here. Please write text here. Please write text here. Please write text here. Please write text here. Please write text here. Please write text here. Please write text here. Please write text here. "
   ]
  },
  {
   "cell_type": "code",
   "execution_count": 7,
   "metadata": {},
   "outputs": [],
   "source": [
    "%%capture output \n",
    "# captures ALL output in cell to disable tensorflow warnings\n",
    "\n",
    "model_name = \"PPO_webots_grid\"\n",
    "model = PPO1(\"MlpPolicy\", env)"
   ]
  },
  {
   "cell_type": "markdown",
   "metadata": {},
   "source": [
    "# Train a Model on the Webotsgym\n",
    "\n",
    "\n",
    "Please write text here. Please write text here. Please write text here. Please write text here. Please write text here. Please write text here. Please write text here. Please write text here. Please write text here. Please write text here. Please write text here. Please write text here. Please write text here. Please write text here. "
   ]
  },
  {
   "cell_type": "code",
   "execution_count": null,
   "metadata": {},
   "outputs": [
    {
     "name": "stdout",
     "output_type": "stream",
     "text": [
      "2\n",
      "3\n",
      "2\n",
      "1\n",
      "1\n",
      "3\n",
      "1\n",
      "3\n",
      "2\n",
      "3\n"
     ]
    }
   ],
   "source": [
    "time_steps = 100000\n",
    "model.learn(total_timesteps=time_steps)\n",
    "model.save(\"model/grid/{}\".format(model_name))"
   ]
  }
 ],
 "metadata": {
  "kernelspec": {
   "display_name": "Python 3",
   "language": "python",
   "name": "python3"
  },
  "language_info": {
   "codemirror_mode": {
    "name": "ipython",
    "version": 3
   },
   "file_extension": ".py",
   "mimetype": "text/x-python",
   "name": "python",
   "nbconvert_exporter": "python",
   "pygments_lexer": "ipython3",
   "version": "3.6.10"
  }
 },
 "nbformat": 4,
 "nbformat_minor": 4
}

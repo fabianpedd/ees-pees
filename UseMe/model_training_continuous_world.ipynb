{
 "cells": [
  {
   "cell_type": "code",
   "execution_count": 1,
   "metadata": {},
   "outputs": [],
   "source": [
    "%%capture output \n",
    "# captures ALL output in cell to disable tensorflow warnings\n",
    "\n",
    "import numpy as np\n",
    "from stable_baselines import PPO1"
   ]
  },
  {
   "cell_type": "code",
   "execution_count": 2,
   "metadata": {},
   "outputs": [],
   "source": [
    "import sys\n",
    "sys.path.insert(0,'../backend')\n",
    "\n",
    "# load our webotsgym\n",
    "import webotsgym as wg"
   ]
  },
  {
   "cell_type": "code",
   "execution_count": 3,
   "metadata": {},
   "outputs": [],
   "source": [
    "class MyEval(wg.WbtReward):\n",
    "    def __init__(self, env, config: wg.WbtConfig = wg.WbtConfig()):\n",
    "        super(MyEval, self).__init__(env, config)\n",
    "\n",
    "    def calc_reward(self):\n",
    "        \"\"\"calculate the reward of the current state\n",
    "           Returns: (double) value of reward\n",
    "        \"\"\"\n",
    "        pass\n",
    "    \n",
    "    def check_done(self):\n",
    "        \"\"\"check whether this episode should be ended or not\n",
    "           Returns: (bool) end this episode or not\n",
    "        \"\"\"\n",
    "        pass"
   ]
  },
  {
   "cell_type": "code",
   "execution_count": 4,
   "metadata": {},
   "outputs": [],
   "source": [
    "config = wg.WbtConfig()\n",
    "config.world_size = 3\n",
    "config.num_obstacles = 0\n",
    "config.sim_mode = wg.config.SimSpeedMode.RUN"
   ]
  },
  {
   "cell_type": "code",
   "execution_count": 5,
   "metadata": {
    "tags": []
   },
   "outputs": [
    {
     "output_type": "stream",
     "name": "stdout",
     "text": "Accepting on Port:  10201\n"
    }
   ],
   "source": [
    "# normal\n",
    "env = wg.WbtGym(config=config)"
   ]
  },
  {
   "cell_type": "code",
   "execution_count": 6,
   "metadata": {},
   "outputs": [],
   "source": [
    "# custom reward class\n",
    "# env = wg.WbtGym(config=config,\n",
    "#                     evaluate_class=MyEval)"
   ]
  },
  {
   "cell_type": "code",
   "execution_count": 7,
   "metadata": {},
   "outputs": [],
   "source": [
    "%%capture output \n",
    "# captures ALL output in cell to disable tensorflow warnings\n",
    "\n",
    "model_name = \"PPO_webots_continuous\"\n",
    "model = PPO1(\"MlpPolicy\", env)"
   ]
  },
  {
   "cell_type": "code",
   "execution_count": 8,
   "metadata": {},
   "outputs": [],
   "source": [
    "time_steps = 1000\n",
    "model.learn(total_timesteps=time_steps)\n",
    "model.save(\"model/continuous/{}\".format(model_name))"
   ]
  },
  {
   "cell_type": "code",
   "execution_count": null,
   "metadata": {},
   "outputs": [],
   "source": []
  },
  {
   "cell_type": "code",
   "execution_count": null,
   "metadata": {},
   "outputs": [],
   "source": []
  }
 ],
 "metadata": {
  "kernelspec": {
   "display_name": "Python 3.6.10 64-bit ('spinningup': conda)",
   "language": "python",
   "name": "python361064bitspinningupcondad6097e1153c24e7190979e21fc7e9a2e"
  },
  "language_info": {
   "codemirror_mode": {
    "name": "ipython",
    "version": 3
   },
   "file_extension": ".py",
   "mimetype": "text/x-python",
   "name": "python",
   "nbconvert_exporter": "python",
   "pygments_lexer": "ipython3",
   "version": "3.6.10-final"
  }
 },
 "nbformat": 4,
 "nbformat_minor": 4
}
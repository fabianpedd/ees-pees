{
 "cells": [
  {
   "cell_type": "code",
   "execution_count": 9,
   "metadata": {},
   "outputs": [],
   "source": [
    "import numpy as np\n",
    "import pandas as pd\n",
    "import matplotlib.pyplot as plt\n",
    "import importlib\n",
    "\n",
    "import fakeenvironment_mini as fe"
   ]
  },
  {
   "cell_type": "code",
   "execution_count": 53,
   "metadata": {},
   "outputs": [
    {
     "data": {
      "image/png": "[encoded data removed]",
      "text/plain": [
       "<Figure size 504x504 with 1 Axes>"
      ]
     },
     "metadata": {
      "needs_background": "light"
     },
     "output_type": "display_data"
    }
   ],
   "source": [
    "importlib.reload(fe)\n",
    "env = fe.Environment()\n",
    "env.add_obstacle((3,4,1,7))\n",
    "env.add_obstacle((6,7,3,9))\n",
    "# e.add_obstacle((30,40,0,35))\n",
    "# e.add_obstacle((30,50,40,46))\n",
    "env.plot()"
   ]
  },
  {
   "cell_type": "code",
   "execution_count": 54,
   "metadata": {},
   "outputs": [],
   "source": [
    "from keras.models import Sequential\n",
    "from keras.layers import Dense\n",
    "from keras.optimizers import SGD\n",
    "model = Sequential()\n",
    "model.add(Dense(20, input_dim=6, activation='relu'))  # TODO: Use input as 2d array.\n",
    "model.add(Dense(20, activation='relu'))  # TODO: Use input as 2d array.\n",
    "model.add(Dense(4))\n",
    "model.compile(SGD(lr=0.004), 'mse')"
   ]
  },
  {
   "cell_type": "code",
   "execution_count": 55,
   "metadata": {},
   "outputs": [],
   "source": [
    "epsilon = 0.1  # probability to choose random action instead of best action\n",
    "gamma = 0.95\n",
    "batch_size = 150\n",
    "memory_size = 1000\n",
    "max_num_steps = 100"
   ]
  },
  {
   "cell_type": "code",
   "execution_count": 59,
   "metadata": {},
   "outputs": [],
   "source": [
    "memory = []\n",
    "memory_lens = []\n",
    "history = []\n",
    "loss = []\n",
    "total_rewards = []"
   ]
  },
  {
   "cell_type": "code",
   "execution_count": 60,
   "metadata": {},
   "outputs": [
    {
     "name": "stdout",
     "output_type": "stream",
     "text": [
      "============= EPOCH ==============\n",
      "============= EPOCH ==============\n",
      "============= EPOCH ==============\n",
      "============= EPOCH ==============\n",
      "============= EPOCH ==============\n",
      "============= EPOCH ==============\n",
      "============= EPOCH ==============\n",
      "============= EPOCH ==============\n",
      "============= EPOCH ==============\n",
      "============= EPOCH ==============\n",
      "============= EPOCH ==============\n",
      "============= EPOCH ==============\n",
      "============= EPOCH ==============\n",
      "============= EPOCH ==============\n",
      "============= EPOCH ==============\n",
      "============= EPOCH ==============\n",
      "============= EPOCH ==============\n",
      "============= EPOCH ==============\n",
      "============= EPOCH ==============\n",
      "============= EPOCH ==============\n",
      "============= EPOCH ==============\n",
      "============= EPOCH ==============\n",
      "============= EPOCH ==============\n",
      "============= EPOCH ==============\n",
      "============= EPOCH ==============\n",
      "============= EPOCH ==============\n",
      "============= EPOCH ==============\n",
      "============= EPOCH ==============\n",
      "============= EPOCH ==============\n",
      "============= EPOCH ==============\n",
      "============= EPOCH ==============\n",
      "============= EPOCH ==============\n",
      "============= EPOCH ==============\n",
      "============= EPOCH ==============\n",
      "============= EPOCH ==============\n",
      "============= EPOCH ==============\n",
      "============= EPOCH ==============\n",
      "============= EPOCH ==============\n",
      "============= EPOCH ==============\n",
      "============= EPOCH ==============\n",
      "============= EPOCH ==============\n",
      "============= EPOCH ==============\n",
      "============= EPOCH ==============\n",
      "============= EPOCH ==============\n",
      "============= EPOCH ==============\n",
      "============= EPOCH ==============\n",
      "============= EPOCH ==============\n",
      "============= EPOCH ==============\n",
      "============= EPOCH ==============\n",
      "============= EPOCH ==============\n"
     ]
    }
   ],
   "source": [
    "verbose = False\n",
    "\n",
    "num_epochs = 50\n",
    "for epoch, epsilon, memory_size in zip(range(num_epochs), np.linspace(1., 0.05, num_epochs), np.linspace(5000, 1000, num_epochs)):    \n",
    "    print(\"============= EPOCH ==============\")\n",
    "    state = env.reset()\n",
    "    done = False\n",
    "    loss_epoch = []\n",
    "    rewards_epoch = []\n",
    "    time = 0\n",
    "    \n",
    "    while not done and time < max_num_steps:\n",
    "        time += 1\n",
    "        \n",
    "        if np.random.rand() <= epsilon:\n",
    "            action = env.random_action()\n",
    "        else:\n",
    "            Q = model.predict(state.reshape(1, -1))\n",
    "            action = np.argmax(Q)\n",
    "\n",
    "        new_state, reward, done, info = env.step(action)\n",
    "            \n",
    "        memory.append([state, action, reward, new_state, done])\n",
    "        while len(memory) > memory_size:  # only keep the most recent experiences in memory\n",
    "            del memory[0]\n",
    "        \n",
    "        # Replay memories and train network.\n",
    "        actual_batch_size = min(batch_size, len(memory))\n",
    "        inputs = np.zeros((actual_batch_size, 6))\n",
    "        targets = np.zeros((actual_batch_size, 4))\n",
    " \n",
    "        # TODO: Maybe train multiple batches at once.\n",
    "        for i, j in enumerate(np.random.choice(len(memory), size=actual_batch_size, replace=False)):\n",
    "            s, a, r, new_s, d = memory[j]\n",
    "            inputs[i] = s.flatten()\n",
    "            Q = model.predict(s.reshape(1, -1))[0]\n",
    "            targets[i] = Q\n",
    "            if done:\n",
    "                targets[i, a] = r\n",
    "            else:\n",
    "                Q_new = model.predict(new_s.reshape(1, -1))[0]\n",
    "                targets[i, a] = r + gamma * np.max(Q_new)\n",
    "\n",
    "        loss_ = model.train_on_batch(inputs, targets)\n",
    "        loss_epoch.append(loss_)\n",
    "        rewards_epoch.append(reward)\n",
    "        \n",
    "        state = new_state    \n",
    "        \n",
    "    loss.append(np.mean(loss_epoch))\n",
    "    total_rewards.append(np.sum(rewards_epoch))\n",
    "    memory_lens.append(len(memory))"
   ]
  },
  {
   "cell_type": "code",
   "execution_count": 62,
   "metadata": {},
   "outputs": [
    {
     "data": {
      "text/plain": [
       "[<matplotlib.lines.Line2D at 0x7fc0f07be690>]"
      ]
     },
     "execution_count": 62,
     "metadata": {},
     "output_type": "execute_result"
    },
    {
     "data": {
      "image/png": "[encoded data removed]",
      "text/plain": [
       "<Figure size 432x288 with 1 Axes>"
      ]
     },
     "metadata": {
      "needs_background": "light"
     },
     "output_type": "display_data"
    }
   ],
   "source": [
    "plt.plot(loss)"
   ]
  },
  {
   "cell_type": "code",
   "execution_count": 37,
   "metadata": {},
   "outputs": [
    {
     "data": {
      "text/plain": [
       "(array([2., 3., 5., 0., 2., 1.]), 7.189750324093346, False, {})"
      ]
     },
     "execution_count": 37,
     "metadata": {},
     "output_type": "execute_result"
    }
   ],
   "source": [
    "env.step()"
   ]
  },
  {
   "cell_type": "code",
   "execution_count": 33,
   "metadata": {},
   "outputs": [
    {
     "data": {
      "text/plain": [
       "(22, [6.0, 0.0, 1.0, 1.0])"
      ]
     },
     "execution_count": 33,
     "metadata": {},
     "output_type": "execute_result"
    }
   ],
   "source": [
    "s"
   ]
  },
  {
   "cell_type": "code",
   "execution_count": 305,
   "metadata": {},
   "outputs": [
    {
     "name": "stdout",
     "output_type": "stream",
     "text": [
      "solution found with iterations: 393\n"
     ]
    }
   ],
   "source": [
    "pos = []\n",
    "rewards = []\n",
    "for i in range(5000):\n",
    "    a = env.random_action(no_crash=True)\n",
    "    s, r, done, info = env.step(a, target_gap=0)\n",
    "    pos.append(env.pos)\n",
    "    rewards.append(r)\n",
    "    if done:\n",
    "        print(\"solution found with iterations:\", i)\n",
    "        break"
   ]
  },
  {
   "cell_type": "code",
   "execution_count": 306,
   "metadata": {},
   "outputs": [
    {
     "data": {
      "text/plain": [
       "[<matplotlib.lines.Line2D at 0x7f0dc1062a50>]"
      ]
     },
     "execution_count": 306,
     "metadata": {},
     "output_type": "execute_result"
    },
    {
     "data": {
      "image/png": "[encoded data removed]",
      "text/plain": [
       "<Figure size 432x288 with 1 Axes>"
      ]
     },
     "metadata": {
      "needs_background": "light"
     },
     "output_type": "display_data"
    }
   ],
   "source": [
    "plt.plot(rewards)"
   ]
  },
  {
   "cell_type": "code",
   "execution_count": 78,
   "metadata": {},
   "outputs": [
    {
     "data": {
      "text/plain": [
       "<Figure size 720x720 with 0 Axes>"
      ]
     },
     "metadata": {},
     "output_type": "display_data"
    },
    {
     "data": {
      "image/png": "[encoded data removed]",
      "text/plain": [
       "<Figure size 432x288 with 1 Axes>"
      ]
     },
     "metadata": {
      "needs_background": "light"
     },
     "output_type": "display_data"
    }
   ],
   "source": [
    "df = pd.DataFrame(pos)\n",
    "df = df.reset_index(drop=False)\n",
    "df.columns = ['index', 'x', 'y']\n",
    "\n",
    "plt.figure(figsize=(10,10))\n",
    "df.plot.scatter(x='x', y='y', alpha=0.5)\n",
    "\n",
    "# for i, txt in enumerate(df.index):\n",
    "#     ax.annotate(txt, (df.x.iat[i],df.y.iat[i]))\n",
    "plt.show()"
   ]
  }
 ],
 "metadata": {
  "kernelspec": {
   "display_name": "Python 3",
   "language": "python",
   "name": "python3"
  },
  "language_info": {
   "codemirror_mode": {
    "name": "ipython",
    "version": 3
   },
   "file_extension": ".py",
   "mimetype": "text/x-python",
   "name": "python",
   "nbconvert_exporter": "python",
   "pygments_lexer": "ipython3",
   "version": "3.7.6"
  }
 },
 "nbformat": 4,
 "nbformat_minor": 4
}

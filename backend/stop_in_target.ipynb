{
 "cells": [
  {
   "cell_type": "code",
   "execution_count": 1,
   "metadata": {},
   "outputs": [
    {
     "name": "stdout",
     "output_type": "stream",
     "text": [
      "WARNING:tensorflow:\n",
      "The TensorFlow contrib module will not be included in TensorFlow 2.0.\n",
      "For more information, please see:\n",
      "  * https://github.com/tensorflow/community/blob/master/rfcs/20180907-contrib-sunset.md\n",
      "  * https://github.com/tensorflow/addons\n",
      "  * https://github.com/tensorflow/io (for I/O related ops)\n",
      "If you depend on functionality not listed there, please file an issue.\n",
      "\n"
     ]
    }
   ],
   "source": [
    "import webotsgym as wg\n",
    "\n",
    "from webotsgym.config import WebotConfig, SimSpeedMode\n",
    "from webotsgym.environment import WebotsEnv\n",
    "from webotsgym.evaluate import Evaluate, EvaluateMats, EvaluatePJ0\n",
    "from webotsgym.action import DiscreteAction, ContinuousAction\n",
    "from webotsgym.observation import Observation\n",
    "\n",
    "import numpy as np\n",
    "import matplotlib.pyplot as plt\n",
    "\n",
    "import gym\n",
    "import stable_baselines\n",
    "from stable_baselines import A2C, ACER, ACKTR, DQN, DDPG, SAC, PPO1, PPO2, TD3, TRPO\n",
    "from stable_baselines.common.env_checker import check_env\n",
    "from stable_baselines.common.policies import MlpPolicy"
   ]
  },
  {
   "cell_type": "code",
   "execution_count": 2,
   "metadata": {},
   "outputs": [
    {
     "name": "stderr",
     "output_type": "stream",
     "text": [
      "/home/fabian/.local/lib/python3.6/site-packages/gym/logger.py:30: UserWarning: \u001b[33mWARN: Box bound precision lowered by casting to float32\u001b[0m\n",
      "  warnings.warn(colorize('%s: %s'%('WARN', msg % args), 'yellow'))\n"
     ]
    },
    {
     "name": "stdout",
     "output_type": "stream",
     "text": [
      "Accepting on Port:  10201\n",
      "sending: env\n",
      "USE FAST MODE\n"
     ]
    }
   ],
   "source": [
    "def exponential_decay(x, N0=1, lambda_=5):\n",
    "    return N0*np.exp(-lambda_*x)\n",
    "\n",
    "class MyObs(Observation):\n",
    "    def __init__(self, env):\n",
    "        super(MyObs, self).__init__(env)\n",
    "        self.env = env\n",
    "\n",
    "class MyEval(Evaluate):\n",
    "    def __init__(self, env, config: WebotConfig = WebotConfig()):\n",
    "        super(MyEval, self).__init__(env, config)\n",
    "        self.reward_range = (-1000, 1000)\n",
    "\n",
    "    def calc_reward(self):\n",
    "        reward = -1\n",
    "        distance_norm = self.env.get_target_distance()\n",
    "        distance_abs = self.env.get_target_distance(False)\n",
    "\n",
    "        if distance_abs < 0.1 and abs(self.env.state.speed) < 0.05 and self.env.state.touching is False:\n",
    "            return 10000\n",
    "        else:\n",
    "            reward += 2500 * exponential_decay(distance_abs, lambda_=40) * exponential_decay(abs(self.env.state.speed), lambda_=10)\n",
    "        \n",
    "        if self.env.state.touching:\n",
    "            reward -= 5\n",
    "        return reward\n",
    "\n",
    "    def check_done(self):\n",
    "        if self.env.total_reward < -10000:\n",
    "            print(\"reward boundary\")\n",
    "            return True\n",
    "        if self.env.get_target_distance(False) < 0.1 and abs(self.env.state.speed) < 0.05 and self.env.state.touching is False:\n",
    "            print(\"target reached\")\n",
    "            return True\n",
    "        return False\n",
    "    \n",
    "\n",
    "config = WebotConfig()\n",
    "config.sim_mode = SimSpeedMode.RUN\n",
    "config.reset_env_after = 200000\n",
    "config.num_obstacles = 5\n",
    "config.world_size = 10\n",
    "config.world_scaling = 0.5\n",
    "\n",
    "action_class = ContinuousAction(direction_type=\"steering\", relative=False)\n",
    "env = WebotsEnv(train=True, \n",
    "                action_class=action_class, \n",
    "                evaluate_class=MyEval,\n",
    "                observation_class=MyObs,\n",
    "                config=config)"
   ]
  },
  {
   "cell_type": "code",
   "execution_count": 3,
   "metadata": {},
   "outputs": [
    {
     "name": "stdout",
     "output_type": "stream",
     "text": [
      "WARNING:tensorflow:From /home/fabian/anaconda3/envs/spinningup/lib/python3.6/site-packages/stable_baselines/common/tf_util.py:191: The name tf.ConfigProto is deprecated. Please use tf.compat.v1.ConfigProto instead.\n",
      "\n",
      "WARNING:tensorflow:From /home/fabian/anaconda3/envs/spinningup/lib/python3.6/site-packages/stable_baselines/common/tf_util.py:200: The name tf.Session is deprecated. Please use tf.compat.v1.Session instead.\n",
      "\n",
      "WARNING:tensorflow:From /home/fabian/anaconda3/envs/spinningup/lib/python3.6/site-packages/stable_baselines/common/policies.py:116: The name tf.variable_scope is deprecated. Please use tf.compat.v1.variable_scope instead.\n",
      "\n",
      "WARNING:tensorflow:From /home/fabian/anaconda3/envs/spinningup/lib/python3.6/site-packages/stable_baselines/common/input.py:25: The name tf.placeholder is deprecated. Please use tf.compat.v1.placeholder instead.\n",
      "\n",
      "WARNING:tensorflow:From /home/fabian/anaconda3/envs/spinningup/lib/python3.6/site-packages/stable_baselines/common/policies.py:561: flatten (from tensorflow.python.layers.core) is deprecated and will be removed in a future version.\n",
      "Instructions for updating:\n",
      "Use keras.layers.flatten instead.\n",
      "WARNING:tensorflow:From /home/fabian/.local/lib/python3.6/site-packages/tensorflow_core/python/layers/core.py:332: Layer.apply (from tensorflow.python.keras.engine.base_layer) is deprecated and will be removed in a future version.\n",
      "Instructions for updating:\n",
      "Please use `layer.__call__` method instead.\n",
      "WARNING:tensorflow:From /home/fabian/anaconda3/envs/spinningup/lib/python3.6/site-packages/stable_baselines/common/tf_layers.py:123: The name tf.get_variable is deprecated. Please use tf.compat.v1.get_variable instead.\n",
      "\n",
      "WARNING:tensorflow:From /home/fabian/anaconda3/envs/spinningup/lib/python3.6/site-packages/stable_baselines/common/distributions.py:418: The name tf.random_normal is deprecated. Please use tf.random.normal instead.\n",
      "\n",
      "WARNING:tensorflow:From /home/fabian/anaconda3/envs/spinningup/lib/python3.6/site-packages/stable_baselines/ppo1/pposgd_simple.py:153: The name tf.summary.scalar is deprecated. Please use tf.compat.v1.summary.scalar instead.\n",
      "\n",
      "WARNING:tensorflow:From /home/fabian/anaconda3/envs/spinningup/lib/python3.6/site-packages/stable_baselines/common/tf_util.py:449: The name tf.get_collection is deprecated. Please use tf.compat.v1.get_collection instead.\n",
      "\n",
      "WARNING:tensorflow:From /home/fabian/anaconda3/envs/spinningup/lib/python3.6/site-packages/stable_baselines/common/tf_util.py:449: The name tf.GraphKeys is deprecated. Please use tf.compat.v1.GraphKeys instead.\n",
      "\n",
      "WARNING:tensorflow:From /home/fabian/anaconda3/envs/spinningup/lib/python3.6/site-packages/stable_baselines/ppo1/pposgd_simple.py:163: The name tf.assign is deprecated. Please use tf.compat.v1.assign instead.\n",
      "\n",
      "WARNING:tensorflow:From /home/fabian/anaconda3/envs/spinningup/lib/python3.6/site-packages/stable_baselines/common/tf_util.py:241: The name tf.global_variables is deprecated. Please use tf.compat.v1.global_variables instead.\n",
      "\n",
      "WARNING:tensorflow:From /home/fabian/anaconda3/envs/spinningup/lib/python3.6/site-packages/stable_baselines/common/tf_util.py:242: The name tf.variables_initializer is deprecated. Please use tf.compat.v1.variables_initializer instead.\n",
      "\n",
      "WARNING:tensorflow:From /home/fabian/anaconda3/envs/spinningup/lib/python3.6/site-packages/stable_baselines/ppo1/pposgd_simple.py:191: The name tf.summary.merge_all is deprecated. Please use tf.compat.v1.summary.merge_all instead.\n",
      "\n",
      "WARNING:tensorflow:From /home/fabian/.local/lib/python3.6/site-packages/tensorflow_core/python/ops/math_grad.py:1424: where (from tensorflow.python.ops.array_ops) is deprecated and will be removed in a future version.\n",
      "Instructions for updating:\n",
      "Use tf.where in 2.0, which has the same broadcast rule as np.where\n"
     ]
    }
   ],
   "source": [
    "time_steps = 499999\n",
    "model_name = \"Webots_find_target_small\"\n",
    "\n",
    "model = PPO1(\"MlpPolicy\", env)"
   ]
  },
  {
   "cell_type": "code",
   "execution_count": null,
   "metadata": {},
   "outputs": [
    {
     "name": "stdout",
     "output_type": "stream",
     "text": [
      "sending: env\n",
      "USE FAST MODE\n",
      "Reward ( 500 )\t -1.0\n",
      "Reward ( 1000 )\t -1.0\n",
      "Reward ( 1500 )\t -6.0\n",
      "Reward ( 2000 )\t -1.0\n",
      "Reward ( 2500 )\t -6.0\n",
      "reward boundary\n",
      "sending: env\n",
      "USE FAST MODE\n"
     ]
    }
   ],
   "source": [
    "while True:\n",
    "    model.learn(total_timesteps=50000, log_interval=10000)\n",
    "    model.save(\"models/\" + model_name)\n",
    "\n",
    "# model = PPO1.load(\"models/{}\".format('DQN_WebotFakeMini_TRPO_pj1_nReward2_200000'))\n",
    "# env = MyEnv()\n",
    "# obs = env.reset()\n",
    "\n",
    "# env.render()\n",
    "# done = False\n",
    "# max_num_steps = 100\n",
    "# time = 0"
   ]
  },
  {
   "cell_type": "code",
   "execution_count": null,
   "metadata": {},
   "outputs": [],
   "source": [
    "model = PPO1.load(\"models/Webots_find_target_small\")\n",
    "\n",
    "def exponential_decay(x, N0=1, lambda_=5):\n",
    "    return N0*np.exp(-lambda_*x)\n",
    "\n",
    "class MyObs(Observation):\n",
    "    def __init__(self, env):\n",
    "        super(MyObs, self).__init__(env)\n",
    "        self.env = env\n",
    "\n",
    "class MyEval(Evaluate):\n",
    "    def __init__(self, env, config: WebotConfig = WebotConfig()):\n",
    "        super(MyEval, self).__init__(env, config)\n",
    "        self.reward_range = (-1000, 1000)\n",
    "\n",
    "    def calc_reward(self):\n",
    "        reward = -1\n",
    "        distance_norm = self.env.get_target_distance()\n",
    "        distance_abs = self.env.get_target_distance(False)\n",
    "\n",
    "        if distance_abs < 0.1 and abs(self.env.state.speed) < 0.05 and self.env.state.touching is False:\n",
    "            return 10000\n",
    "        else:\n",
    "            reward += 2500 * exponential_decay(distance_abs, lambda_=40) * exponential_decay(abs(self.env.state.speed), lambda_=10)\n",
    "        \n",
    "        if self.env.state.touching:\n",
    "             reward -= 5\n",
    "        return reward\n",
    "\n",
    "    def check_done(self):\n",
    "        if self.env.total_reward < -10000:\n",
    "            print(\"reward boundary\")\n",
    "            return True\n",
    "        if self.env.get_target_distance(False) < 0.1 and abs(self.env.state.speed) < 0.05 and self.env.state.touching is False:\n",
    "            print(\"target reached\")\n",
    "            return True\n",
    "        return False\n",
    "    \n",
    "\n",
    "config = WebotConfig()\n",
    "config.sim_mode = sim_mode.NORMAL\n",
    "config.reset_env_after = 200000\n",
    "config.num_obstacles = 0\n",
    "config.world_size = 2\n",
    "config.world_scaling = 0.5\n",
    "\n",
    "action_class = ContinuousAction(direction_type=\"steering\", relative=False)\n",
    "env = WebotsEnv(train=True, \n",
    "                action_class=action_class, \n",
    "                evaluate_class=MyEval,\n",
    "                observation_class=MyObs,\n",
    "                config=config)\n",
    "\n",
    "obs = env.reset()\n",
    "\n",
    "for _ in range(100000):\n",
    "    action, _states = model.predict(obs)\n",
    "    obs, rewards, done, info = env.step(action)\n",
    "    env.render()\n",
    "    if done is True:\n",
    "        break"
   ]
  }
 ],
 "metadata": {
  "kernelspec": {
   "display_name": "Python 3",
   "language": "python",
   "name": "python3"
  },
  "language_info": {
   "codemirror_mode": {
    "name": "ipython",
    "version": 3
   },
   "file_extension": ".py",
   "mimetype": "text/x-python",
   "name": "python",
   "nbconvert_exporter": "python",
   "pygments_lexer": "ipython3",
   "version": "3.6.10"
  }
 },
 "nbformat": 4,
 "nbformat_minor": 4
}

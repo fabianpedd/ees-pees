{
 "cells": [
  {
   "cell_type": "code",
   "execution_count": 48,
   "metadata": {},
   "outputs": [],
   "source": [
    "import sys\n",
    "sys.path.insert(0,'..')\n",
    "\n",
    "import numpy as np\n",
    "import pandas as pd\n",
    "import matplotlib.pyplot as plt\n",
    "\n",
    "import gym\n",
    "import stable_baselines\n",
    "from stable_baselines import A2C, ACER, ACKTR, DQN, DDPG, SAC, PPO1, PPO2, TD3, TRPO\n",
    "from stable_baselines.common.env_checker import check_env\n",
    "from stable_baselines.common.policies import MlpPolicy\n",
    "from stable_baselines.gail import ExpertDataset, generate_expert_traj\n",
    "\n",
    "from fakegym.fakegym import FakeGym\n",
    "import importlib"
   ]
  },
  {
   "cell_type": "code",
   "execution_count": 39,
   "metadata": {},
   "outputs": [
    {
     "name": "stderr",
     "output_type": "stream",
     "text": [
      "/home/pj/anaconda3/envs/spinningup/lib/python3.6/site-packages/gym/logger.py:30: UserWarning: \u001b[33mWARN: Box bound precision lowered by casting to float32\u001b[0m\n",
      "  warnings.warn(colorize('%s: %s'%('WARN', msg % args), 'yellow'))\n"
     ]
    }
   ],
   "source": [
    "class MyObservation():\n",
    "    def __init__(self, env, num_sensors=4):\n",
    "        self.env = env\n",
    "        self.num_sensors = num_sensors\n",
    "        self.gps_actual = None\n",
    "        self.gps_target = None\n",
    "        self.distance = None\n",
    "        self.touching = None\n",
    "\n",
    "    def _update(self):\n",
    "        self.gps_actual = self.env.state_object.gps_actual\n",
    "        self.gps_target = self.env.state_object.gps_target\n",
    "        self.distance = self.env.state_object.distance\n",
    "        self.touching = self.env.state_object.touching\n",
    "\n",
    "    def shape(self):\n",
    "        return (self.num_sensors + 5, )\n",
    "\n",
    "    def get(self, env):\n",
    "        \"\"\"Get observation as numpy array.\"\"\"\n",
    "        self._update()\n",
    "        \n",
    "        arr = np.empty(0)\n",
    "        arr = np.hstack((arr, np.array(self.gps_actual)))\n",
    "        arr = np.hstack((arr, np.array(self.gps_target)))\n",
    "        arr = np.hstack((arr, np.array(self.distance)))\n",
    "        arr = np.hstack((arr, np.array(self.touching)))\n",
    "        \n",
    "        return arr\n",
    "    \n",
    "    \n",
    "def exponential_decay(x, N0=1, lambda_=5):\n",
    "    return N0*np.exp(-lambda_*x)\n",
    "\n",
    "def exponential_penalty(x, step_penalty=-1, lambda_=5):\n",
    "    return step_penalty * (1 - exponential_decay(x, lambda_=lambda_))\n",
    "\n",
    "\n",
    "class MyEnv(FakeGym):\n",
    "    def __init__(self, seed=None, N=10, num_of_sensors=4, obs_len=1, obstacles_each=4,\n",
    "                 step_range=(1, 1), action_type=\"discrete\",\n",
    "                 discrete_action_shaping=\"flatten\", obs=MyObservation):\n",
    "        obs = MyObservation(self, num_of_sensors)\n",
    "        super(MyEnv, self).__init__(seed, N, num_of_sensors, obstacles_each, step_range, action_type, discrete_action_shaping, obs, obs_len=obs_len)\n",
    "        \n",
    "    def calc_reward(self):\n",
    "        if self.gps_actual == self.gps_target:\n",
    "            reward = 1000\n",
    "        else:\n",
    "            distance_normalized = self.get_target_distance(normalized=True)\n",
    "            step_base_penalty = -1\n",
    "            reward = exponential_penalty(distance_normalized, step_base_penalty)\n",
    "            if self.state_object.touching is True:\n",
    "                reward -= 100\n",
    "        return reward\n",
    "        \n",
    "        \n",
    "    def check_done(self):\n",
    "        if self.com.time_steps == 1000:\n",
    "            return True\n",
    "        if self.total_reward < -1000:\n",
    "            return True\n",
    "        if self.gps_actual == self.gps_target:\n",
    "            return True\n",
    "        return False\n",
    "\n",
    "\n",
    "env = MyEnv(N=10, num_of_sensors=4, obs_len=1, obstacles_each=3)\n",
    "check_env(env)"
   ]
  },
  {
   "cell_type": "code",
   "execution_count": 40,
   "metadata": {},
   "outputs": [],
   "source": [
    "time_steps = 4*10**4\n",
    "model_name = \"PPO_40k_4sensors_N=10_obs=3x1\"\n",
    "model = PPO1(\"MlpPolicy\", env)\n",
    "model.learn(total_timesteps=time_steps)\n",
    "model.save(\"../models/fake/{}\".format(model_name))"
   ]
  },
  {
   "cell_type": "code",
   "execution_count": 63,
   "metadata": {},
   "outputs": [],
   "source": [
    "def predict(env, seed, model, steps=100, render=False, return_val=222):\n",
    "    obs = env.reset(seed)\n",
    "    for i in range(steps):\n",
    "        if render is True:\n",
    "            env.render()\n",
    "        action, _states = model.predict(obs)\n",
    "        obs, rewards, done, info = env.step(action)\n",
    "        if done is True:\n",
    "            return i\n",
    "    return return_val"
   ]
  },
  {
   "cell_type": "code",
   "execution_count": 64,
   "metadata": {},
   "outputs": [
    {
     "name": "stderr",
     "output_type": "stream",
     "text": [
      "/home/pj/anaconda3/envs/spinningup/lib/python3.6/site-packages/gym/logger.py:30: UserWarning: \u001b[33mWARN: Box bound precision lowered by casting to float32\u001b[0m\n",
      "  warnings.warn(colorize('%s: %s'%('WARN', msg % args), 'yellow'))\n"
     ]
    }
   ],
   "source": [
    "# env settings\n",
    "N = 10\n",
    "obs_len = 1\n",
    "obstacles_each = 3\n",
    "\n",
    "# model loading\n",
    "model1 = PPO1.load(\"../models/fake/{}\".format(\"PPO_40k_4sensors_N=10_obs=3x1\"))\n",
    "model2 = PPO1.load(\"../models/fake/{}\".format(\"PPO_40k_8sensors_N=10_obs=3x1\"))\n",
    "models = [model1, model2]\n",
    "sensors = [4, 8]\n",
    "names = [\"4sensors\", \"8sensors\"]\n",
    "models_d = dict(zip(models, sensors))\n",
    "\n",
    "# run simulations\n",
    "res_all = np.empty((0, len(models)))\n",
    "num_of_steps = 200\n",
    "num_of_envs = 1000\n",
    "for env_seed in range(num_of_envs):\n",
    "    res_env = np.empty(len(models))\n",
    "    for model_idx, model in enumerate(list(models_d.keys())):\n",
    "        num_sensors = models_d[model]\n",
    "        env = MyEnv(N=N, obs_len=obs_len, obstacles_each=obstacles_each, num_of_sensors=num_sensors)\n",
    "        res_env[model_idx] = predict(env, env_seed, model, num_of_steps)\n",
    "    res_all = np.vstack((res_all, res_env))\n",
    "    \n",
    "df = pd.DataFrame(res_all)\n",
    "df.columns = names"
   ]
  },
  {
   "cell_type": "code",
   "execution_count": 68,
   "metadata": {},
   "outputs": [],
   "source": [
    "import matplotlib.pylab as pylab\n",
    "params = {'legend.fontsize': 'x-large',\n",
    "          'figure.figsize': (15, 5),\n",
    "         'axes.labelsize': 'x-large',\n",
    "         'axes.titlesize':'x-large',\n",
    "         'xtick.labelsize':'x-large',\n",
    "         'ytick.labelsize':'x-large'}\n",
    "pylab.rcParams.update(params)"
   ]
  },
  {
   "cell_type": "code",
   "execution_count": 69,
   "metadata": {},
   "outputs": [
    {
     "data": {
      "text/plain": [
       "<matplotlib.axes._subplots.AxesSubplot at 0x7fb85efc05f8>"
      ]
     },
     "execution_count": 69,
     "metadata": {},
     "output_type": "execute_result"
    },
    {
     "data": {
      "image/png": "[encoded data removed]",
      "text/plain": [
       "<Figure size 720x576 with 1 Axes>"
      ]
     },
     "metadata": {
      "needs_background": "light"
     },
     "output_type": "display_data"
    }
   ],
   "source": [
    "df.plot(kind='hist', bins=50, alpha=0.3, figsize=(10, 8))"
   ]
  }
 ],
 "metadata": {
  "kernelspec": {
   "display_name": "Python 3",
   "language": "python",
   "name": "python3"
  }
 },
 "nbformat": 4,
 "nbformat_minor": 4
}

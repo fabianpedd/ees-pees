{
 "cells": [
  {
   "cell_type": "code",
   "execution_count": 1,
   "metadata": {},
   "outputs": [
    {
     "name": "stdout",
     "output_type": "stream",
     "text": [
      "WARNING:tensorflow:\n",
      "The TensorFlow contrib module will not be included in TensorFlow 2.0.\n",
      "For more information, please see:\n",
      "  * https://github.com/tensorflow/community/blob/master/rfcs/20180907-contrib-sunset.md\n",
      "  * https://github.com/tensorflow/addons\n",
      "  * https://github.com/tensorflow/io (for I/O related ops)\n",
      "If you depend on functionality not listed there, please file an issue.\n",
      "\n"
     ]
    }
   ],
   "source": [
    "import numpy as np\n",
    "\n",
    "import gym\n",
    "import stable_baselines\n",
    "from stable_baselines import A2C, ACER, ACKTR, DQN, DDPG, SAC, PPO1, PPO2, TD3, TRPO\n",
    "from stable_baselines.common.env_checker import check_env\n",
    "from stable_baselines.common.policies import MlpPolicy\n",
    "\n",
    "import fakegym as fg\n",
    "import importlib"
   ]
  },
  {
   "cell_type": "code",
   "execution_count": 2,
   "metadata": {},
   "outputs": [
    {
     "name": "stderr",
     "output_type": "stream",
     "text": [
      "/home/mats/anaconda3/lib/python3.7/site-packages/gym/logger.py:30: UserWarning: \u001b[33mWARN: Box bound precision lowered by casting to float32\u001b[0m\n",
      "  warnings.warn(colorize('%s: %s'%('WARN', msg % args), 'yellow'))\n"
     ]
    },
    {
     "data": {
      "text/plain": [
       "<Figure size 720x720 with 0 Axes>"
      ]
     },
     "metadata": {},
     "output_type": "display_data"
    },
    {
     "data": {
      "image/png": "[encoded data removed]",
      "text/plain": [
       "<Figure size 288x288 with 1 Axes>"
      ]
     },
     "metadata": {
      "needs_background": "light"
     },
     "output_type": "display_data"
    }
   ],
   "source": [
    "importlib.reload(fg)\n",
    "\n",
    "class MyObservation():\n",
    "    def __init__(self, env):\n",
    "        self.env = env\n",
    "        self.gps_actual = None\n",
    "        self.gps_target = None\n",
    "        # self.distance = None\n",
    "        # self.touching = None\n",
    "\n",
    "    def _update(self):\n",
    "        self.gps_actual = self.env.state_object.gps_actual\n",
    "        self.gps_target = self.env.state_object.gps_target\n",
    "        # self.distance = self.env.state_object.distance\n",
    "        # self.touching = self.env.state_object.touching\n",
    "\n",
    "    def shape(self):\n",
    "        \"\"\"Make sure length is correct here.In this example:\n",
    "        gps_actual: 2\n",
    "        gps_target: 2\n",
    "        distance:   4\n",
    "        touching:   1\n",
    "        =================\n",
    "                   (9, )\n",
    "        \n",
    "        \"\"\"\n",
    "        return (4, )\n",
    "\n",
    "    def get(self, env):\n",
    "        \"\"\"Get observation as numpy array.\"\"\"\n",
    "        self._update()\n",
    "        \n",
    "        arr = np.empty(0)\n",
    "        arr = np.hstack((arr, np.array(self.gps_actual)))\n",
    "        arr = np.hstack((arr, np.array(self.gps_target)))\n",
    "        # arr = np.hstack((arr, np.array(self.distance)))\n",
    "        # arr = np.hstack((arr, np.array(self.touching)))\n",
    "        \n",
    "        return arr\n",
    "    \n",
    "\n",
    "class MyEnv(fg.FakeGym):\n",
    "    def __init__(self, seed=None, N=10, num_of_sensors=4, obstacles_each=0,\n",
    "                 step_range=(1, 1), action_type=\"discrete\",\n",
    "                 discrete_action_shaping=\"flatten\", obs=MyObservation):\n",
    "        super(MyEnv, self).__init__(seed, N, num_of_sensors, obstacles_each, step_range, action_type, discrete_action_shaping, obs)\n",
    "        \n",
    "\n",
    "    def calc_reward(self):\n",
    "        \"\"\"Calculate reward function.\n",
    "\n",
    "        Idea(Mats):\n",
    "        \n",
    "\n",
    "        \"\"\"\n",
    "        if self.gps_actual == self.gps_target:\n",
    "            reward = 1000\n",
    "        else:\n",
    "            target_distance = self.get_target_distance()\n",
    "            max_distance = 8\n",
    "            reward = -1 * np.tanh(target_distance/(max_distance/2))\n",
    "            if self.com.state.touching:\n",
    "                reward = reward - 10\n",
    "        return reward\n",
    "        \n",
    "        \n",
    "    def check_done(self):\n",
    "        if self.com.time_steps == 100:\n",
    "            return True\n",
    "        if self.gps_actual == self.gps_target:\n",
    "            return True\n",
    "        return False\n",
    "\n",
    "\n",
    "env = MyEnv()\n",
    "check_env(env)\n",
    "env.render()"
   ]
  },
  {
   "cell_type": "code",
   "execution_count": 4,
   "metadata": {},
   "outputs": [
    {
     "name": "stdout",
     "output_type": "stream",
     "text": [
      "********** Iteration 0 ************\n",
      "Optimizing...\n",
      "     pol_surr |    pol_entpen |       vf_loss |            kl |           ent\n",
      "      0.00105 |      -0.01385 |      2.40e+04 |       0.00104 |       1.38541\n",
      "     -0.00883 |      -0.01382 |      2.40e+04 |       0.00475 |       1.38200\n",
      "     -0.01353 |      -0.01376 |      2.40e+04 |       0.01060 |       1.37633\n",
      "     -0.01363 |      -0.01371 |      2.39e+04 |       0.01639 |       1.37070\n",
      "Evaluating losses...\n",
      "     -0.01420 |      -0.01369 |      2.39e+04 |       0.01853 |       1.36866\n",
      "----------------------------------\n",
      "| EpLenMean       | 70.3         |\n",
      "| EpRewMean       | 197          |\n",
      "| EpThisIter      | 3            |\n",
      "| EpisodesSoFar   | 3            |\n",
      "| TimeElapsed     | 0.752        |\n",
      "| TimestepsSoFar  | 256          |\n",
      "| ev_tdlam_before | -0.000313    |\n",
      "| loss_ent        | 1.3686564    |\n",
      "| loss_kl         | 0.018525003  |\n",
      "| loss_pol_entpen | -0.013686564 |\n",
      "| loss_pol_surr   | -0.014198221 |\n",
      "| loss_vf_loss    | 23931.32     |\n",
      "----------------------------------\n",
      "********** Iteration 1 ************\n",
      "Optimizing...\n",
      "     pol_surr |    pol_entpen |       vf_loss |            kl |           ent\n",
      "     -0.00385 |      -0.01376 |     562.45703 |       0.00018 |       1.37583\n",
      "     -0.02009 |      -0.01381 |     553.59125 |       0.00345 |       1.38073\n",
      "     -0.03083 |      -0.01382 |     535.63123 |       0.01296 |       1.38225\n",
      "     -0.02890 |      -0.01381 |     512.70081 |       0.02012 |       1.38077\n",
      "Evaluating losses...\n",
      "     -0.03324 |      -0.01380 |     497.60559 |       0.02054 |       1.38004\n",
      "----------------------------------\n",
      "| EpLenMean       | 82.6         |\n",
      "| EpRewMean       | 34.1         |\n",
      "| EpThisIter      | 2            |\n",
      "| EpisodesSoFar   | 5            |\n",
      "| TimeElapsed     | 1.2          |\n",
      "| TimestepsSoFar  | 512          |\n",
      "| ev_tdlam_before | -0.00225     |\n",
      "| loss_ent        | 1.3800375    |\n",
      "| loss_kl         | 0.020539017  |\n",
      "| loss_pol_entpen | -0.013800376 |\n",
      "| loss_pol_surr   | -0.033241212 |\n",
      "| loss_vf_loss    | 497.6056     |\n",
      "----------------------------------\n",
      "********** Iteration 2 ************\n",
      "Optimizing...\n",
      "     pol_surr |    pol_entpen |       vf_loss |            kl |           ent\n",
      "     -0.00183 |      -0.01380 |     156.98175 |       0.00014 |       1.37990\n",
      "     -0.00933 |      -0.01376 |     147.78696 |       0.00156 |       1.37642\n",
      "     -0.01948 |      -0.01369 |     140.28966 |       0.00573 |       1.36903\n",
      "     -0.02956 |      -0.01358 |     133.73289 |       0.01340 |       1.35834\n",
      "Evaluating losses...\n",
      "     -0.03032 |      -0.01352 |     130.05420 |       0.01818 |       1.35199\n",
      "----------------------------------\n",
      "| EpLenMean       | 89.5         |\n",
      "| EpRewMean       | -16.7        |\n",
      "| EpThisIter      | 3            |\n",
      "| EpisodesSoFar   | 8            |\n",
      "| TimeElapsed     | 1.66         |\n",
      "| TimestepsSoFar  | 768          |\n",
      "| ev_tdlam_before | -0.00212     |\n",
      "| loss_ent        | 1.3519888    |\n",
      "| loss_kl         | 0.018175732  |\n",
      "| loss_pol_entpen | -0.013519886 |\n",
      "| loss_pol_surr   | -0.030324645 |\n",
      "| loss_vf_loss    | 130.0542     |\n",
      "----------------------------------\n",
      "********** Iteration 3 ************\n",
      "Optimizing...\n",
      "     pol_surr |    pol_entpen |       vf_loss |            kl |           ent\n",
      "     -0.00027 |      -0.01371 |      7.84e+04 |      6.77e-05 |       1.37134\n",
      "     -0.00349 |      -0.01367 |      7.83e+04 |       0.00121 |       1.36720\n",
      "     -0.00809 |      -0.01361 |      7.81e+04 |       0.00522 |       1.36072\n",
      "     -0.01107 |      -0.01354 |      7.78e+04 |       0.00982 |       1.35392\n",
      "Evaluating losses...\n",
      "     -0.01288 |      -0.01353 |      7.77e+04 |       0.01014 |       1.35276\n",
      "----------------------------------\n",
      "| EpLenMean       | 78.5         |\n",
      "| EpRewMean       | 202          |\n",
      "| EpThisIter      | 5            |\n",
      "| EpisodesSoFar   | 13           |\n",
      "| TimeElapsed     | 2.11         |\n",
      "| TimestepsSoFar  | 1024         |\n",
      "| ev_tdlam_before | 0.000691     |\n",
      "| loss_ent        | 1.3527584    |\n",
      "| loss_kl         | 0.010142507  |\n",
      "| loss_pol_entpen | -0.013527584 |\n",
      "| loss_pol_surr   | -0.012876095 |\n",
      "| loss_vf_loss    | 77679.75     |\n",
      "----------------------------------\n",
      "********** Iteration 4 ************\n",
      "Optimizing...\n",
      "     pol_surr |    pol_entpen |       vf_loss |            kl |           ent\n",
      "     -0.00036 |      -0.01363 |      2.85e+04 |       0.00016 |       1.36313\n",
      "     -0.00701 |      -0.01359 |      2.85e+04 |       0.00233 |       1.35867\n",
      "     -0.01084 |      -0.01351 |      2.84e+04 |       0.00704 |       1.35092\n",
      "     -0.01624 |      -0.01344 |      2.84e+04 |       0.01047 |       1.34351\n",
      "Evaluating losses...\n",
      "     -0.01663 |      -0.01340 |      2.84e+04 |       0.01270 |       1.33977\n",
      "----------------------------------\n",
      "| EpLenMean       | 77.4         |\n",
      "| EpRewMean       | 214          |\n",
      "| EpThisIter      | 3            |\n",
      "| EpisodesSoFar   | 16           |\n",
      "| TimeElapsed     | 2.57         |\n",
      "| TimestepsSoFar  | 1280         |\n",
      "| ev_tdlam_before | 0.00288      |\n",
      "| loss_ent        | 1.3397691    |\n",
      "| loss_kl         | 0.012695234  |\n",
      "| loss_pol_entpen | -0.013397692 |\n",
      "| loss_pol_surr   | -0.016634494 |\n",
      "| loss_vf_loss    | 28356.914    |\n",
      "----------------------------------\n",
      "********** Iteration 5 ************\n",
      "Optimizing...\n",
      "     pol_surr |    pol_entpen |       vf_loss |            kl |           ent\n",
      "      0.00202 |      -0.01352 |      1.24e+05 |       0.00025 |       1.35243\n",
      "     -0.00258 |      -0.01351 |      1.24e+05 |       0.00159 |       1.35084\n",
      "     -0.01291 |      -0.01353 |      1.24e+05 |       0.00612 |       1.35311\n",
      "     -0.01839 |      -0.01353 |      1.23e+05 |       0.01644 |       1.35258\n",
      "Evaluating losses...\n",
      "     -0.01731 |      -0.01354 |      1.23e+05 |       0.01923 |       1.35377\n",
      "----------------------------------\n",
      "| EpLenMean       | 67.2         |\n",
      "| EpRewMean       | 371          |\n",
      "| EpThisIter      | 6            |\n",
      "| EpisodesSoFar   | 22           |\n",
      "| TimeElapsed     | 3.04         |\n",
      "| TimestepsSoFar  | 1536         |\n",
      "| ev_tdlam_before | -0.00124     |\n",
      "| loss_ent        | 1.3537706    |\n",
      "| loss_kl         | 0.01922598   |\n",
      "| loss_pol_entpen | -0.013537707 |\n",
      "| loss_pol_surr   | -0.017309971 |\n",
      "| loss_vf_loss    | 123253.11    |\n",
      "----------------------------------\n",
      "********** Iteration 6 ************\n",
      "Optimizing...\n",
      "     pol_surr |    pol_entpen |       vf_loss |            kl |           ent\n",
      "     -0.00037 |      -0.01362 |      1.49e+05 |       0.00035 |       1.36216\n",
      "     -0.00578 |      -0.01358 |      1.49e+05 |       0.00361 |       1.35771\n",
      "     -0.00989 |      -0.01352 |      1.49e+05 |       0.00884 |       1.35199\n",
      "     -0.01344 |      -0.01353 |      1.48e+05 |       0.00803 |       1.35341\n",
      "Evaluating losses...\n",
      "     -0.01558 |      -0.01355 |      1.48e+05 |       0.00669 |       1.35523\n",
      "-----------------------------------\n",
      "| EpLenMean       | 65.8          |\n",
      "| EpRewMean       | 478           |\n",
      "| EpThisIter      | 5             |\n",
      "| EpisodesSoFar   | 27            |\n",
      "| TimeElapsed     | 3.48          |\n",
      "| TimestepsSoFar  | 1792          |\n",
      "| ev_tdlam_before | 0.00011       |\n",
      "| loss_ent        | 1.3552262     |\n",
      "| loss_kl         | 0.0066874274  |\n",
      "| loss_pol_entpen | -0.0135522615 |\n",
      "| loss_pol_surr   | -0.015579397  |\n",
      "| loss_vf_loss    | 148068.6      |\n",
      "-----------------------------------\n",
      "********** Iteration 7 ************\n",
      "Optimizing...\n",
      "     pol_surr |    pol_entpen |       vf_loss |            kl |           ent\n",
      "     -0.00020 |      -0.01351 |      2.06e+05 |       0.00020 |       1.35111\n",
      "     -0.00605 |      -0.01346 |      2.06e+05 |       0.00190 |       1.34576\n",
      "     -0.01447 |      -0.01336 |      2.05e+05 |       0.00590 |       1.33581\n",
      "     -0.01939 |      -0.01326 |      2.05e+05 |       0.00949 |       1.32627\n",
      "Evaluating losses...\n",
      "     -0.02469 |      -0.01322 |      2.05e+05 |       0.01009 |       1.32218\n",
      "----------------------------------\n",
      "| EpLenMean       | 58.3         |\n",
      "| EpRewMean       | 591          |\n",
      "| EpThisIter      | 8            |\n",
      "| EpisodesSoFar   | 35           |\n",
      "| TimeElapsed     | 3.93         |\n",
      "| TimestepsSoFar  | 2048         |\n",
      "| ev_tdlam_before | -0.000161    |\n",
      "| loss_ent        | 1.3221837    |\n",
      "| loss_kl         | 0.010085847  |\n",
      "| loss_pol_entpen | -0.013221837 |\n",
      "| loss_pol_surr   | -0.024693487 |\n",
      "| loss_vf_loss    | 204880.0     |\n",
      "----------------------------------\n"
     ]
    },
    {
     "name": "stdout",
     "output_type": "stream",
     "text": [
      "********** Iteration 8 ************\n",
      "Optimizing...\n",
      "     pol_surr |    pol_entpen |       vf_loss |            kl |           ent\n",
      "     -0.00441 |      -0.01337 |      2.48e+05 |       0.00051 |       1.33704\n",
      "     -0.01566 |      -0.01331 |      2.48e+05 |       0.00632 |       1.33074\n",
      "     -0.01552 |      -0.01322 |      2.48e+05 |       0.01483 |       1.32182\n",
      "     -0.02050 |      -0.01320 |      2.47e+05 |       0.01171 |       1.32033\n",
      "Evaluating losses...\n",
      "     -0.02384 |      -0.01321 |      2.47e+05 |       0.00720 |       1.32070\n",
      "----------------------------------\n",
      "| EpLenMean       | 50.7         |\n",
      "| EpRewMean       | 679          |\n",
      "| EpThisIter      | 10           |\n",
      "| EpisodesSoFar   | 45           |\n",
      "| TimeElapsed     | 4.4          |\n",
      "| TimestepsSoFar  | 2304         |\n",
      "| ev_tdlam_before | -8.85e-05    |\n",
      "| loss_ent        | 1.3206977    |\n",
      "| loss_kl         | 0.007201977  |\n",
      "| loss_pol_entpen | -0.013206976 |\n",
      "| loss_pol_surr   | -0.023836657 |\n",
      "| loss_vf_loss    | 246781.02    |\n",
      "----------------------------------\n",
      "********** Iteration 9 ************\n",
      "Optimizing...\n",
      "     pol_surr |    pol_entpen |       vf_loss |            kl |           ent\n",
      "     -0.00014 |      -0.01328 |      2.64e+05 |      1.96e-05 |       1.32837\n",
      "     -0.00486 |      -0.01321 |      2.64e+05 |       0.00143 |       1.32147\n",
      "     -0.01153 |      -0.01305 |      2.63e+05 |       0.01064 |       1.30530\n",
      "     -0.01187 |      -0.01292 |      2.63e+05 |       0.01987 |       1.29228\n",
      "Evaluating losses...\n",
      "     -0.01467 |      -0.01293 |      2.63e+05 |       0.01864 |       1.29280\n",
      "----------------------------------\n",
      "| EpLenMean       | 47.1         |\n",
      "| EpRewMean       | 729          |\n",
      "| EpThisIter      | 9            |\n",
      "| EpisodesSoFar   | 54           |\n",
      "| TimeElapsed     | 4.85         |\n",
      "| TimestepsSoFar  | 2560         |\n",
      "| ev_tdlam_before | -0.000166    |\n",
      "| loss_ent        | 1.2928023    |\n",
      "| loss_kl         | 0.018636184  |\n",
      "| loss_pol_entpen | -0.012928023 |\n",
      "| loss_pol_surr   | -0.01466809  |\n",
      "| loss_vf_loss    | 262634.72    |\n",
      "----------------------------------\n",
      "********** Iteration 10 ************\n",
      "Optimizing...\n",
      "     pol_surr |    pol_entpen |       vf_loss |            kl |           ent\n",
      "     -0.00249 |      -0.01329 |      2.00e+05 |       0.00044 |       1.32938\n",
      "     -0.01490 |      -0.01323 |      2.00e+05 |       0.00476 |       1.32300\n",
      "     -0.01508 |      -0.01313 |      1.99e+05 |       0.01302 |       1.31293\n",
      "     -0.01894 |      -0.01313 |      1.99e+05 |       0.01140 |       1.31257\n",
      "Evaluating losses...\n",
      "     -0.02408 |      -0.01316 |      1.99e+05 |       0.00759 |       1.31589\n",
      "----------------------------------\n",
      "| EpLenMean       | 45.9         |\n",
      "| EpRewMean       | 759          |\n",
      "| EpThisIter      | 7            |\n",
      "| EpisodesSoFar   | 61           |\n",
      "| TimeElapsed     | 5.3          |\n",
      "| TimestepsSoFar  | 2816         |\n",
      "| ev_tdlam_before | -1.72e-05    |\n",
      "| loss_ent        | 1.315886     |\n",
      "| loss_kl         | 0.00758527   |\n",
      "| loss_pol_entpen | -0.01315886  |\n",
      "| loss_pol_surr   | -0.024082005 |\n",
      "| loss_vf_loss    | 199062.34    |\n",
      "----------------------------------\n",
      "********** Iteration 11 ************\n",
      "Optimizing...\n",
      "     pol_surr |    pol_entpen |       vf_loss |            kl |           ent\n",
      "      0.00139 |      -0.01309 |      2.66e+05 |       0.00016 |       1.30891\n",
      "     -0.00366 |      -0.01305 |      2.65e+05 |       0.00068 |       1.30458\n",
      "     -0.01509 |      -0.01298 |      2.65e+05 |       0.00276 |       1.29849\n",
      "     -0.02620 |      -0.01289 |      2.65e+05 |       0.00901 |       1.28877\n",
      "Evaluating losses...\n",
      "     -0.02725 |      -0.01282 |      2.65e+05 |       0.01314 |       1.28243\n",
      "----------------------------------\n",
      "| EpLenMean       | 43.2         |\n",
      "| EpRewMean       | 789          |\n",
      "| EpThisIter      | 10           |\n",
      "| EpisodesSoFar   | 71           |\n",
      "| TimeElapsed     | 5.78         |\n",
      "| TimestepsSoFar  | 3072         |\n",
      "| ev_tdlam_before | 1.16e-05     |\n",
      "| loss_ent        | 1.2824274    |\n",
      "| loss_kl         | 0.013143056  |\n",
      "| loss_pol_entpen | -0.012824275 |\n",
      "| loss_pol_surr   | -0.02724865  |\n",
      "| loss_vf_loss    | 264546.47    |\n",
      "----------------------------------\n",
      "********** Iteration 12 ************\n",
      "Optimizing...\n",
      "     pol_surr |    pol_entpen |       vf_loss |            kl |           ent\n",
      "     -0.00190 |      -0.01289 |      3.67e+05 |       0.00014 |       1.28868\n",
      "     -0.00931 |      -0.01276 |      3.66e+05 |       0.00200 |       1.27569\n",
      "     -0.01891 |      -0.01258 |      3.66e+05 |       0.00735 |       1.25816\n",
      "     -0.02048 |      -0.01243 |      3.66e+05 |       0.01204 |       1.24334\n",
      "Evaluating losses...\n",
      "     -0.02335 |      -0.01239 |      3.65e+05 |       0.01192 |       1.23938\n",
      "----------------------------------\n",
      "| EpLenMean       | 38.8         |\n",
      "| EpRewMean       | 823          |\n",
      "| EpThisIter      | 14           |\n",
      "| EpisodesSoFar   | 85           |\n",
      "| TimeElapsed     | 6.28         |\n",
      "| TimestepsSoFar  | 3328         |\n",
      "| ev_tdlam_before | -2.19e-05    |\n",
      "| loss_ent        | 1.2393768    |\n",
      "| loss_kl         | 0.011921503  |\n",
      "| loss_pol_entpen | -0.012393767 |\n",
      "| loss_pol_surr   | -0.023353923 |\n",
      "| loss_vf_loss    | 365363.28    |\n",
      "----------------------------------\n",
      "********** Iteration 13 ************\n",
      "Optimizing...\n",
      "     pol_surr |    pol_entpen |       vf_loss |            kl |           ent\n",
      "     -0.00267 |      -0.01288 |      1.55e+05 |       0.00085 |       1.28832\n",
      "     -0.01060 |      -0.01273 |      1.55e+05 |       0.00807 |       1.27265\n",
      "     -0.00948 |      -0.01264 |      1.55e+05 |       0.01119 |       1.26366\n",
      "     -0.01333 |      -0.01264 |      1.55e+05 |       0.00804 |       1.26359\n",
      "Evaluating losses...\n",
      "     -0.01670 |      -0.01263 |      1.55e+05 |       0.00785 |       1.26260\n",
      "----------------------------------\n",
      "| EpLenMean       | 38.7         |\n",
      "| EpRewMean       | 824          |\n",
      "| EpThisIter      | 7            |\n",
      "| EpisodesSoFar   | 92           |\n",
      "| TimeElapsed     | 6.83         |\n",
      "| TimestepsSoFar  | 3584         |\n",
      "| ev_tdlam_before | -2.11e-05    |\n",
      "| loss_ent        | 1.2626023    |\n",
      "| loss_kl         | 0.007849638  |\n",
      "| loss_pol_entpen | -0.012626024 |\n",
      "| loss_pol_surr   | -0.016703524 |\n",
      "| loss_vf_loss    | 154991.16    |\n",
      "----------------------------------\n",
      "********** Iteration 14 ************\n",
      "Optimizing...\n",
      "     pol_surr |    pol_entpen |       vf_loss |            kl |           ent\n",
      "      0.00039 |      -0.01244 |      3.45e+05 |      4.01e-05 |       1.24389\n",
      "     -0.00281 |      -0.01238 |      3.45e+05 |       0.00037 |       1.23814\n",
      "     -0.01027 |      -0.01228 |      3.44e+05 |       0.00166 |       1.22769\n",
      "     -0.01559 |      -0.01209 |      3.44e+05 |       0.00652 |       1.20896\n",
      "Evaluating losses...\n",
      "     -0.01896 |      -0.01197 |      3.44e+05 |       0.01032 |       1.19711\n",
      "----------------------------------\n",
      "| EpLenMean       | 33.3         |\n",
      "| EpRewMean       | 896          |\n",
      "| EpThisIter      | 14           |\n",
      "| EpisodesSoFar   | 106          |\n",
      "| TimeElapsed     | 7.27         |\n",
      "| TimestepsSoFar  | 3840         |\n",
      "| ev_tdlam_before | -1.07e-06    |\n",
      "| loss_ent        | 1.1971102    |\n",
      "| loss_kl         | 0.010315764  |\n",
      "| loss_pol_entpen | -0.011971101 |\n",
      "| loss_pol_surr   | -0.018958047 |\n",
      "| loss_vf_loss    | 343769.3     |\n",
      "----------------------------------\n",
      "********** Iteration 15 ************\n",
      "Optimizing...\n",
      "     pol_surr |    pol_entpen |       vf_loss |            kl |           ent\n",
      "    -4.18e-05 |      -0.01210 |      3.30e+05 |       0.00047 |       1.21033\n",
      "     -0.01690 |      -0.01197 |      3.29e+05 |       0.00388 |       1.19691\n",
      "     -0.01743 |      -0.01190 |      3.29e+05 |       0.00990 |       1.18987\n",
      "     -0.02285 |      -0.01185 |      3.29e+05 |       0.00984 |       1.18523\n",
      "Evaluating losses...\n",
      "     -0.02722 |      -0.01180 |      3.29e+05 |       0.00770 |       1.18001\n",
      "----------------------------------\n",
      "| EpLenMean       | 27.2         |\n",
      "| EpRewMean       | 960          |\n",
      "| EpThisIter      | 14           |\n",
      "| EpisodesSoFar   | 120          |\n",
      "| TimeElapsed     | 7.73         |\n",
      "| TimestepsSoFar  | 4096         |\n",
      "| ev_tdlam_before | 5.25e-06     |\n",
      "| loss_ent        | 1.1800106    |\n",
      "| loss_kl         | 0.0077036214 |\n",
      "| loss_pol_entpen | -0.011800106 |\n",
      "| loss_pol_surr   | -0.027218789 |\n",
      "| loss_vf_loss    | 328678.62    |\n",
      "----------------------------------\n"
     ]
    },
    {
     "name": "stdout",
     "output_type": "stream",
     "text": [
      "********** Iteration 16 ************\n",
      "Optimizing...\n",
      "     pol_surr |    pol_entpen |       vf_loss |            kl |           ent\n",
      "     8.56e-05 |      -0.01180 |      4.27e+05 |       0.00056 |       1.17962\n",
      "     -0.00455 |      -0.01167 |      4.26e+05 |       0.00424 |       1.16720\n",
      "     -0.01911 |      -0.01155 |      4.26e+05 |       0.00501 |       1.15462\n",
      "     -0.02398 |      -0.01143 |      4.25e+05 |       0.00544 |       1.14334\n",
      "Evaluating losses...\n",
      "     -0.02519 |      -0.01135 |      4.25e+05 |       0.00796 |       1.13540\n",
      "----------------------------------\n",
      "| EpLenMean       | 21.8         |\n",
      "| EpRewMean       | 975          |\n",
      "| EpThisIter      | 19           |\n",
      "| EpisodesSoFar   | 139          |\n",
      "| TimeElapsed     | 8.18         |\n",
      "| TimestepsSoFar  | 4352         |\n",
      "| ev_tdlam_before | -3.22e-06    |\n",
      "| loss_ent        | 1.135396     |\n",
      "| loss_kl         | 0.007959828  |\n",
      "| loss_pol_entpen | -0.01135396  |\n",
      "| loss_pol_surr   | -0.025188763 |\n",
      "| loss_vf_loss    | 425209.0     |\n",
      "----------------------------------\n",
      "********** Iteration 17 ************\n",
      "Optimizing...\n",
      "     pol_surr |    pol_entpen |       vf_loss |            kl |           ent\n",
      "      0.00024 |      -0.01157 |      4.19e+05 |       0.00035 |       1.15651\n",
      "     -0.00678 |      -0.01142 |      4.18e+05 |       0.00408 |       1.14233\n",
      "     -0.00837 |      -0.01128 |      4.18e+05 |       0.00918 |       1.12840\n",
      "     -0.01517 |      -0.01126 |      4.18e+05 |       0.00701 |       1.12585\n",
      "Evaluating losses...\n",
      "     -0.01729 |      -0.01126 |      4.17e+05 |       0.00481 |       1.12620\n",
      "----------------------------------\n",
      "| EpLenMean       | 18.7         |\n",
      "| EpRewMean       | 978          |\n",
      "| EpThisIter      | 20           |\n",
      "| EpisodesSoFar   | 159          |\n",
      "| TimeElapsed     | 8.63         |\n",
      "| TimestepsSoFar  | 4608         |\n",
      "| ev_tdlam_before | -1.13e-05    |\n",
      "| loss_ent        | 1.1262038    |\n",
      "| loss_kl         | 0.0048080524 |\n",
      "| loss_pol_entpen | -0.011262037 |\n",
      "| loss_pol_surr   | -0.017290445 |\n",
      "| loss_vf_loss    | 417460.25    |\n",
      "----------------------------------\n",
      "********** Iteration 18 ************\n",
      "Optimizing...\n",
      "     pol_surr |    pol_entpen |       vf_loss |            kl |           ent\n",
      "     -0.00242 |      -0.01065 |      4.78e+05 |       0.00035 |       1.06480\n",
      "     -0.01622 |      -0.01048 |      4.77e+05 |       0.00391 |       1.04793\n",
      "     -0.01832 |      -0.01033 |      4.77e+05 |       0.00729 |       1.03266\n",
      "     -0.02343 |      -0.01021 |      4.76e+05 |       0.00703 |       1.02090\n",
      "Evaluating losses...\n",
      "     -0.02615 |      -0.01016 |      4.76e+05 |       0.00689 |       1.01588\n",
      "----------------------------------\n",
      "| EpLenMean       | 15.8         |\n",
      "| EpRewMean       | 980          |\n",
      "| EpThisIter      | 23           |\n",
      "| EpisodesSoFar   | 182          |\n",
      "| TimeElapsed     | 9.06         |\n",
      "| TimestepsSoFar  | 4864         |\n",
      "| ev_tdlam_before | -1.06e-05    |\n",
      "| loss_ent        | 1.0158825    |\n",
      "| loss_kl         | 0.0068889954 |\n",
      "| loss_pol_entpen | -0.010158824 |\n",
      "| loss_pol_surr   | -0.026150491 |\n",
      "| loss_vf_loss    | 476175.25    |\n",
      "----------------------------------\n",
      "********** Iteration 19 ************\n",
      "Optimizing...\n",
      "     pol_surr |    pol_entpen |       vf_loss |            kl |           ent\n",
      "     -0.00600 |      -0.01071 |      4.87e+05 |       0.00099 |       1.07131\n",
      "     -0.01599 |      -0.01055 |      4.87e+05 |       0.00613 |       1.05541\n",
      "     -0.02217 |      -0.01041 |      4.86e+05 |       0.00553 |       1.04081\n",
      "     -0.02700 |      -0.01028 |      4.86e+05 |       0.00568 |       1.02793\n",
      "Evaluating losses...\n",
      "     -0.03248 |      -0.01019 |      4.86e+05 |       0.00714 |       1.01864\n",
      "----------------------------------\n",
      "| EpLenMean       | 12           |\n",
      "| EpRewMean       | 994          |\n",
      "| EpThisIter      | 27           |\n",
      "| EpisodesSoFar   | 209          |\n",
      "| TimeElapsed     | 9.54         |\n",
      "| TimestepsSoFar  | 5120         |\n",
      "| ev_tdlam_before | -1.3e-05     |\n",
      "| loss_ent        | 1.0186373    |\n",
      "| loss_kl         | 0.0071441834 |\n",
      "| loss_pol_entpen | -0.010186373 |\n",
      "| loss_pol_surr   | -0.032484792 |\n",
      "| loss_vf_loss    | 485676.06    |\n",
      "----------------------------------\n",
      "********** Iteration 20 ************\n",
      "Optimizing...\n",
      "     pol_surr |    pol_entpen |       vf_loss |            kl |           ent\n",
      "     -0.00264 |      -0.01010 |      5.21e+05 |       0.00038 |       1.00960\n",
      "     -0.02246 |      -0.00990 |      5.20e+05 |       0.00671 |       0.98973\n",
      "     -0.02446 |      -0.00973 |      5.20e+05 |       0.01375 |       0.97305\n",
      "     -0.02841 |      -0.00967 |      5.19e+05 |       0.01231 |       0.96672\n",
      "Evaluating losses...\n",
      "     -0.03000 |      -0.00962 |      5.19e+05 |       0.01073 |       0.96231\n",
      "----------------------------------\n",
      "| EpLenMean       | 10.5         |\n",
      "| EpRewMean       | 996          |\n",
      "| EpThisIter      | 28           |\n",
      "| EpisodesSoFar   | 237          |\n",
      "| TimeElapsed     | 9.99         |\n",
      "| TimestepsSoFar  | 5376         |\n",
      "| ev_tdlam_before | -1.05e-05    |\n",
      "| loss_ent        | 0.96231025   |\n",
      "| loss_kl         | 0.0107262395 |\n",
      "| loss_pol_entpen | -0.009623103 |\n",
      "| loss_pol_surr   | -0.029996268 |\n",
      "| loss_vf_loss    | 519177.4     |\n",
      "----------------------------------\n",
      "********** Iteration 21 ************\n",
      "Optimizing...\n",
      "     pol_surr |    pol_entpen |       vf_loss |            kl |           ent\n",
      "     -0.00115 |      -0.00956 |      5.28e+05 |       0.00023 |       0.95564\n",
      "     -0.00705 |      -0.00941 |      5.28e+05 |       0.00441 |       0.94136\n",
      "     -0.01228 |      -0.00926 |      5.27e+05 |       0.00653 |       0.92605\n",
      "     -0.01792 |      -0.00916 |      5.27e+05 |       0.00484 |       0.91569\n",
      "Evaluating losses...\n",
      "     -0.01992 |      -0.00910 |      5.27e+05 |       0.00494 |       0.91049\n",
      "----------------------------------\n",
      "| EpLenMean       | 9.93         |\n",
      "| EpRewMean       | 997          |\n",
      "| EpThisIter      | 26           |\n",
      "| EpisodesSoFar   | 263          |\n",
      "| TimeElapsed     | 10.5         |\n",
      "| TimestepsSoFar  | 5632         |\n",
      "| ev_tdlam_before | 5.66e-06     |\n",
      "| loss_ent        | 0.91048807   |\n",
      "| loss_kl         | 0.0049368795 |\n",
      "| loss_pol_entpen | -0.00910488  |\n",
      "| loss_pol_surr   | -0.019924268 |\n",
      "| loss_vf_loss    | 526543.5     |\n",
      "----------------------------------\n",
      "********** Iteration 22 ************\n",
      "Optimizing...\n",
      "     pol_surr |    pol_entpen |       vf_loss |            kl |           ent\n",
      "      0.00041 |      -0.00898 |      5.91e+05 |       0.00025 |       0.89848\n",
      "     -0.00374 |      -0.00886 |      5.90e+05 |       0.00114 |       0.88627\n",
      "     -0.01055 |      -0.00872 |      5.90e+05 |       0.00216 |       0.87160\n",
      "     -0.01538 |      -0.00856 |      5.89e+05 |       0.00423 |       0.85642\n",
      "Evaluating losses...\n",
      "     -0.01896 |      -0.00848 |      5.89e+05 |       0.00529 |       0.84830\n",
      "----------------------------------\n",
      "| EpLenMean       | 8.59         |\n",
      "| EpRewMean       | 997          |\n",
      "| EpThisIter      | 35           |\n",
      "| EpisodesSoFar   | 298          |\n",
      "| TimeElapsed     | 10.9         |\n",
      "| TimestepsSoFar  | 5888         |\n",
      "| ev_tdlam_before | -1.24e-05    |\n",
      "| loss_ent        | 0.84829855   |\n",
      "| loss_kl         | 0.0052927    |\n",
      "| loss_pol_entpen | -0.008482985 |\n",
      "| loss_pol_surr   | -0.018955842 |\n",
      "| loss_vf_loss    | 589049.5     |\n",
      "----------------------------------\n",
      "********** Iteration 23 ************\n",
      "Optimizing...\n",
      "     pol_surr |    pol_entpen |       vf_loss |            kl |           ent\n",
      "     -0.00028 |      -0.00859 |      5.81e+05 |       0.00033 |       0.85882\n",
      "     -0.00690 |      -0.00846 |      5.81e+05 |       0.00214 |       0.84590\n",
      "     -0.01184 |      -0.00832 |      5.80e+05 |       0.00461 |       0.83243\n",
      "     -0.01696 |      -0.00819 |      5.80e+05 |       0.00577 |       0.81944\n",
      "Evaluating losses...\n",
      "     -0.02070 |      -0.00812 |      5.79e+05 |       0.00542 |       0.81167\n",
      "----------------------------------\n",
      "| EpLenMean       | 8.1          |\n",
      "| EpRewMean       | 997          |\n",
      "| EpThisIter      | 35           |\n",
      "| EpisodesSoFar   | 333          |\n",
      "| TimeElapsed     | 11.4         |\n",
      "| TimestepsSoFar  | 6144         |\n",
      "| ev_tdlam_before | -3.93e-06    |\n",
      "| loss_ent        | 0.8116745    |\n",
      "| loss_kl         | 0.005423085  |\n",
      "| loss_pol_entpen | -0.008116744 |\n",
      "| loss_pol_surr   | -0.020704294 |\n",
      "| loss_vf_loss    | 579492.56    |\n",
      "----------------------------------\n"
     ]
    },
    {
     "name": "stdout",
     "output_type": "stream",
     "text": [
      "********** Iteration 24 ************\n",
      "Optimizing...\n",
      "     pol_surr |    pol_entpen |       vf_loss |            kl |           ent\n",
      "     -0.00145 |      -0.00813 |      6.25e+05 |       0.00018 |       0.81282\n",
      "     -0.00228 |      -0.00801 |      6.25e+05 |       0.00295 |       0.80075\n",
      "     -0.00718 |      -0.00787 |      6.24e+05 |       0.00566 |       0.78692\n",
      "     -0.01207 |      -0.00779 |      6.24e+05 |       0.00353 |       0.77880\n",
      "Evaluating losses...\n",
      "     -0.01470 |      -0.00773 |      6.23e+05 |       0.00294 |       0.77347\n",
      "-----------------------------------\n",
      "| EpLenMean       | 6.74          |\n",
      "| EpRewMean       | 998           |\n",
      "| EpThisIter      | 40            |\n",
      "| EpisodesSoFar   | 373           |\n",
      "| TimeElapsed     | 11.8          |\n",
      "| TimestepsSoFar  | 6400          |\n",
      "| ev_tdlam_before | -1.42e-05     |\n",
      "| loss_ent        | 0.7734723     |\n",
      "| loss_kl         | 0.002938299   |\n",
      "| loss_pol_entpen | -0.0077347225 |\n",
      "| loss_pol_surr   | -0.014697894  |\n",
      "| loss_vf_loss    | 623453.4      |\n",
      "-----------------------------------\n",
      "********** Iteration 25 ************\n",
      "Optimizing...\n",
      "     pol_surr |    pol_entpen |       vf_loss |            kl |           ent\n",
      "     7.42e-05 |      -0.00746 |      5.81e+05 |       0.00093 |       0.74617\n",
      "     -0.00790 |      -0.00738 |      5.81e+05 |       0.00584 |       0.73770\n",
      "     -0.01527 |      -0.00726 |      5.80e+05 |       0.00688 |       0.72623\n",
      "     -0.01574 |      -0.00720 |      5.80e+05 |       0.00449 |       0.71997\n",
      "Evaluating losses...\n",
      "     -0.01861 |      -0.00718 |      5.80e+05 |       0.00369 |       0.71765\n",
      "----------------------------------\n",
      "| EpLenMean       | 6.65         |\n",
      "| EpRewMean       | 998          |\n",
      "| EpThisIter      | 35           |\n",
      "| EpisodesSoFar   | 408          |\n",
      "| TimeElapsed     | 12.3         |\n",
      "| TimestepsSoFar  | 6656         |\n",
      "| ev_tdlam_before | -7.15e-06    |\n",
      "| loss_ent        | 0.717654     |\n",
      "| loss_kl         | 0.0036888123 |\n",
      "| loss_pol_entpen | -0.00717654  |\n",
      "| loss_pol_surr   | -0.018614132 |\n",
      "| loss_vf_loss    | 579819.75    |\n",
      "----------------------------------\n",
      "********** Iteration 26 ************\n",
      "Optimizing...\n",
      "     pol_surr |    pol_entpen |       vf_loss |            kl |           ent\n",
      "      0.00198 |      -0.00710 |      5.99e+05 |       0.00073 |       0.70969\n",
      "      0.00131 |      -0.00704 |      5.99e+05 |       0.00209 |       0.70383\n",
      "     -0.00552 |      -0.00692 |      5.99e+05 |       0.00125 |       0.69210\n",
      "     -0.00305 |      -0.00681 |      5.98e+05 |       0.00313 |       0.68132\n",
      "Evaluating losses...\n",
      "     -0.00627 |      -0.00677 |      5.98e+05 |       0.00458 |       0.67727\n",
      "-----------------------------------\n",
      "| EpLenMean       | 6.92          |\n",
      "| EpRewMean       | 999           |\n",
      "| EpThisIter      | 36            |\n",
      "| EpisodesSoFar   | 444           |\n",
      "| TimeElapsed     | 12.8          |\n",
      "| TimestepsSoFar  | 6912          |\n",
      "| ev_tdlam_before | -1.79e-06     |\n",
      "| loss_ent        | 0.67727053    |\n",
      "| loss_kl         | 0.0045842864  |\n",
      "| loss_pol_entpen | -0.0067727054 |\n",
      "| loss_pol_surr   | -0.0062686997 |\n",
      "| loss_vf_loss    | 597917.44     |\n",
      "-----------------------------------\n",
      "********** Iteration 27 ************\n",
      "Optimizing...\n",
      "     pol_surr |    pol_entpen |       vf_loss |            kl |           ent\n",
      "     -0.00355 |      -0.00690 |      5.98e+05 |       0.00072 |       0.68998\n",
      "     -0.01003 |      -0.00677 |      5.98e+05 |       0.00680 |       0.67725\n",
      "     -0.01277 |      -0.00672 |      5.98e+05 |       0.00725 |       0.67216\n",
      "     -0.01451 |      -0.00669 |      5.97e+05 |       0.00264 |       0.66898\n",
      "Evaluating losses...\n",
      "     -0.01583 |      -0.00665 |      5.97e+05 |       0.00248 |       0.66544\n",
      "----------------------------------\n",
      "| EpLenMean       | 7.15         |\n",
      "| EpRewMean       | 998          |\n",
      "| EpThisIter      | 34           |\n",
      "| EpisodesSoFar   | 478          |\n",
      "| TimeElapsed     | 13.2         |\n",
      "| TimestepsSoFar  | 7168         |\n",
      "| ev_tdlam_before | -6.08e-06    |\n",
      "| loss_ent        | 0.6654419    |\n",
      "| loss_kl         | 0.0024834569 |\n",
      "| loss_pol_entpen | -0.006654419 |\n",
      "| loss_pol_surr   | -0.015832799 |\n",
      "| loss_vf_loss    | 597206.5     |\n",
      "----------------------------------\n",
      "********** Iteration 28 ************\n",
      "Optimizing...\n",
      "     pol_surr |    pol_entpen |       vf_loss |            kl |           ent\n",
      "     -0.00123 |      -0.00686 |      6.53e+05 |      5.55e-05 |       0.68618\n",
      "     -0.00852 |      -0.00682 |      6.53e+05 |       0.00358 |       0.68196\n",
      "     -0.00608 |      -0.00676 |      6.52e+05 |       0.01028 |       0.67550\n",
      "     -0.00996 |      -0.00668 |      6.52e+05 |       0.00611 |       0.66824\n",
      "Evaluating losses...\n",
      "     -0.01298 |      -0.00666 |      6.52e+05 |       0.00273 |       0.66579\n",
      "----------------------------------\n",
      "| EpLenMean       | 6.62         |\n",
      "| EpRewMean       | 997          |\n",
      "| EpThisIter      | 44           |\n",
      "| EpisodesSoFar   | 522          |\n",
      "| TimeElapsed     | 13.7         |\n",
      "| TimestepsSoFar  | 7424         |\n",
      "| ev_tdlam_before | 3.1e-06      |\n",
      "| loss_ent        | 0.6657865    |\n",
      "| loss_kl         | 0.0027296515 |\n",
      "| loss_pol_entpen | -0.006657865 |\n",
      "| loss_pol_surr   | -0.012982629 |\n",
      "| loss_vf_loss    | 651591.6     |\n",
      "----------------------------------\n",
      "********** Iteration 29 ************\n",
      "Optimizing...\n",
      "     pol_surr |    pol_entpen |       vf_loss |            kl |           ent\n",
      "      0.00184 |      -0.00684 |      6.47e+05 |       0.00171 |       0.68351\n",
      "     -0.00336 |      -0.00674 |      6.47e+05 |       0.00476 |       0.67353\n",
      "     -0.00777 |      -0.00671 |      6.47e+05 |       0.00326 |       0.67054\n",
      "     -0.01279 |      -0.00667 |      6.46e+05 |       0.00248 |       0.66685\n",
      "Evaluating losses...\n",
      "     -0.01451 |      -0.00664 |      6.46e+05 |       0.00243 |       0.66410\n",
      "-----------------------------------\n",
      "| EpLenMean       | 6.35          |\n",
      "| EpRewMean       | 998           |\n",
      "| EpThisIter      | 40            |\n",
      "| EpisodesSoFar   | 562           |\n",
      "| TimeElapsed     | 14.2          |\n",
      "| TimestepsSoFar  | 7680          |\n",
      "| ev_tdlam_before | 2.38e-07      |\n",
      "| loss_ent        | 0.66410196    |\n",
      "| loss_kl         | 0.002429096   |\n",
      "| loss_pol_entpen | -0.0066410196 |\n",
      "| loss_pol_surr   | -0.014505206  |\n",
      "| loss_vf_loss    | 645935.2      |\n",
      "-----------------------------------\n",
      "********** Iteration 30 ************\n",
      "Optimizing...\n",
      "     pol_surr |    pol_entpen |       vf_loss |            kl |           ent\n",
      "     -0.00178 |      -0.00638 |      6.33e+05 |       0.00084 |       0.63770\n",
      "     -0.00756 |      -0.00631 |      6.33e+05 |       0.00486 |       0.63082\n",
      "     -0.01102 |      -0.00625 |      6.32e+05 |       0.00469 |       0.62521\n",
      "     -0.01262 |      -0.00621 |      6.32e+05 |       0.00313 |       0.62076\n",
      "Evaluating losses...\n",
      "     -0.01408 |      -0.00618 |      6.32e+05 |       0.00345 |       0.61837\n",
      "-----------------------------------\n",
      "| EpLenMean       | 5.97          |\n",
      "| EpRewMean       | 999           |\n",
      "| EpThisIter      | 44            |\n",
      "| EpisodesSoFar   | 606           |\n",
      "| TimeElapsed     | 14.6          |\n",
      "| TimestepsSoFar  | 7936          |\n",
      "| ev_tdlam_before | 6.79e-06      |\n",
      "| loss_ent        | 0.6183715     |\n",
      "| loss_kl         | 0.0034530384  |\n",
      "| loss_pol_entpen | -0.006183715  |\n",
      "| loss_pol_surr   | -0.0140790045 |\n",
      "| loss_vf_loss    | 631919.9      |\n",
      "-----------------------------------\n",
      "********** Iteration 31 ************\n",
      "Optimizing...\n",
      "     pol_surr |    pol_entpen |       vf_loss |            kl |           ent\n",
      "     -0.00122 |      -0.00628 |      6.36e+05 |       0.00014 |       0.62829\n",
      "     -0.00679 |      -0.00620 |      6.36e+05 |       0.00252 |       0.61957\n",
      "     -0.00601 |      -0.00609 |      6.35e+05 |       0.00786 |       0.60937\n",
      "     -0.00957 |      -0.00603 |      6.35e+05 |       0.00537 |       0.60324\n",
      "Evaluating losses...\n",
      "     -0.01177 |      -0.00601 |      6.35e+05 |       0.00367 |       0.60099\n",
      "----------------------------------\n",
      "| EpLenMean       | 5.8          |\n",
      "| EpRewMean       | 999          |\n",
      "| EpThisIter      | 45           |\n",
      "| EpisodesSoFar   | 651          |\n",
      "| TimeElapsed     | 15.1         |\n",
      "| TimestepsSoFar  | 8192         |\n",
      "| ev_tdlam_before | -9.54e-06    |\n",
      "| loss_ent        | 0.600992     |\n",
      "| loss_kl         | 0.0036687267 |\n",
      "| loss_pol_entpen | -0.00600992  |\n",
      "| loss_pol_surr   | -0.011766352 |\n",
      "| loss_vf_loss    | 634665.44    |\n",
      "----------------------------------\n"
     ]
    },
    {
     "name": "stdout",
     "output_type": "stream",
     "text": [
      "********** Iteration 32 ************\n",
      "Optimizing...\n",
      "     pol_surr |    pol_entpen |       vf_loss |            kl |           ent\n",
      "     -0.00262 |      -0.00580 |      6.63e+05 |       0.00056 |       0.57961\n",
      "     -0.00132 |      -0.00577 |      6.62e+05 |       0.00515 |       0.57681\n",
      "     -0.00273 |      -0.00573 |      6.62e+05 |       0.00401 |       0.57308\n",
      "     -0.00795 |      -0.00568 |      6.62e+05 |       0.00111 |       0.56845\n",
      "Evaluating losses...\n",
      "     -0.00898 |      -0.00565 |      6.61e+05 |       0.00165 |       0.56511\n",
      "-----------------------------------\n",
      "| EpLenMean       | 5.62          |\n",
      "| EpRewMean       | 999           |\n",
      "| EpThisIter      | 46            |\n",
      "| EpisodesSoFar   | 697           |\n",
      "| TimeElapsed     | 15.6          |\n",
      "| TimestepsSoFar  | 8448          |\n",
      "| ev_tdlam_before | -1.59e-05     |\n",
      "| loss_ent        | 0.56510985    |\n",
      "| loss_kl         | 0.0016524757  |\n",
      "| loss_pol_entpen | -0.0056510987 |\n",
      "| loss_pol_surr   | -0.008979976  |\n",
      "| loss_vf_loss    | 661320.5      |\n",
      "-----------------------------------\n",
      "********** Iteration 33 ************\n",
      "Optimizing...\n",
      "     pol_surr |    pol_entpen |       vf_loss |            kl |           ent\n",
      "      0.00066 |      -0.00563 |      6.31e+05 |       0.00020 |       0.56341\n",
      "     -0.00614 |      -0.00560 |      6.31e+05 |       0.00067 |       0.56007\n",
      "     -0.00766 |      -0.00554 |      6.30e+05 |       0.00202 |       0.55422\n",
      "     -0.01134 |      -0.00549 |      6.30e+05 |       0.00349 |       0.54937\n",
      "Evaluating losses...\n",
      "     -0.01375 |      -0.00547 |      6.30e+05 |       0.00417 |       0.54719\n",
      "----------------------------------\n",
      "| EpLenMean       | 5.98         |\n",
      "| EpRewMean       | 999          |\n",
      "| EpThisIter      | 40           |\n",
      "| EpisodesSoFar   | 737          |\n",
      "| TimeElapsed     | 16.1         |\n",
      "| TimestepsSoFar  | 8704         |\n",
      "| ev_tdlam_before | -3.7e-06     |\n",
      "| loss_ent        | 0.54719144   |\n",
      "| loss_kl         | 0.0041696895 |\n",
      "| loss_pol_entpen | -0.005471914 |\n",
      "| loss_pol_surr   | -0.013749324 |\n",
      "| loss_vf_loss    | 629745.6     |\n",
      "----------------------------------\n",
      "********** Iteration 34 ************\n",
      "Optimizing...\n",
      "     pol_surr |    pol_entpen |       vf_loss |            kl |           ent\n",
      "     -0.00120 |      -0.00556 |      6.25e+05 |       0.00044 |       0.55594\n",
      "     -0.00237 |      -0.00552 |      6.25e+05 |       0.00200 |       0.55168\n",
      "     -0.00588 |      -0.00545 |      6.25e+05 |       0.00209 |       0.54497\n",
      "     -0.00739 |      -0.00541 |      6.24e+05 |       0.00122 |       0.54091\n",
      "Evaluating losses...\n",
      "     -0.00931 |      -0.00538 |      6.24e+05 |       0.00130 |       0.53821\n",
      "-----------------------------------\n",
      "| EpLenMean       | 6.03          |\n",
      "| EpRewMean       | 999           |\n",
      "| EpThisIter      | 42            |\n",
      "| EpisodesSoFar   | 779           |\n",
      "| TimeElapsed     | 16.5          |\n",
      "| TimestepsSoFar  | 8960          |\n",
      "| ev_tdlam_before | 1.19e-06      |\n",
      "| loss_ent        | 0.53820807    |\n",
      "| loss_kl         | 0.0012980807  |\n",
      "| loss_pol_entpen | -0.0053820806 |\n",
      "| loss_pol_surr   | -0.009307571  |\n",
      "| loss_vf_loss    | 624107.5      |\n",
      "-----------------------------------\n",
      "********** Iteration 35 ************\n",
      "Optimizing...\n",
      "     pol_surr |    pol_entpen |       vf_loss |            kl |           ent\n",
      "     4.51e-05 |      -0.00547 |      6.32e+05 |      6.66e-05 |       0.54747\n",
      "     -0.00388 |      -0.00543 |      6.32e+05 |       0.00230 |       0.54281\n",
      "     -0.00329 |      -0.00537 |      6.31e+05 |       0.00604 |       0.53714\n",
      "     -0.00421 |      -0.00536 |      6.31e+05 |       0.00367 |       0.53623\n",
      "Evaluating losses...\n",
      "     -0.00728 |      -0.00536 |      6.31e+05 |       0.00199 |       0.53581\n",
      "-----------------------------------\n",
      "| EpLenMean       | 6             |\n",
      "| EpRewMean       | 999           |\n",
      "| EpThisIter      | 44            |\n",
      "| EpisodesSoFar   | 823           |\n",
      "| TimeElapsed     | 17            |\n",
      "| TimestepsSoFar  | 9216          |\n",
      "| ev_tdlam_before | -4.89e-06     |\n",
      "| loss_ent        | 0.5358082     |\n",
      "| loss_kl         | 0.0019934478  |\n",
      "| loss_pol_entpen | -0.0053580822 |\n",
      "| loss_pol_surr   | -0.007275134  |\n",
      "| loss_vf_loss    | 630972.3      |\n",
      "-----------------------------------\n",
      "********** Iteration 36 ************\n",
      "Optimizing...\n",
      "     pol_surr |    pol_entpen |       vf_loss |            kl |           ent\n",
      "     -0.00099 |      -0.00500 |      6.58e+05 |       0.00026 |       0.50016\n",
      "     -0.00435 |      -0.00500 |      6.58e+05 |       0.00162 |       0.49963\n",
      "     -0.00698 |      -0.00497 |      6.57e+05 |       0.00342 |       0.49669\n",
      "     -0.00944 |      -0.00493 |      6.57e+05 |       0.00309 |       0.49345\n",
      "Evaluating losses...\n",
      "     -0.01057 |      -0.00491 |      6.57e+05 |       0.00251 |       0.49059\n",
      "-----------------------------------\n",
      "| EpLenMean       | 5.84          |\n",
      "| EpRewMean       | 999           |\n",
      "| EpThisIter      | 46            |\n",
      "| EpisodesSoFar   | 869           |\n",
      "| TimeElapsed     | 17.6          |\n",
      "| TimestepsSoFar  | 9472          |\n",
      "| ev_tdlam_before | -3.1e-06      |\n",
      "| loss_ent        | 0.49058503    |\n",
      "| loss_kl         | 0.0025130291  |\n",
      "| loss_pol_entpen | -0.0049058506 |\n",
      "| loss_pol_surr   | -0.010565614  |\n",
      "| loss_vf_loss    | 657011.25     |\n",
      "-----------------------------------\n",
      "********** Iteration 37 ************\n",
      "Optimizing...\n",
      "     pol_surr |    pol_entpen |       vf_loss |            kl |           ent\n",
      "     -0.00068 |      -0.00502 |      6.43e+05 |      4.89e-05 |       0.50210\n",
      "     -0.00246 |      -0.00502 |      6.42e+05 |       0.00125 |       0.50210\n",
      "     -0.00492 |      -0.00499 |      6.42e+05 |       0.00215 |       0.49907\n",
      "     -0.00603 |      -0.00493 |      6.42e+05 |       0.00176 |       0.49309\n",
      "Evaluating losses...\n",
      "     -0.00608 |      -0.00491 |      6.42e+05 |       0.00191 |       0.49068\n",
      "-----------------------------------\n",
      "| EpLenMean       | 5.79          |\n",
      "| EpRewMean       | 999           |\n",
      "| EpThisIter      | 43            |\n",
      "| EpisodesSoFar   | 912           |\n",
      "| TimeElapsed     | 18.1          |\n",
      "| TimestepsSoFar  | 9728          |\n",
      "| ev_tdlam_before | -1.03e-05     |\n",
      "| loss_ent        | 0.4906823     |\n",
      "| loss_kl         | 0.0019116733  |\n",
      "| loss_pol_entpen | -0.004906823  |\n",
      "| loss_pol_surr   | -0.0060821828 |\n",
      "| loss_vf_loss    | 641682.2      |\n",
      "-----------------------------------\n",
      "********** Iteration 38 ************\n",
      "Optimizing...\n",
      "     pol_surr |    pol_entpen |       vf_loss |            kl |           ent\n",
      "      0.00119 |      -0.00496 |      6.51e+05 |       0.00024 |       0.49649\n",
      "     -0.00100 |      -0.00494 |      6.51e+05 |       0.00087 |       0.49387\n",
      "     -0.00219 |      -0.00491 |      6.51e+05 |       0.00089 |       0.49059\n",
      "     -0.00325 |      -0.00487 |      6.50e+05 |       0.00078 |       0.48670\n",
      "Evaluating losses...\n",
      "     -0.00484 |      -0.00484 |      6.50e+05 |       0.00087 |       0.48402\n",
      "-----------------------------------\n",
      "| EpLenMean       | 5.74          |\n",
      "| EpRewMean       | 999           |\n",
      "| EpThisIter      | 46            |\n",
      "| EpisodesSoFar   | 958           |\n",
      "| TimeElapsed     | 18.6          |\n",
      "| TimestepsSoFar  | 9984          |\n",
      "| ev_tdlam_before | -1.19e-06     |\n",
      "| loss_ent        | 0.48401904    |\n",
      "| loss_kl         | 0.0008733254  |\n",
      "| loss_pol_entpen | -0.00484019   |\n",
      "| loss_pol_surr   | -0.0048381444 |\n",
      "| loss_vf_loss    | 650241.94     |\n",
      "-----------------------------------\n",
      "********** Iteration 39 ************\n",
      "Optimizing...\n",
      "     pol_surr |    pol_entpen |       vf_loss |            kl |           ent\n",
      "     -0.00069 |      -0.00490 |      6.39e+05 |       0.00027 |       0.48994\n",
      "     -0.00108 |      -0.00487 |      6.38e+05 |       0.00291 |       0.48749\n",
      "     -0.00159 |      -0.00485 |      6.38e+05 |       0.00242 |       0.48492\n",
      "     -0.00443 |      -0.00483 |      6.38e+05 |       0.00195 |       0.48297\n",
      "Evaluating losses...\n",
      "     -0.00480 |      -0.00481 |      6.38e+05 |       0.00229 |       0.48147\n",
      "----------------------------------\n",
      "| EpLenMean       | 5.62         |\n",
      "| EpRewMean       | 1e+03        |\n",
      "| EpThisIter      | 43           |\n",
      "| EpisodesSoFar   | 1001         |\n",
      "| TimeElapsed     | 19.1         |\n",
      "| TimestepsSoFar  | 10240        |\n",
      "| ev_tdlam_before | 1.67e-06     |\n",
      "| loss_ent        | 0.48147178   |\n",
      "| loss_kl         | 0.0022882558 |\n",
      "| loss_pol_entpen | -0.004814718 |\n",
      "| loss_pol_surr   | -0.004796345 |\n",
      "| loss_vf_loss    | 637796.2     |\n",
      "----------------------------------\n"
     ]
    },
    {
     "name": "stdout",
     "output_type": "stream",
     "text": [
      "********** Iteration 40 ************\n",
      "Optimizing...\n",
      "     pol_surr |    pol_entpen |       vf_loss |            kl |           ent\n",
      "     5.60e-05 |      -0.00510 |      6.61e+05 |      3.66e-05 |       0.50981\n",
      "     -0.00220 |      -0.00510 |      6.61e+05 |       0.00077 |       0.50974\n",
      "     -0.00210 |      -0.00509 |      6.60e+05 |       0.00251 |       0.50891\n",
      "     -0.00298 |      -0.00508 |      6.60e+05 |       0.00218 |       0.50799\n",
      "Evaluating losses...\n",
      "     -0.00534 |      -0.00508 |      6.60e+05 |       0.00176 |       0.50798\n",
      "-----------------------------------\n",
      "| EpLenMean       | 6.04          |\n",
      "| EpRewMean       | 999           |\n",
      "| EpThisIter      | 44            |\n",
      "| EpisodesSoFar   | 1045          |\n",
      "| TimeElapsed     | 19.6          |\n",
      "| TimestepsSoFar  | 10496         |\n",
      "| ev_tdlam_before | 5.13e-06      |\n",
      "| loss_ent        | 0.507978      |\n",
      "| loss_kl         | 0.0017631568  |\n",
      "| loss_pol_entpen | -0.00507978   |\n",
      "| loss_pol_surr   | -0.0053449497 |\n",
      "| loss_vf_loss    | 659929.94     |\n",
      "-----------------------------------\n",
      "********** Iteration 41 ************\n",
      "Optimizing...\n",
      "     pol_surr |    pol_entpen |       vf_loss |            kl |           ent\n",
      "     -0.00014 |      -0.00491 |      6.17e+05 |       0.00024 |       0.49077\n",
      "     -0.00307 |      -0.00490 |      6.16e+05 |       0.00124 |       0.49030\n",
      "     -0.00550 |      -0.00489 |      6.16e+05 |       0.00115 |       0.48947\n",
      "     -0.00593 |      -0.00488 |      6.16e+05 |       0.00101 |       0.48838\n",
      "Evaluating losses...\n",
      "     -0.00772 |      -0.00486 |      6.16e+05 |       0.00140 |       0.48627\n",
      "-----------------------------------\n",
      "| EpLenMean       | 5.97          |\n",
      "| EpRewMean       | 999           |\n",
      "| EpThisIter      | 42            |\n",
      "| EpisodesSoFar   | 1087          |\n",
      "| TimeElapsed     | 20.1          |\n",
      "| TimestepsSoFar  | 10752         |\n",
      "| ev_tdlam_before | -7.03e-06     |\n",
      "| loss_ent        | 0.4862722     |\n",
      "| loss_kl         | 0.001404047   |\n",
      "| loss_pol_entpen | -0.0048627215 |\n",
      "| loss_pol_surr   | -0.0077159815 |\n",
      "| loss_vf_loss    | 615795.25     |\n",
      "-----------------------------------\n",
      "********** Iteration 42 ************\n",
      "Optimizing...\n",
      "     pol_surr |    pol_entpen |       vf_loss |            kl |           ent\n",
      "      0.00137 |      -0.00466 |      6.26e+05 |       0.00017 |       0.46631\n",
      "     -0.00232 |      -0.00464 |      6.25e+05 |       0.00116 |       0.46417\n",
      "     -0.00466 |      -0.00462 |      6.25e+05 |       0.00119 |       0.46249\n",
      "     -0.00582 |      -0.00463 |      6.25e+05 |       0.00078 |       0.46294\n",
      "Evaluating losses...\n",
      "     -0.00683 |      -0.00463 |      6.25e+05 |       0.00127 |       0.46261\n",
      "----------------------------------\n",
      "| EpLenMean       | 6.33         |\n",
      "| EpRewMean       | 999          |\n",
      "| EpThisIter      | 40           |\n",
      "| EpisodesSoFar   | 1127         |\n",
      "| TimeElapsed     | 20.6         |\n",
      "| TimestepsSoFar  | 11008        |\n",
      "| ev_tdlam_before | -3.1e-06     |\n",
      "| loss_ent        | 0.46260953   |\n",
      "| loss_kl         | 0.0012728281 |\n",
      "| loss_pol_entpen | -0.004626095 |\n",
      "| loss_pol_surr   | -0.00683273  |\n",
      "| loss_vf_loss    | 624734.4     |\n",
      "----------------------------------\n",
      "********** Iteration 43 ************\n",
      "Optimizing...\n",
      "     pol_surr |    pol_entpen |       vf_loss |            kl |           ent\n",
      "     -0.00021 |      -0.00472 |      6.51e+05 |      2.38e-05 |       0.47171\n",
      "     -0.00131 |      -0.00471 |      6.51e+05 |       0.00031 |       0.47114\n",
      "     -0.00200 |      -0.00470 |      6.51e+05 |       0.00104 |       0.46975\n",
      "     -0.00295 |      -0.00470 |      6.50e+05 |       0.00162 |       0.46956\n",
      "Evaluating losses...\n",
      "     -0.00368 |      -0.00470 |      6.50e+05 |       0.00149 |       0.46990\n",
      "-----------------------------------\n",
      "| EpLenMean       | 5.99          |\n",
      "| EpRewMean       | 999           |\n",
      "| EpThisIter      | 43            |\n",
      "| EpisodesSoFar   | 1170          |\n",
      "| TimeElapsed     | 21.1          |\n",
      "| TimestepsSoFar  | 11264         |\n",
      "| ev_tdlam_before | -8.34e-07     |\n",
      "| loss_ent        | 0.46989864    |\n",
      "| loss_kl         | 0.0014888278  |\n",
      "| loss_pol_entpen | -0.004698986  |\n",
      "| loss_pol_surr   | -0.0036783414 |\n",
      "| loss_vf_loss    | 650168.0      |\n",
      "-----------------------------------\n",
      "********** Iteration 44 ************\n",
      "Optimizing...\n",
      "     pol_surr |    pol_entpen |       vf_loss |            kl |           ent\n",
      "      0.00025 |      -0.00464 |      6.69e+05 |      4.45e-05 |       0.46353\n",
      "     -0.00168 |      -0.00462 |      6.69e+05 |       0.00030 |       0.46223\n",
      "     -0.00184 |      -0.00460 |      6.69e+05 |       0.00112 |       0.45980\n",
      "     -0.00392 |      -0.00460 |      6.69e+05 |       0.00105 |       0.46043\n",
      "Evaluating losses...\n",
      "     -0.00425 |      -0.00462 |      6.68e+05 |       0.00106 |       0.46159\n",
      "-----------------------------------\n",
      "| EpLenMean       | 5.71          |\n",
      "| EpRewMean       | 999           |\n",
      "| EpThisIter      | 47            |\n",
      "| EpisodesSoFar   | 1217          |\n",
      "| TimeElapsed     | 21.6          |\n",
      "| TimestepsSoFar  | 11520         |\n",
      "| ev_tdlam_before | -9.66e-06     |\n",
      "| loss_ent        | 0.4615913     |\n",
      "| loss_kl         | 0.0010575661  |\n",
      "| loss_pol_entpen | -0.0046159127 |\n",
      "| loss_pol_surr   | -0.0042539258 |\n",
      "| loss_vf_loss    | 668447.5      |\n",
      "-----------------------------------\n",
      "********** Iteration 45 ************\n",
      "Optimizing...\n",
      "     pol_surr |    pol_entpen |       vf_loss |            kl |           ent\n",
      "     -0.00073 |      -0.00445 |      6.65e+05 |      7.19e-05 |       0.44538\n",
      "     -0.00055 |      -0.00443 |      6.65e+05 |       0.00164 |       0.44262\n",
      "     -0.00326 |      -0.00442 |      6.65e+05 |       0.00193 |       0.44161\n",
      "     -0.00625 |      -0.00443 |      6.64e+05 |       0.00098 |       0.44291\n",
      "Evaluating losses...\n",
      "     -0.00662 |      -0.00443 |      6.64e+05 |       0.00130 |       0.44339\n",
      "-----------------------------------\n",
      "| EpLenMean       | 5.6           |\n",
      "| EpRewMean       | 999           |\n",
      "| EpThisIter      | 45            |\n",
      "| EpisodesSoFar   | 1262          |\n",
      "| TimeElapsed     | 22            |\n",
      "| TimestepsSoFar  | 11776         |\n",
      "| ev_tdlam_before | 3.87e-06      |\n",
      "| loss_ent        | 0.44339472    |\n",
      "| loss_kl         | 0.0012976609  |\n",
      "| loss_pol_entpen | -0.0044339467 |\n",
      "| loss_pol_surr   | -0.006623853  |\n",
      "| loss_vf_loss    | 664157.9      |\n",
      "-----------------------------------\n",
      "********** Iteration 46 ************\n",
      "Optimizing...\n",
      "     pol_surr |    pol_entpen |       vf_loss |            kl |           ent\n",
      "     -0.00105 |      -0.00473 |      6.49e+05 |       0.00052 |       0.47289\n",
      "     -0.00293 |      -0.00473 |      6.49e+05 |       0.00225 |       0.47279\n",
      "     -0.00513 |      -0.00473 |      6.48e+05 |       0.00168 |       0.47273\n",
      "     -0.00530 |      -0.00472 |      6.48e+05 |       0.00134 |       0.47192\n",
      "Evaluating losses...\n",
      "     -0.00821 |      -0.00471 |      6.48e+05 |       0.00250 |       0.47109\n",
      "----------------------------------\n",
      "| EpLenMean       | 5.4          |\n",
      "| EpRewMean       | 999          |\n",
      "| EpThisIter      | 49           |\n",
      "| EpisodesSoFar   | 1311         |\n",
      "| TimeElapsed     | 22.7         |\n",
      "| TimestepsSoFar  | 12032        |\n",
      "| ev_tdlam_before | 9.54e-07     |\n",
      "| loss_ent        | 0.4710879    |\n",
      "| loss_kl         | 0.0025002812 |\n",
      "| loss_pol_entpen | -0.004710879 |\n",
      "| loss_pol_surr   | -0.00821477  |\n",
      "| loss_vf_loss    | 648088.0     |\n",
      "----------------------------------\n",
      "********** Iteration 47 ************\n",
      "Optimizing...\n",
      "     pol_surr |    pol_entpen |       vf_loss |            kl |           ent\n",
      "     -0.00023 |      -0.00446 |      6.75e+05 |       0.00015 |       0.44571\n",
      "     -0.00181 |      -0.00446 |      6.75e+05 |       0.00109 |       0.44624\n",
      "     -0.00268 |      -0.00445 |      6.75e+05 |       0.00206 |       0.44514\n",
      "     -0.00304 |      -0.00445 |      6.75e+05 |       0.00151 |       0.44459\n",
      "Evaluating losses...\n",
      "     -0.00382 |      -0.00444 |      6.74e+05 |       0.00104 |       0.44404\n",
      "-----------------------------------\n",
      "| EpLenMean       | 5.03          |\n",
      "| EpRewMean       | 999           |\n",
      "| EpThisIter      | 53            |\n",
      "| EpisodesSoFar   | 1364          |\n",
      "| TimeElapsed     | 23.2          |\n",
      "| TimestepsSoFar  | 12288         |\n",
      "| ev_tdlam_before | 4.29e-06      |\n",
      "| loss_ent        | 0.44403562    |\n",
      "| loss_kl         | 0.0010374389  |\n",
      "| loss_pol_entpen | -0.004440356  |\n",
      "| loss_pol_surr   | -0.0038170498 |\n",
      "| loss_vf_loss    | 674395.56     |\n",
      "-----------------------------------\n"
     ]
    },
    {
     "name": "stdout",
     "output_type": "stream",
     "text": [
      "********** Iteration 48 ************\n",
      "Optimizing...\n",
      "     pol_surr |    pol_entpen |       vf_loss |            kl |           ent\n",
      "      0.00027 |      -0.00456 |      6.53e+05 |      4.29e-05 |       0.45594\n",
      "     -0.00186 |      -0.00455 |      6.53e+05 |       0.00022 |       0.45514\n",
      "     -0.00452 |      -0.00456 |      6.53e+05 |       0.00043 |       0.45562\n",
      "     -0.00537 |      -0.00457 |      6.53e+05 |       0.00142 |       0.45697\n",
      "Evaluating losses...\n",
      "     -0.00622 |      -0.00457 |      6.52e+05 |       0.00193 |       0.45707\n",
      "-----------------------------------\n",
      "| EpLenMean       | 5.15          |\n",
      "| EpRewMean       | 1e+03         |\n",
      "| EpThisIter      | 47            |\n",
      "| EpisodesSoFar   | 1411          |\n",
      "| TimeElapsed     | 23.7          |\n",
      "| TimestepsSoFar  | 12544         |\n",
      "| ev_tdlam_before | -4.05e-06     |\n",
      "| loss_ent        | 0.4570737     |\n",
      "| loss_kl         | 0.0019326583  |\n",
      "| loss_pol_entpen | -0.0045707365 |\n",
      "| loss_pol_surr   | -0.0062242895 |\n",
      "| loss_vf_loss    | 652410.56     |\n",
      "-----------------------------------\n",
      "********** Iteration 49 ************\n",
      "Optimizing...\n",
      "     pol_surr |    pol_entpen |       vf_loss |            kl |           ent\n",
      "      0.00042 |      -0.00426 |      6.80e+05 |      3.78e-05 |       0.42630\n",
      "     -0.00106 |      -0.00424 |      6.79e+05 |       0.00041 |       0.42430\n",
      "     -0.00237 |      -0.00423 |      6.79e+05 |       0.00092 |       0.42288\n",
      "     -0.00346 |      -0.00422 |      6.79e+05 |       0.00119 |       0.42206\n",
      "Evaluating losses...\n",
      "     -0.00526 |      -0.00421 |      6.79e+05 |       0.00085 |       0.42138\n",
      "-----------------------------------\n",
      "| EpLenMean       | 5.19          |\n",
      "| EpRewMean       | 1e+03         |\n",
      "| EpThisIter      | 52            |\n",
      "| EpisodesSoFar   | 1463          |\n",
      "| TimeElapsed     | 24.2          |\n",
      "| TimestepsSoFar  | 12800         |\n",
      "| ev_tdlam_before | -4.29e-06     |\n",
      "| loss_ent        | 0.42137825    |\n",
      "| loss_kl         | 0.0008539283  |\n",
      "| loss_pol_entpen | -0.004213783  |\n",
      "| loss_pol_surr   | -0.0052648196 |\n",
      "| loss_vf_loss    | 678827.8      |\n",
      "-----------------------------------\n",
      "********** Iteration 50 ************\n",
      "Optimizing...\n",
      "     pol_surr |    pol_entpen |       vf_loss |            kl |           ent\n",
      "      0.00080 |      -0.00446 |      6.64e+05 |      4.51e-05 |       0.44588\n",
      "     -0.00125 |      -0.00446 |      6.64e+05 |       0.00022 |       0.44557\n",
      "     -0.00315 |      -0.00445 |      6.64e+05 |       0.00065 |       0.44450\n",
      "     -0.00436 |      -0.00443 |      6.63e+05 |       0.00092 |       0.44319\n",
      "Evaluating losses...\n",
      "     -0.00530 |      -0.00443 |      6.63e+05 |       0.00082 |       0.44255\n",
      "-----------------------------------\n",
      "| EpLenMean       | 5.04          |\n",
      "| EpRewMean       | 1e+03         |\n",
      "| EpThisIter      | 50            |\n",
      "| EpisodesSoFar   | 1513          |\n",
      "| TimeElapsed     | 24.7          |\n",
      "| TimestepsSoFar  | 13056         |\n",
      "| ev_tdlam_before | -2.26e-06     |\n",
      "| loss_ent        | 0.44254622    |\n",
      "| loss_kl         | 0.0008152025  |\n",
      "| loss_pol_entpen | -0.0044254623 |\n",
      "| loss_pol_surr   | -0.0053010546 |\n",
      "| loss_vf_loss    | 663345.1      |\n",
      "-----------------------------------\n",
      "********** Iteration 51 ************\n",
      "Optimizing...\n",
      "     pol_surr |    pol_entpen |       vf_loss |            kl |           ent\n",
      "     -0.00018 |      -0.00441 |      6.37e+05 |      4.22e-05 |       0.44088\n",
      "     -0.00098 |      -0.00440 |      6.37e+05 |       0.00032 |       0.44001\n",
      "     -0.00300 |      -0.00440 |      6.37e+05 |       0.00102 |       0.43961\n",
      "     -0.00461 |      -0.00439 |      6.37e+05 |       0.00116 |       0.43880\n",
      "Evaluating losses...\n",
      "     -0.00589 |      -0.00438 |      6.37e+05 |       0.00096 |       0.43769\n",
      "-----------------------------------\n",
      "| EpLenMean       | 5.32          |\n",
      "| EpRewMean       | 1e+03         |\n",
      "| EpThisIter      | 45            |\n",
      "| EpisodesSoFar   | 1558          |\n",
      "| TimeElapsed     | 25.2          |\n",
      "| TimestepsSoFar  | 13312         |\n",
      "| ev_tdlam_before | -5.96e-07     |\n",
      "| loss_ent        | 0.43769425    |\n",
      "| loss_kl         | 0.00096433    |\n",
      "| loss_pol_entpen | -0.004376943  |\n",
      "| loss_pol_surr   | -0.0058908556 |\n",
      "| loss_vf_loss    | 636845.5      |\n",
      "-----------------------------------\n",
      "********** Iteration 52 ************\n",
      "Optimizing...\n",
      "     pol_surr |    pol_entpen |       vf_loss |            kl |           ent\n",
      "      0.00059 |      -0.00399 |      6.64e+05 |      4.00e-05 |       0.39933\n",
      "    -7.30e-06 |      -0.00398 |      6.64e+05 |       0.00013 |       0.39843\n",
      "     -0.00143 |      -0.00397 |      6.63e+05 |       0.00019 |       0.39696\n",
      "     -0.00252 |      -0.00396 |      6.63e+05 |       0.00074 |       0.39550\n",
      "Evaluating losses...\n",
      "     -0.00309 |      -0.00395 |      6.63e+05 |       0.00092 |       0.39462\n",
      "-----------------------------------\n",
      "| EpLenMean       | 5.48          |\n",
      "| EpRewMean       | 1e+03         |\n",
      "| EpThisIter      | 46            |\n",
      "| EpisodesSoFar   | 1604          |\n",
      "| TimeElapsed     | 25.8          |\n",
      "| TimestepsSoFar  | 13568         |\n",
      "| ev_tdlam_before | -9.89e-06     |\n",
      "| loss_ent        | 0.39462203    |\n",
      "| loss_kl         | 0.0009201476  |\n",
      "| loss_pol_entpen | -0.0039462205 |\n",
      "| loss_pol_surr   | -0.0030940268 |\n",
      "| loss_vf_loss    | 663186.3      |\n",
      "-----------------------------------\n",
      "********** Iteration 53 ************\n",
      "Optimizing...\n",
      "     pol_surr |    pol_entpen |       vf_loss |            kl |           ent\n",
      "    -9.21e-05 |      -0.00433 |      6.50e+05 |      1.20e-05 |       0.43344\n",
      "     -0.00167 |      -0.00431 |      6.50e+05 |       0.00031 |       0.43130\n",
      "     -0.00203 |      -0.00429 |      6.50e+05 |       0.00096 |       0.42884\n",
      "     -0.00265 |      -0.00429 |      6.50e+05 |       0.00070 |       0.42872\n",
      "Evaluating losses...\n",
      "     -0.00351 |      -0.00430 |      6.50e+05 |       0.00040 |       0.42960\n",
      "-----------------------------------\n",
      "| EpLenMean       | 5.51          |\n",
      "| EpRewMean       | 1e+03         |\n",
      "| EpThisIter      | 45            |\n",
      "| EpisodesSoFar   | 1649          |\n",
      "| TimeElapsed     | 26.3          |\n",
      "| TimestepsSoFar  | 13824         |\n",
      "| ev_tdlam_before | -1.19e-07     |\n",
      "| loss_ent        | 0.42960095    |\n",
      "| loss_kl         | 0.0003992988  |\n",
      "| loss_pol_entpen | -0.0042960094 |\n",
      "| loss_pol_surr   | -0.0035115946 |\n",
      "| loss_vf_loss    | 649682.6      |\n",
      "-----------------------------------\n",
      "********** Iteration 54 ************\n",
      "Optimizing...\n",
      "     pol_surr |    pol_entpen |       vf_loss |            kl |           ent\n",
      "      0.00025 |      -0.00434 |      6.46e+05 |      4.83e-05 |       0.43406\n",
      "     -0.00063 |      -0.00434 |      6.46e+05 |       0.00022 |       0.43412\n",
      "     -0.00199 |      -0.00434 |      6.46e+05 |       0.00020 |       0.43419\n",
      "     -0.00276 |      -0.00434 |      6.46e+05 |       0.00028 |       0.43437\n",
      "Evaluating losses...\n",
      "     -0.00385 |      -0.00434 |      6.46e+05 |       0.00049 |       0.43429\n",
      "-----------------------------------\n",
      "| EpLenMean       | 5.78          |\n",
      "| EpRewMean       | 1e+03         |\n",
      "| EpThisIter      | 45            |\n",
      "| EpisodesSoFar   | 1694          |\n",
      "| TimeElapsed     | 26.8          |\n",
      "| TimestepsSoFar  | 14080         |\n",
      "| ev_tdlam_before | -8.34e-07     |\n",
      "| loss_ent        | 0.43429306    |\n",
      "| loss_kl         | 0.00048780948 |\n",
      "| loss_pol_entpen | -0.004342931  |\n",
      "| loss_pol_surr   | -0.003849171  |\n",
      "| loss_vf_loss    | 645731.8      |\n",
      "-----------------------------------\n",
      "********** Iteration 55 ************\n",
      "Optimizing...\n",
      "     pol_surr |    pol_entpen |       vf_loss |            kl |           ent\n",
      "     -0.00174 |      -0.00421 |      6.57e+05 |      8.98e-05 |       0.42068\n",
      "     -0.00082 |      -0.00422 |      6.57e+05 |       0.00148 |       0.42225\n",
      "     -0.00197 |      -0.00423 |      6.57e+05 |       0.00183 |       0.42281\n",
      "     -0.00409 |      -0.00421 |      6.57e+05 |       0.00082 |       0.42134\n",
      "Evaluating losses...\n",
      "     -0.00506 |      -0.00421 |      6.57e+05 |       0.00058 |       0.42068\n",
      "----------------------------------\n",
      "| EpLenMean       | 5.42         |\n",
      "| EpRewMean       | 1e+03        |\n",
      "| EpThisIter      | 48           |\n",
      "| EpisodesSoFar   | 1742         |\n",
      "| TimeElapsed     | 27.3         |\n",
      "| TimestepsSoFar  | 14336        |\n",
      "| ev_tdlam_before | -7.87e-06    |\n",
      "| loss_ent        | 0.42068383   |\n",
      "| loss_kl         | 0.0005842855 |\n",
      "| loss_pol_entpen | -0.004206838 |\n",
      "| loss_pol_surr   | -0.005058094 |\n",
      "| loss_vf_loss    | 656656.4     |\n",
      "----------------------------------\n"
     ]
    },
    {
     "name": "stdout",
     "output_type": "stream",
     "text": [
      "********** Iteration 56 ************\n",
      "Optimizing...\n",
      "     pol_surr |    pol_entpen |       vf_loss |            kl |           ent\n",
      "    -2.54e-05 |      -0.00436 |      6.64e+05 |      9.94e-05 |       0.43616\n",
      "     -0.00021 |      -0.00436 |      6.64e+05 |       0.00066 |       0.43561\n",
      "     -0.00139 |      -0.00435 |      6.64e+05 |       0.00066 |       0.43478\n",
      "     -0.00233 |      -0.00434 |      6.64e+05 |       0.00020 |       0.43395\n",
      "Evaluating losses...\n",
      "     -0.00280 |      -0.00433 |      6.64e+05 |       0.00018 |       0.43285\n",
      "-----------------------------------\n",
      "| EpLenMean       | 5.4           |\n",
      "| EpRewMean       | 1e+03         |\n",
      "| EpThisIter      | 48            |\n",
      "| EpisodesSoFar   | 1790          |\n",
      "| TimeElapsed     | 27.8          |\n",
      "| TimestepsSoFar  | 14592         |\n",
      "| ev_tdlam_before | 5.96e-07      |\n",
      "| loss_ent        | 0.43284974    |\n",
      "| loss_kl         | 0.0001822884  |\n",
      "| loss_pol_entpen | -0.0043284977 |\n",
      "| loss_pol_surr   | -0.0028031003 |\n",
      "| loss_vf_loss    | 663822.9      |\n",
      "-----------------------------------\n",
      "********** Iteration 57 ************\n",
      "Optimizing...\n",
      "     pol_surr |    pol_entpen |       vf_loss |            kl |           ent\n",
      "    -4.08e-05 |      -0.00447 |      6.68e+05 |      4.80e-05 |       0.44650\n",
      "    -4.75e-05 |      -0.00445 |      6.68e+05 |       0.00047 |       0.44456\n",
      "     -0.00128 |      -0.00444 |      6.68e+05 |       0.00053 |       0.44399\n",
      "     -0.00228 |      -0.00445 |      6.67e+05 |       0.00034 |       0.44478\n",
      "Evaluating losses...\n",
      "     -0.00275 |      -0.00445 |      6.67e+05 |       0.00024 |       0.44492\n",
      "-----------------------------------\n",
      "| EpLenMean       | 5.14          |\n",
      "| EpRewMean       | 1e+03         |\n",
      "| EpThisIter      | 52            |\n",
      "| EpisodesSoFar   | 1842          |\n",
      "| TimeElapsed     | 28.3          |\n",
      "| TimestepsSoFar  | 14848         |\n",
      "| ev_tdlam_before | -9.42e-06     |\n",
      "| loss_ent        | 0.44492453    |\n",
      "| loss_kl         | 0.00024280095 |\n",
      "| loss_pol_entpen | -0.0044492455 |\n",
      "| loss_pol_surr   | -0.0027537541 |\n",
      "| loss_vf_loss    | 667410.0      |\n",
      "-----------------------------------\n",
      "********** Iteration 58 ************\n",
      "Optimizing...\n",
      "     pol_surr |    pol_entpen |       vf_loss |            kl |           ent\n",
      "     -0.00041 |      -0.00459 |      6.16e+05 |      4.07e-05 |       0.45891\n",
      "     -0.00177 |      -0.00460 |      6.16e+05 |       0.00066 |       0.45968\n",
      "     -0.00173 |      -0.00460 |      6.16e+05 |       0.00140 |       0.45964\n",
      "     -0.00354 |      -0.00459 |      6.16e+05 |       0.00095 |       0.45949\n",
      "Evaluating losses...\n",
      "     -0.00423 |      -0.00459 |      6.16e+05 |       0.00066 |       0.45861\n",
      "-----------------------------------\n",
      "| EpLenMean       | 5.33          |\n",
      "| EpRewMean       | 1e+03         |\n",
      "| EpThisIter      | 43            |\n",
      "| EpisodesSoFar   | 1885          |\n",
      "| TimeElapsed     | 28.8          |\n",
      "| TimestepsSoFar  | 15104         |\n",
      "| ev_tdlam_before | -2.03e-06     |\n",
      "| loss_ent        | 0.45860726    |\n",
      "| loss_kl         | 0.00065996184 |\n",
      "| loss_pol_entpen | -0.0045860726 |\n",
      "| loss_pol_surr   | -0.0042256266 |\n",
      "| loss_vf_loss    | 615547.8      |\n",
      "-----------------------------------\n",
      "********** Iteration 59 ************\n",
      "Optimizing...\n",
      "     pol_surr |    pol_entpen |       vf_loss |            kl |           ent\n",
      "      0.00037 |      -0.00435 |      6.65e+05 |      1.79e-05 |       0.43498\n",
      "     -0.00028 |      -0.00434 |      6.65e+05 |       0.00013 |       0.43384\n",
      "     -0.00336 |      -0.00432 |      6.65e+05 |       0.00046 |       0.43152\n",
      "     -0.00434 |      -0.00430 |      6.65e+05 |       0.00074 |       0.43048\n",
      "Evaluating losses...\n",
      "     -0.00475 |      -0.00430 |      6.65e+05 |       0.00079 |       0.43021\n",
      "-----------------------------------\n",
      "| EpLenMean       | 5.46          |\n",
      "| EpRewMean       | 1e+03         |\n",
      "| EpThisIter      | 51            |\n",
      "| EpisodesSoFar   | 1936          |\n",
      "| TimeElapsed     | 29.3          |\n",
      "| TimestepsSoFar  | 15360         |\n",
      "| ev_tdlam_before | -1.19e-07     |\n",
      "| loss_ent        | 0.43020523    |\n",
      "| loss_kl         | 0.00078691577 |\n",
      "| loss_pol_entpen | -0.0043020523 |\n",
      "| loss_pol_surr   | -0.0047515677 |\n",
      "| loss_vf_loss    | 664953.7      |\n",
      "-----------------------------------\n",
      "********** Iteration 60 ************\n",
      "Optimizing...\n",
      "     pol_surr |    pol_entpen |       vf_loss |            kl |           ent\n",
      "      0.00028 |      -0.00429 |      6.46e+05 |      4.72e-05 |       0.42850\n",
      "     -0.00055 |      -0.00428 |      6.46e+05 |       0.00040 |       0.42849\n",
      "     -0.00189 |      -0.00428 |      6.46e+05 |       0.00039 |       0.42774\n",
      "     -0.00220 |      -0.00427 |      6.46e+05 |       0.00014 |       0.42658\n",
      "Evaluating losses...\n",
      "     -0.00315 |      -0.00426 |      6.46e+05 |       0.00021 |       0.42571\n",
      "-----------------------------------\n",
      "| EpLenMean       | 5.33          |\n",
      "| EpRewMean       | 999           |\n",
      "| EpThisIter      | 47            |\n",
      "| EpisodesSoFar   | 1983          |\n",
      "| TimeElapsed     | 29.8          |\n",
      "| TimestepsSoFar  | 15616         |\n",
      "| ev_tdlam_before | -7.27e-06     |\n",
      "| loss_ent        | 0.42571482    |\n",
      "| loss_kl         | 0.00020655527 |\n",
      "| loss_pol_entpen | -0.004257148  |\n",
      "| loss_pol_surr   | -0.0031519337 |\n",
      "| loss_vf_loss    | 645781.3      |\n",
      "-----------------------------------\n",
      "********** Iteration 61 ************\n",
      "Optimizing...\n",
      "     pol_surr |    pol_entpen |       vf_loss |            kl |           ent\n",
      "      0.00069 |      -0.00447 |      6.54e+05 |      3.98e-05 |       0.44743\n",
      "     -0.00023 |      -0.00447 |      6.54e+05 |      9.93e-05 |       0.44722\n",
      "      0.00024 |      -0.00446 |      6.54e+05 |       0.00026 |       0.44601\n",
      "     -0.00076 |      -0.00445 |      6.54e+05 |       0.00032 |       0.44526\n",
      "Evaluating losses...\n",
      "     -0.00129 |      -0.00445 |      6.54e+05 |       0.00023 |       0.44521\n",
      "-----------------------------------\n",
      "| EpLenMean       | 5.29          |\n",
      "| EpRewMean       | 1e+03         |\n",
      "| EpThisIter      | 49            |\n",
      "| EpisodesSoFar   | 2032          |\n",
      "| TimeElapsed     | 30.3          |\n",
      "| TimestepsSoFar  | 15872         |\n",
      "| ev_tdlam_before | 4.23e-06      |\n",
      "| loss_ent        | 0.4452107     |\n",
      "| loss_kl         | 0.00022506453 |\n",
      "| loss_pol_entpen | -0.004452107  |\n",
      "| loss_pol_surr   | -0.0012920313 |\n",
      "| loss_vf_loss    | 653508.56     |\n",
      "-----------------------------------\n",
      "********** Iteration 62 ************\n",
      "Optimizing...\n",
      "     pol_surr |    pol_entpen |       vf_loss |            kl |           ent\n",
      "     -0.00022 |      -0.00461 |      6.35e+05 |      6.41e-05 |       0.46066\n",
      "     -0.00083 |      -0.00460 |      6.35e+05 |       0.00056 |       0.46032\n",
      "     -0.00161 |      -0.00460 |      6.35e+05 |       0.00051 |       0.46028\n",
      "     -0.00233 |      -0.00461 |      6.35e+05 |       0.00023 |       0.46120\n",
      "Evaluating losses...\n",
      "     -0.00263 |      -0.00462 |      6.35e+05 |       0.00024 |       0.46154\n",
      "-----------------------------------\n",
      "| EpLenMean       | 5.39          |\n",
      "| EpRewMean       | 1e+03         |\n",
      "| EpThisIter      | 45            |\n",
      "| EpisodesSoFar   | 2077          |\n",
      "| TimeElapsed     | 30.8          |\n",
      "| TimestepsSoFar  | 16128         |\n",
      "| ev_tdlam_before | -1.67e-06     |\n",
      "| loss_ent        | 0.46154436    |\n",
      "| loss_kl         | 0.00023666778 |\n",
      "| loss_pol_entpen | -0.0046154438 |\n",
      "| loss_pol_surr   | -0.0026314333 |\n",
      "| loss_vf_loss    | 634815.3      |\n",
      "-----------------------------------\n",
      "********** Iteration 63 ************\n",
      "Optimizing...\n",
      "     pol_surr |    pol_entpen |       vf_loss |            kl |           ent\n",
      "      0.00039 |      -0.00429 |      6.38e+05 |      9.29e-06 |       0.42863\n",
      "     -0.00159 |      -0.00428 |      6.38e+05 |       0.00017 |       0.42760\n",
      "     -0.00184 |      -0.00426 |      6.38e+05 |       0.00064 |       0.42636\n",
      "     -0.00199 |      -0.00426 |      6.38e+05 |       0.00075 |       0.42603\n",
      "Evaluating losses...\n",
      "     -0.00283 |      -0.00426 |      6.38e+05 |       0.00055 |       0.42629\n",
      "-----------------------------------\n",
      "| EpLenMean       | 5.51          |\n",
      "| EpRewMean       | 999           |\n",
      "| EpThisIter      | 46            |\n",
      "| EpisodesSoFar   | 2123          |\n",
      "| TimeElapsed     | 31.3          |\n",
      "| TimestepsSoFar  | 16384         |\n",
      "| ev_tdlam_before | -5.96e-07     |\n",
      "| loss_ent        | 0.42628604    |\n",
      "| loss_kl         | 0.00054619473 |\n",
      "| loss_pol_entpen | -0.0042628604 |\n",
      "| loss_pol_surr   | -0.0028308444 |\n",
      "| loss_vf_loss    | 638102.2      |\n",
      "-----------------------------------\n"
     ]
    },
    {
     "name": "stdout",
     "output_type": "stream",
     "text": [
      "********** Iteration 64 ************\n",
      "Optimizing...\n",
      "     pol_surr |    pol_entpen |       vf_loss |            kl |           ent\n",
      "     4.02e-05 |      -0.00466 |      6.52e+05 |      4.41e-06 |       0.46608\n",
      "     -0.00081 |      -0.00466 |      6.52e+05 |      3.08e-05 |       0.46629\n",
      "     -0.00208 |      -0.00467 |      6.52e+05 |       0.00021 |       0.46663\n",
      "     -0.00226 |      -0.00468 |      6.52e+05 |       0.00047 |       0.46752\n",
      "Evaluating losses...\n",
      "     -0.00275 |      -0.00468 |      6.52e+05 |       0.00048 |       0.46788\n",
      "-----------------------------------\n",
      "| EpLenMean       | 5.4           |\n",
      "| EpRewMean       | 1e+03         |\n",
      "| EpThisIter      | 49            |\n",
      "| EpisodesSoFar   | 2172          |\n",
      "| TimeElapsed     | 31.8          |\n",
      "| TimestepsSoFar  | 16640         |\n",
      "| ev_tdlam_before | 5.36e-07      |\n",
      "| loss_ent        | 0.46788037    |\n",
      "| loss_kl         | 0.00048464607 |\n",
      "| loss_pol_entpen | -0.0046788035 |\n",
      "| loss_pol_surr   | -0.0027491534 |\n",
      "| loss_vf_loss    | 652153.0      |\n",
      "-----------------------------------\n",
      "********** Iteration 65 ************\n",
      "Optimizing...\n",
      "     pol_surr |    pol_entpen |       vf_loss |            kl |           ent\n",
      "    -6.25e-05 |      -0.00411 |      6.75e+05 |      3.79e-06 |       0.41120\n",
      "     -0.00080 |      -0.00411 |      6.75e+05 |      3.32e-05 |       0.41145\n",
      "     -0.00139 |      -0.00411 |      6.75e+05 |       0.00012 |       0.41141\n",
      "     -0.00169 |      -0.00412 |      6.75e+05 |       0.00016 |       0.41170\n",
      "Evaluating losses...\n",
      "     -0.00216 |      -0.00412 |      6.75e+05 |       0.00016 |       0.41211\n",
      "-----------------------------------\n",
      "| EpLenMean       | 4.93          |\n",
      "| EpRewMean       | 1e+03         |\n",
      "| EpThisIter      | 55            |\n",
      "| EpisodesSoFar   | 2227          |\n",
      "| TimeElapsed     | 32.3          |\n",
      "| TimestepsSoFar  | 16896         |\n",
      "| ev_tdlam_before | 2.56e-06      |\n",
      "| loss_ent        | 0.41210932    |\n",
      "| loss_kl         | 0.00016492537 |\n",
      "| loss_pol_entpen | -0.004121093  |\n",
      "| loss_pol_surr   | -0.0021632705 |\n",
      "| loss_vf_loss    | 674524.1      |\n",
      "-----------------------------------\n",
      "********** Iteration 66 ************\n",
      "Optimizing...\n",
      "     pol_surr |    pol_entpen |       vf_loss |            kl |           ent\n",
      "      0.00053 |      -0.00445 |      6.28e+05 |      9.81e-06 |       0.44472\n",
      "     -0.00024 |      -0.00445 |      6.28e+05 |      4.75e-05 |       0.44472\n",
      "     -0.00059 |      -0.00444 |      6.28e+05 |       0.00026 |       0.44449\n",
      "     -0.00073 |      -0.00444 |      6.28e+05 |       0.00027 |       0.44438\n",
      "Evaluating losses...\n",
      "     -0.00127 |      -0.00445 |      6.28e+05 |       0.00017 |       0.44453\n",
      "-----------------------------------\n",
      "| EpLenMean       | 5.09          |\n",
      "| EpRewMean       | 1e+03         |\n",
      "| EpThisIter      | 45            |\n",
      "| EpisodesSoFar   | 2272          |\n",
      "| TimeElapsed     | 32.8          |\n",
      "| TimestepsSoFar  | 17152         |\n",
      "| ev_tdlam_before | 1.19e-07      |\n",
      "| loss_ent        | 0.44452524    |\n",
      "| loss_kl         | 0.00017104878 |\n",
      "| loss_pol_entpen | -0.0044452525 |\n",
      "| loss_pol_surr   | -0.0012733527 |\n",
      "| loss_vf_loss    | 627828.6      |\n",
      "-----------------------------------\n",
      "********** Iteration 67 ************\n",
      "Optimizing...\n",
      "     pol_surr |    pol_entpen |       vf_loss |            kl |           ent\n",
      "     6.67e-05 |      -0.00399 |      6.62e+05 |      2.18e-05 |       0.39918\n",
      "     -0.00091 |      -0.00399 |      6.62e+05 |       0.00012 |       0.39926\n",
      "     -0.00132 |      -0.00399 |      6.62e+05 |       0.00017 |       0.39873\n",
      "     -0.00150 |      -0.00398 |      6.62e+05 |       0.00028 |       0.39810\n",
      "Evaluating losses...\n",
      "     -0.00192 |      -0.00398 |      6.62e+05 |       0.00036 |       0.39797\n",
      "-----------------------------------\n",
      "| EpLenMean       | 5.22          |\n",
      "| EpRewMean       | 1e+03         |\n",
      "| EpThisIter      | 53            |\n",
      "| EpisodesSoFar   | 2325          |\n",
      "| TimeElapsed     | 33.2          |\n",
      "| TimestepsSoFar  | 17408         |\n",
      "| ev_tdlam_before | 2.38e-06      |\n",
      "| loss_ent        | 0.39797297    |\n",
      "| loss_kl         | 0.00036458945 |\n",
      "| loss_pol_entpen | -0.0039797295 |\n",
      "| loss_pol_surr   | -0.0019203126 |\n",
      "| loss_vf_loss    | 661978.6      |\n",
      "-----------------------------------\n",
      "********** Iteration 68 ************\n",
      "Optimizing...\n",
      "     pol_surr |    pol_entpen |       vf_loss |            kl |           ent\n",
      "     -0.00036 |      -0.00434 |      6.31e+05 |      5.38e-06 |       0.43366\n",
      "     -0.00124 |      -0.00433 |      6.31e+05 |      8.21e-05 |       0.43266\n",
      "     -0.00112 |      -0.00432 |      6.31e+05 |       0.00012 |       0.43233\n",
      "     -0.00177 |      -0.00433 |      6.31e+05 |      7.96e-05 |       0.43270\n",
      "Evaluating losses...\n",
      "     -0.00224 |      -0.00433 |      6.31e+05 |      8.72e-05 |       0.43319\n",
      "----------------------------------\n",
      "| EpLenMean       | 5.42         |\n",
      "| EpRewMean       | 1e+03        |\n",
      "| EpThisIter      | 42           |\n",
      "| EpisodesSoFar   | 2367         |\n",
      "| TimeElapsed     | 33.7         |\n",
      "| TimestepsSoFar  | 17664        |\n",
      "| ev_tdlam_before | -4.65e-06    |\n",
      "| loss_ent        | 0.4331898    |\n",
      "| loss_kl         | 8.715216e-05 |\n",
      "| loss_pol_entpen | -0.004331898 |\n",
      "| loss_pol_surr   | -0.002244996 |\n",
      "| loss_vf_loss    | 631121.8     |\n",
      "----------------------------------\n",
      "********** Iteration 69 ************\n",
      "Optimizing...\n",
      "     pol_surr |    pol_entpen |       vf_loss |            kl |           ent\n",
      "      0.00026 |      -0.00426 |      6.58e+05 |      4.50e-06 |       0.42555\n",
      "     -0.00037 |      -0.00425 |      6.58e+05 |      3.65e-05 |       0.42499\n",
      "     -0.00077 |      -0.00424 |      6.58e+05 |       0.00012 |       0.42417\n",
      "     -0.00078 |      -0.00424 |      6.58e+05 |       0.00013 |       0.42381\n",
      "Evaluating losses...\n",
      "     -0.00103 |      -0.00424 |      6.57e+05 |      9.36e-05 |       0.42372\n",
      "-----------------------------------\n",
      "| EpLenMean       | 5.45          |\n",
      "| EpRewMean       | 1e+03         |\n",
      "| EpThisIter      | 50            |\n",
      "| EpisodesSoFar   | 2417          |\n",
      "| TimeElapsed     | 34.2          |\n",
      "| TimestepsSoFar  | 17920         |\n",
      "| ev_tdlam_before | -5.96e-07     |\n",
      "| loss_ent        | 0.42372075    |\n",
      "| loss_kl         | 9.362606e-05  |\n",
      "| loss_pol_entpen | -0.0042372076 |\n",
      "| loss_pol_surr   | -0.0010339003 |\n",
      "| loss_vf_loss    | 657477.75     |\n",
      "-----------------------------------\n",
      "********** Iteration 70 ************\n",
      "Optimizing...\n",
      "     pol_surr |    pol_entpen |       vf_loss |            kl |           ent\n",
      "      0.00030 |      -0.00438 |      6.29e+05 |      7.87e-06 |       0.43829\n",
      "     -0.00042 |      -0.00438 |      6.29e+05 |      2.94e-05 |       0.43828\n",
      "     -0.00084 |      -0.00438 |      6.29e+05 |      5.92e-05 |       0.43832\n",
      "     -0.00125 |      -0.00438 |      6.29e+05 |      8.22e-05 |       0.43838\n",
      "Evaluating losses...\n",
      "     -0.00140 |      -0.00438 |      6.28e+05 |       0.00011 |       0.43828\n",
      "-----------------------------------\n",
      "| EpLenMean       | 5.31          |\n",
      "| EpRewMean       | 999           |\n",
      "| EpThisIter      | 47            |\n",
      "| EpisodesSoFar   | 2464          |\n",
      "| TimeElapsed     | 34.7          |\n",
      "| TimestepsSoFar  | 18176         |\n",
      "| ev_tdlam_before | -2.74e-06     |\n",
      "| loss_ent        | 0.43827683    |\n",
      "| loss_kl         | 0.00010718645 |\n",
      "| loss_pol_entpen | -0.0043827677 |\n",
      "| loss_pol_surr   | -0.0014035292 |\n",
      "| loss_vf_loss    | 628483.3      |\n",
      "-----------------------------------\n",
      "********** Iteration 71 ************\n",
      "Optimizing...\n",
      "     pol_surr |    pol_entpen |       vf_loss |            kl |           ent\n",
      "     3.68e-05 |      -0.00437 |      6.20e+05 |      2.07e-06 |       0.43744\n",
      "     -0.00014 |      -0.00437 |      6.20e+05 |      2.15e-05 |       0.43749\n",
      "     -0.00028 |      -0.00437 |      6.20e+05 |      5.22e-05 |       0.43746\n",
      "     -0.00044 |      -0.00437 |      6.20e+05 |      4.06e-05 |       0.43729\n",
      "Evaluating losses...\n",
      "     -0.00069 |      -0.00437 |      6.20e+05 |      3.23e-05 |       0.43723\n",
      "-----------------------------------\n",
      "| EpLenMean       | 5.48          |\n",
      "| EpRewMean       | 999           |\n",
      "| EpThisIter      | 43            |\n",
      "| EpisodesSoFar   | 2507          |\n",
      "| TimeElapsed     | 35.2          |\n",
      "| TimestepsSoFar  | 18432         |\n",
      "| ev_tdlam_before | -3.58e-07     |\n",
      "| loss_ent        | 0.43722957    |\n",
      "| loss_kl         | 3.2342563e-05 |\n",
      "| loss_pol_entpen | -0.0043722955 |\n",
      "| loss_pol_surr   | -0.0006886739 |\n",
      "| loss_vf_loss    | 619752.4      |\n",
      "-----------------------------------\n"
     ]
    },
    {
     "name": "stdout",
     "output_type": "stream",
     "text": [
      "********** Iteration 72 ************\n",
      "Optimizing...\n",
      "     pol_surr |    pol_entpen |       vf_loss |            kl |           ent\n",
      "    -7.88e-05 |      -0.00461 |      6.44e+05 |      4.79e-07 |       0.46055\n",
      "     -0.00074 |      -0.00460 |      6.44e+05 |      2.84e-05 |       0.45994\n",
      "     -0.00086 |      -0.00459 |      6.44e+05 |      7.91e-05 |       0.45946\n",
      "     -0.00123 |      -0.00459 |      6.44e+05 |      7.54e-05 |       0.45949\n",
      "Evaluating losses...\n",
      "     -0.00130 |      -0.00459 |      6.43e+05 |      7.22e-05 |       0.45941\n",
      "-----------------------------------\n",
      "| EpLenMean       | 5.82          |\n",
      "| EpRewMean       | 1e+03         |\n",
      "| EpThisIter      | 45            |\n",
      "| EpisodesSoFar   | 2552          |\n",
      "| TimeElapsed     | 35.7          |\n",
      "| TimestepsSoFar  | 18688         |\n",
      "| ev_tdlam_before | 3.64e-06      |\n",
      "| loss_ent        | 0.4594077     |\n",
      "| loss_kl         | 7.22401e-05   |\n",
      "| loss_pol_entpen | -0.0045940764 |\n",
      "| loss_pol_surr   | -0.0013048574 |\n",
      "| loss_vf_loss    | 643491.75     |\n",
      "-----------------------------------\n",
      "********** Iteration 73 ************\n",
      "Optimizing...\n",
      "     pol_surr |    pol_entpen |       vf_loss |            kl |           ent\n",
      "      0.00032 |      -0.00385 |      6.62e+05 |      5.76e-06 |       0.38520\n",
      "     7.56e-05 |      -0.00385 |      6.62e+05 |      1.45e-05 |       0.38522\n",
      "     -0.00024 |      -0.00385 |      6.62e+05 |      1.54e-05 |       0.38474\n",
      "     -0.00031 |      -0.00384 |      6.62e+05 |      2.80e-05 |       0.38418\n",
      "Evaluating losses...\n",
      "     -0.00046 |      -0.00384 |      6.62e+05 |      2.97e-05 |       0.38408\n",
      "-----------------------------------\n",
      "| EpLenMean       | 5.61          |\n",
      "| EpRewMean       | 1e+03         |\n",
      "| EpThisIter      | 48            |\n",
      "| EpisodesSoFar   | 2600          |\n",
      "| TimeElapsed     | 36.2          |\n",
      "| TimestepsSoFar  | 18944         |\n",
      "| ev_tdlam_before | -2.5e-06      |\n",
      "| loss_ent        | 0.38407513    |\n",
      "| loss_kl         | 2.9667302e-05 |\n",
      "| loss_pol_entpen | -0.003840751  |\n",
      "| loss_pol_surr   | -0.0004598908 |\n",
      "| loss_vf_loss    | 662198.3      |\n",
      "-----------------------------------\n",
      "********** Iteration 74 ************\n",
      "Optimizing...\n",
      "     pol_surr |    pol_entpen |       vf_loss |            kl |           ent\n",
      "     8.57e-05 |      -0.00440 |      6.47e+05 |      9.09e-07 |       0.44027\n",
      "    -1.95e-05 |      -0.00440 |      6.47e+05 |      3.44e-06 |       0.44013\n",
      "     -0.00023 |      -0.00440 |      6.47e+05 |      1.27e-05 |       0.43996\n",
      "     -0.00034 |      -0.00440 |      6.47e+05 |      1.90e-05 |       0.43992\n",
      "Evaluating losses...\n",
      "     -0.00049 |      -0.00440 |      6.47e+05 |      1.89e-05 |       0.43994\n",
      "------------------------------------\n",
      "| EpLenMean       | 5.49           |\n",
      "| EpRewMean       | 1e+03          |\n",
      "| EpThisIter      | 46             |\n",
      "| EpisodesSoFar   | 2646           |\n",
      "| TimeElapsed     | 36.7           |\n",
      "| TimestepsSoFar  | 19200          |\n",
      "| ev_tdlam_before | -1.43e-06      |\n",
      "| loss_ent        | 0.43994015     |\n",
      "| loss_kl         | 1.8888388e-05  |\n",
      "| loss_pol_entpen | -0.0043994016  |\n",
      "| loss_pol_surr   | -0.00048819836 |\n",
      "| loss_vf_loss    | 646946.25      |\n",
      "------------------------------------\n",
      "********** Iteration 75 ************\n",
      "Optimizing...\n",
      "     pol_surr |    pol_entpen |       vf_loss |            kl |           ent\n",
      "      0.00012 |      -0.00443 |      6.25e+05 |      1.06e-06 |       0.44257\n",
      "    -9.34e-05 |      -0.00443 |      6.25e+05 |      2.94e-06 |       0.44264\n",
      "     -0.00032 |      -0.00443 |      6.25e+05 |      1.22e-05 |       0.44269\n",
      "     -0.00035 |      -0.00443 |      6.25e+05 |      1.40e-05 |       0.44273\n",
      "Evaluating losses...\n",
      "     -0.00053 |      -0.00443 |      6.25e+05 |      1.12e-05 |       0.44280\n",
      "------------------------------------\n",
      "| EpLenMean       | 5.58           |\n",
      "| EpRewMean       | 1e+03          |\n",
      "| EpThisIter      | 42             |\n",
      "| EpisodesSoFar   | 2688           |\n",
      "| TimeElapsed     | 37.2           |\n",
      "| TimestepsSoFar  | 19456          |\n",
      "| ev_tdlam_before | 2.44e-06       |\n",
      "| loss_ent        | 0.4427995      |\n",
      "| loss_kl         | 1.1226449e-05  |\n",
      "| loss_pol_entpen | -0.004427995   |\n",
      "| loss_pol_surr   | -0.00052604824 |\n",
      "| loss_vf_loss    | 624558.5       |\n",
      "------------------------------------\n",
      "********** Iteration 76 ************\n",
      "Optimizing...\n",
      "     pol_surr |    pol_entpen |       vf_loss |            kl |           ent\n",
      "    -2.98e-05 |      -0.00414 |      6.40e+05 |      1.89e-07 |       0.41399\n",
      "     -0.00016 |      -0.00414 |      6.40e+05 |      2.92e-06 |       0.41391\n",
      "     -0.00032 |      -0.00414 |      6.40e+05 |      6.88e-06 |       0.41378\n",
      "     -0.00032 |      -0.00414 |      6.40e+05 |      8.72e-06 |       0.41367\n",
      "Evaluating losses...\n",
      "     -0.00031 |      -0.00414 |      6.40e+05 |      9.24e-06 |       0.41364\n",
      "------------------------------------\n",
      "| EpLenMean       | 5.89           |\n",
      "| EpRewMean       | 1e+03          |\n",
      "| EpThisIter      | 44             |\n",
      "| EpisodesSoFar   | 2732           |\n",
      "| TimeElapsed     | 37.7           |\n",
      "| TimestepsSoFar  | 19712          |\n",
      "| ev_tdlam_before | 1.37e-06       |\n",
      "| loss_ent        | 0.4136417      |\n",
      "| loss_kl         | 9.235483e-06   |\n",
      "| loss_pol_entpen | -0.0041364166  |\n",
      "| loss_pol_surr   | -0.00031380076 |\n",
      "| loss_vf_loss    | 639500.94      |\n",
      "------------------------------------\n",
      "********** Iteration 77 ************\n",
      "Optimizing...\n",
      "     pol_surr |    pol_entpen |       vf_loss |            kl |           ent\n",
      "     1.96e-05 |      -0.00432 |      6.40e+05 |      1.07e-07 |       0.43186\n",
      "    -2.89e-05 |      -0.00432 |      6.40e+05 |      4.06e-07 |       0.43186\n",
      "    -7.10e-05 |      -0.00432 |      6.40e+05 |      1.50e-06 |       0.43189\n",
      "    -6.04e-05 |      -0.00432 |      6.40e+05 |      2.22e-06 |       0.43191\n",
      "Evaluating losses...\n",
      "    -9.58e-05 |      -0.00432 |      6.40e+05 |      1.92e-06 |       0.43191\n",
      "------------------------------------\n",
      "| EpLenMean       | 5.65           |\n",
      "| EpRewMean       | 1e+03          |\n",
      "| EpThisIter      | 46             |\n",
      "| EpisodesSoFar   | 2778           |\n",
      "| TimeElapsed     | 38.2           |\n",
      "| TimestepsSoFar  | 19968          |\n",
      "| ev_tdlam_before | 6.56e-07       |\n",
      "| loss_ent        | 0.43191046     |\n",
      "| loss_kl         | 1.9189529e-06  |\n",
      "| loss_pol_entpen | -0.0043191044  |\n",
      "| loss_pol_surr   | -9.5798634e-05 |\n",
      "| loss_vf_loss    | 639559.6       |\n",
      "------------------------------------\n",
      "********** Iteration 78 ************\n",
      "Optimizing...\n",
      "     pol_surr |    pol_entpen |       vf_loss |            kl |           ent\n",
      "     9.87e-08 |      -0.00428 |      6.44e+05 |     -1.72e-10 |       0.42775\n",
      "    -2.75e-06 |      -0.00428 |      6.44e+05 |      8.36e-09 |       0.42775\n",
      "    -5.30e-06 |      -0.00428 |      6.44e+05 |      2.03e-09 |       0.42775\n",
      "    -1.08e-05 |      -0.00428 |      6.44e+05 |      4.13e-09 |       0.42775\n",
      "Evaluating losses...\n",
      "    -1.41e-05 |      -0.00428 |      6.44e+05 |      3.09e-09 |       0.42775\n",
      "------------------------------------\n",
      "| EpLenMean       | 5.31           |\n",
      "| EpRewMean       | 1e+03          |\n",
      "| EpThisIter      | 49             |\n",
      "| EpisodesSoFar   | 2827           |\n",
      "| TimeElapsed     | 38.8           |\n",
      "| TimestepsSoFar  | 20224          |\n",
      "| ev_tdlam_before | -4.77e-07      |\n",
      "| loss_ent        | 0.42775264     |\n",
      "| loss_kl         | 3.08667e-09    |\n",
      "| loss_pol_entpen | -0.0042775264  |\n",
      "| loss_pol_surr   | -1.4081597e-05 |\n",
      "| loss_vf_loss    | 643928.25      |\n",
      "------------------------------------\n"
     ]
    }
   ],
   "source": [
    "time_steps = 20000\n",
    "reward_function = \"tanh\"\n",
    "fake = \"FakeGym\"\n",
    "name = \"TRPO_mk1\"\n",
    "model_name = \"PPO1_{}_{}_{}_{}\".format(fake, name, reward_function, time_steps)\n",
    "\n",
    "model = PPO1(\"MlpPolicy\", env, verbose=1)\n",
    "model.learn(total_timesteps=time_steps, log_interval=100)\n",
    "model.save(\"models/{}\".format(model_name))\n",
    "del model"
   ]
  },
  {
   "cell_type": "code",
   "execution_count": 5,
   "metadata": {},
   "outputs": [
    {
     "data": {
      "text/plain": [
       "'PPO1_FakeGym_TRPO_mk1_tanh_20000'"
      ]
     },
     "execution_count": 5,
     "metadata": {},
     "output_type": "execute_result"
    }
   ],
   "source": [
    "model_name"
   ]
  },
  {
   "cell_type": "code",
   "execution_count": 6,
   "metadata": {},
   "outputs": [
    {
     "name": "stdout",
     "output_type": "stream",
     "text": [
      "Loading a model without an environment, this model cannot be trained until it has a valid environment.\n"
     ]
    },
    {
     "name": "stderr",
     "output_type": "stream",
     "text": [
      "/home/mats/anaconda3/lib/python3.7/site-packages/gym/logger.py:30: UserWarning: \u001b[33mWARN: Box bound precision lowered by casting to float32\u001b[0m\n",
      "  warnings.warn(colorize('%s: %s'%('WARN', msg % args), 'yellow'))\n"
     ]
    },
    {
     "data": {
      "text/plain": [
       "<Figure size 720x720 with 0 Axes>"
      ]
     },
     "metadata": {},
     "output_type": "display_data"
    },
    {
     "data": {
      "image/png": "[encoded data removed]",
      "text/plain": [
       "<Figure size 288x288 with 1 Axes>"
      ]
     },
     "metadata": {
      "needs_background": "light"
     },
     "output_type": "display_data"
    }
   ],
   "source": [
    "model = PPO1.load(\"models/{}\".format(model_name))\n",
    "env = MyEnv()\n",
    "obs = env.reset()\n",
    "\n",
    "env.render()\n",
    "done = False\n",
    "max_num_steps = 100\n",
    "time = 0"
   ]
  },
  {
   "cell_type": "code",
   "execution_count": 8,
   "metadata": {},
   "outputs": [
    {
     "name": "stdout",
     "output_type": "stream",
     "text": [
      "5\n",
      "4\n",
      "0\n",
      "3\n",
      "5\n",
      "1\n"
     ]
    },
    {
     "name": "stderr",
     "output_type": "stream",
     "text": [
      "/home/mats/Documents/Uni/ees-pees/backend/fakegym/fakegym.py:220: RuntimeWarning: More than 20 figures have been opened. Figures created through the pyplot interface (`matplotlib.pyplot.figure`) are retained until explicitly closed and may consume too much memory. (To control this warning, see the rcParam `figure.max_open_warning`).\n",
      "  plt.figure(figsize=(10, 10))\n",
      "/home/mats/Documents/Uni/ees-pees/backend/fakegym/fakegym.py:237: RuntimeWarning: More than 20 figures have been opened. Figures created through the pyplot interface (`matplotlib.pyplot.figure`) are retained until explicitly closed and may consume too much memory. (To control this warning, see the rcParam `figure.max_open_warning`).\n",
      "  plt.matshow(f)\n"
     ]
    },
    {
     "name": "stdout",
     "output_type": "stream",
     "text": [
      "8\n",
      "6\n",
      "7\n",
      "5\n",
      "4\n",
      "8\n",
      "4\n",
      "9\n",
      "5\n",
      "9\n",
      "7\n",
      "1\n",
      "8\n",
      "4\n"
     ]
    },
    {
     "data": {
      "text/plain": [
       "<Figure size 720x720 with 0 Axes>"
      ]
     },
     "metadata": {},
     "output_type": "display_data"
    },
    {
     "data": {
      "image/png": "[encoded data removed]",
      "text/plain": [
       "<Figure size 288x288 with 1 Axes>"
      ]
     },
     "metadata": {
      "needs_background": "light"
     },
     "output_type": "display_data"
    },
    {
     "data": {
      "text/plain": [
       "<Figure size 720x720 with 0 Axes>"
      ]
     },
     "metadata": {},
     "output_type": "display_data"
    },
    {
     "data": {
      "image/png": "[encoded data removed]",
      "text/plain": [
       "<Figure size 288x288 with 1 Axes>"
      ]
     },
     "metadata": {
      "needs_background": "light"
     },
     "output_type": "display_data"
    },
    {
     "data": {
      "text/plain": [
       "<Figure size 720x720 with 0 Axes>"
      ]
     },
     "metadata": {},
     "output_type": "display_data"
    },
    {
     "data": {
      "image/png": "[encoded data removed]",
      "text/plain": [
       "<Figure size 288x288 with 1 Axes>"
      ]
     },
     "metadata": {
      "needs_background": "light"
     },
     "output_type": "display_data"
    },
    {
     "data": {
      "text/plain": [
       "<Figure size 720x720 with 0 Axes>"
      ]
     },
     "metadata": {},
     "output_type": "display_data"
    },
    {
     "data": {
      "image/png": "[encoded data removed]",
      "text/plain": [
       "<Figure size 288x288 with 1 Axes>"
      ]
     },
     "metadata": {
      "needs_background": "light"
     },
     "output_type": "display_data"
    },
    {
     "data": {
      "text/plain": [
       "<Figure size 720x720 with 0 Axes>"
      ]
     },
     "metadata": {},
     "output_type": "display_data"
    },
    {
     "data": {
      "image/png": "[encoded data removed]",
      "text/plain": [
       "<Figure size 288x288 with 1 Axes>"
      ]
     },
     "metadata": {
      "needs_background": "light"
     },
     "output_type": "display_data"
    },
    {
     "data": {
      "text/plain": [
       "<Figure size 720x720 with 0 Axes>"
      ]
     },
     "metadata": {},
     "output_type": "display_data"
    },
    {
     "data": {
      "image/png": "[encoded data removed]",
      "text/plain": [
       "<Figure size 288x288 with 1 Axes>"
      ]
     },
     "metadata": {
      "needs_background": "light"
     },
     "output_type": "display_data"
    },
    {
     "data": {
      "text/plain": [
       "<Figure size 720x720 with 0 Axes>"
      ]
     },
     "metadata": {},
     "output_type": "display_data"
    },
    {
     "data": {
      "image/png": "[encoded data removed]",
      "text/plain": [
       "<Figure size 288x288 with 1 Axes>"
      ]
     },
     "metadata": {
      "needs_background": "light"
     },
     "output_type": "display_data"
    },
    {
     "data": {
      "text/plain": [
       "<Figure size 720x720 with 0 Axes>"
      ]
     },
     "metadata": {},
     "output_type": "display_data"
    },
    {
     "data": {
      "image/png": "[encoded data removed]",
      "text/plain": [
       "<Figure size 288x288 with 1 Axes>"
      ]
     },
     "metadata": {
      "needs_background": "light"
     },
     "output_type": "display_data"
    },
    {
     "data": {
      "text/plain": [
       "<Figure size 720x720 with 0 Axes>"
      ]
     },
     "metadata": {},
     "output_type": "display_data"
    },
    {
     "data": {
      "image/png": "[encoded data removed]",
      "text/plain": [
       "<Figure size 288x288 with 1 Axes>"
      ]
     },
     "metadata": {
      "needs_background": "light"
     },
     "output_type": "display_data"
    },
    {
     "data": {
      "text/plain": [
       "<Figure size 720x720 with 0 Axes>"
      ]
     },
     "metadata": {},
     "output_type": "display_data"
    },
    {
     "data": {
      "image/png": "[encoded data removed]",
      "text/plain": [
       "<Figure size 288x288 with 1 Axes>"
      ]
     },
     "metadata": {
      "needs_background": "light"
     },
     "output_type": "display_data"
    },
    {
     "data": {
      "text/plain": [
       "<Figure size 720x720 with 0 Axes>"
      ]
     },
     "metadata": {},
     "output_type": "display_data"
    },
    {
     "data": {
      "image/png": "[encoded data removed]",
      "text/plain": [
       "<Figure size 288x288 with 1 Axes>"
      ]
     },
     "metadata": {
      "needs_background": "light"
     },
     "output_type": "display_data"
    },
    {
     "data": {
      "text/plain": [
       "<Figure size 720x720 with 0 Axes>"
      ]
     },
     "metadata": {},
     "output_type": "display_data"
    },
    {
     "data": {
      "image/png": "[encoded data removed]",
      "text/plain": [
       "<Figure size 288x288 with 1 Axes>"
      ]
     },
     "metadata": {
      "needs_background": "light"
     },
     "output_type": "display_data"
    },
    {
     "data": {
      "text/plain": [
       "<Figure size 720x720 with 0 Axes>"
      ]
     },
     "metadata": {},
     "output_type": "display_data"
    },
    {
     "data": {
      "image/png": "[encoded data removed]",
      "text/plain": [
       "<Figure size 288x288 with 1 Axes>"
      ]
     },
     "metadata": {
      "needs_background": "light"
     },
     "output_type": "display_data"
    },
    {
     "data": {
      "text/plain": [
       "<Figure size 720x720 with 0 Axes>"
      ]
     },
     "metadata": {},
     "output_type": "display_data"
    },
    {
     "data": {
      "image/png": "[encoded data removed]",
      "text/plain": [
       "<Figure size 288x288 with 1 Axes>"
      ]
     },
     "metadata": {
      "needs_background": "light"
     },
     "output_type": "display_data"
    },
    {
     "data": {
      "text/plain": [
       "<Figure size 720x720 with 0 Axes>"
      ]
     },
     "metadata": {},
     "output_type": "display_data"
    },
    {
     "data": {
      "image/png": "[encoded data removed]",
      "text/plain": [
       "<Figure size 288x288 with 1 Axes>"
      ]
     },
     "metadata": {
      "needs_background": "light"
     },
     "output_type": "display_data"
    },
    {
     "data": {
      "text/plain": [
       "<Figure size 720x720 with 0 Axes>"
      ]
     },
     "metadata": {},
     "output_type": "display_data"
    },
    {
     "data": {
      "image/png": "[encoded data removed]",
      "text/plain": [
       "<Figure size 288x288 with 1 Axes>"
      ]
     },
     "metadata": {
      "needs_background": "light"
     },
     "output_type": "display_data"
    },
    {
     "data": {
      "text/plain": [
       "<Figure size 720x720 with 0 Axes>"
      ]
     },
     "metadata": {},
     "output_type": "display_data"
    },
    {
     "data": {
      "image/png": "[encoded data removed]",
      "text/plain": [
       "<Figure size 288x288 with 1 Axes>"
      ]
     },
     "metadata": {
      "needs_background": "light"
     },
     "output_type": "display_data"
    },
    {
     "data": {
      "text/plain": [
       "<Figure size 720x720 with 0 Axes>"
      ]
     },
     "metadata": {},
     "output_type": "display_data"
    },
    {
     "data": {
      "image/png": "[encoded data removed]",
      "text/plain": [
       "<Figure size 288x288 with 1 Axes>"
      ]
     },
     "metadata": {
      "needs_background": "light"
     },
     "output_type": "display_data"
    },
    {
     "data": {
      "text/plain": [
       "<Figure size 720x720 with 0 Axes>"
      ]
     },
     "metadata": {},
     "output_type": "display_data"
    },
    {
     "data": {
      "image/png": "[encoded data removed]",
      "text/plain": [
       "<Figure size 288x288 with 1 Axes>"
      ]
     },
     "metadata": {
      "needs_background": "light"
     },
     "output_type": "display_data"
    },
    {
     "data": {
      "text/plain": [
       "<Figure size 720x720 with 0 Axes>"
      ]
     },
     "metadata": {},
     "output_type": "display_data"
    },
    {
     "data": {
      "image/png": "[encoded data removed]",
      "text/plain": [
       "<Figure size 288x288 with 1 Axes>"
      ]
     },
     "metadata": {
      "needs_background": "light"
     },
     "output_type": "display_data"
    },
    {
     "data": {
      "text/plain": [
       "<Figure size 720x720 with 0 Axes>"
      ]
     },
     "metadata": {},
     "output_type": "display_data"
    },
    {
     "data": {
      "image/png": "[encoded data removed]",
      "text/plain": [
       "<Figure size 288x288 with 1 Axes>"
      ]
     },
     "metadata": {
      "needs_background": "light"
     },
     "output_type": "display_data"
    },
    {
     "data": {
      "text/plain": [
       "<Figure size 720x720 with 0 Axes>"
      ]
     },
     "metadata": {},
     "output_type": "display_data"
    },
    {
     "data": {
      "image/png": "[encoded data removed]",
      "text/plain": [
       "<Figure size 288x288 with 1 Axes>"
      ]
     },
     "metadata": {
      "needs_background": "light"
     },
     "output_type": "display_data"
    },
    {
     "data": {
      "text/plain": [
       "<Figure size 720x720 with 0 Axes>"
      ]
     },
     "metadata": {},
     "output_type": "display_data"
    },
    {
     "data": {
      "image/png": "[encoded data removed]",
      "text/plain": [
       "<Figure size 288x288 with 1 Axes>"
      ]
     },
     "metadata": {
      "needs_background": "light"
     },
     "output_type": "display_data"
    },
    {
     "data": {
      "text/plain": [
       "<Figure size 720x720 with 0 Axes>"
      ]
     },
     "metadata": {},
     "output_type": "display_data"
    },
    {
     "data": {
      "image/png": "[encoded data removed]",
      "text/plain": [
       "<Figure size 288x288 with 1 Axes>"
      ]
     },
     "metadata": {
      "needs_background": "light"
     },
     "output_type": "display_data"
    },
    {
     "data": {
      "text/plain": [
       "<Figure size 720x720 with 0 Axes>"
      ]
     },
     "metadata": {},
     "output_type": "display_data"
    },
    {
     "data": {
      "image/png": "[encoded data removed]",
      "text/plain": [
       "<Figure size 288x288 with 1 Axes>"
      ]
     },
     "metadata": {
      "needs_background": "light"
     },
     "output_type": "display_data"
    },
    {
     "data": {
      "text/plain": [
       "<Figure size 720x720 with 0 Axes>"
      ]
     },
     "metadata": {},
     "output_type": "display_data"
    },
    {
     "data": {
      "image/png": "[encoded data removed]",
      "text/plain": [
       "<Figure size 288x288 with 1 Axes>"
      ]
     },
     "metadata": {
      "needs_background": "light"
     },
     "output_type": "display_data"
    },
    {
     "data": {
      "text/plain": [
       "<Figure size 720x720 with 0 Axes>"
      ]
     },
     "metadata": {},
     "output_type": "display_data"
    },
    {
     "data": {
      "image/png": "[encoded data removed]",
      "text/plain": [
       "<Figure size 288x288 with 1 Axes>"
      ]
     },
     "metadata": {
      "needs_background": "light"
     },
     "output_type": "display_data"
    },
    {
     "data": {
      "text/plain": [
       "<Figure size 720x720 with 0 Axes>"
      ]
     },
     "metadata": {},
     "output_type": "display_data"
    },
    {
     "data": {
      "image/png": "[encoded data removed]",
      "text/plain": [
       "<Figure size 288x288 with 1 Axes>"
      ]
     },
     "metadata": {
      "needs_background": "light"
     },
     "output_type": "display_data"
    },
    {
     "data": {
      "text/plain": [
       "<Figure size 720x720 with 0 Axes>"
      ]
     },
     "metadata": {},
     "output_type": "display_data"
    },
    {
     "data": {
      "image/png": "[encoded data removed]",
      "text/plain": [
       "<Figure size 288x288 with 1 Axes>"
      ]
     },
     "metadata": {
      "needs_background": "light"
     },
     "output_type": "display_data"
    },
    {
     "data": {
      "text/plain": [
       "<Figure size 720x720 with 0 Axes>"
      ]
     },
     "metadata": {},
     "output_type": "display_data"
    },
    {
     "data": {
      "image/png": "[encoded data removed]",
      "text/plain": [
       "<Figure size 288x288 with 1 Axes>"
      ]
     },
     "metadata": {
      "needs_background": "light"
     },
     "output_type": "display_data"
    },
    {
     "data": {
      "text/plain": [
       "<Figure size 720x720 with 0 Axes>"
      ]
     },
     "metadata": {},
     "output_type": "display_data"
    },
    {
     "data": {
      "image/png": "[encoded data removed]",
      "text/plain": [
       "<Figure size 288x288 with 1 Axes>"
      ]
     },
     "metadata": {
      "needs_background": "light"
     },
     "output_type": "display_data"
    },
    {
     "data": {
      "text/plain": [
       "<Figure size 720x720 with 0 Axes>"
      ]
     },
     "metadata": {},
     "output_type": "display_data"
    },
    {
     "data": {
      "image/png": "[encoded data removed]",
      "text/plain": [
       "<Figure size 288x288 with 1 Axes>"
      ]
     },
     "metadata": {
      "needs_background": "light"
     },
     "output_type": "display_data"
    },
    {
     "data": {
      "text/plain": [
       "<Figure size 720x720 with 0 Axes>"
      ]
     },
     "metadata": {},
     "output_type": "display_data"
    },
    {
     "data": {
      "image/png": "[encoded data removed]",
      "text/plain": [
       "<Figure size 288x288 with 1 Axes>"
      ]
     },
     "metadata": {
      "needs_background": "light"
     },
     "output_type": "display_data"
    },
    {
     "data": {
      "text/plain": [
       "<Figure size 720x720 with 0 Axes>"
      ]
     },
     "metadata": {},
     "output_type": "display_data"
    },
    {
     "data": {
      "image/png": "[encoded data removed]",
      "text/plain": [
       "<Figure size 288x288 with 1 Axes>"
      ]
     },
     "metadata": {
      "needs_background": "light"
     },
     "output_type": "display_data"
    },
    {
     "data": {
      "text/plain": [
       "<Figure size 720x720 with 0 Axes>"
      ]
     },
     "metadata": {},
     "output_type": "display_data"
    },
    {
     "data": {
      "image/png": "[encoded data removed]",
      "text/plain": [
       "<Figure size 288x288 with 1 Axes>"
      ]
     },
     "metadata": {
      "needs_background": "light"
     },
     "output_type": "display_data"
    },
    {
     "data": {
      "text/plain": [
       "<Figure size 720x720 with 0 Axes>"
      ]
     },
     "metadata": {},
     "output_type": "display_data"
    },
    {
     "data": {
      "image/png": "[encoded data removed]",
      "text/plain": [
       "<Figure size 288x288 with 1 Axes>"
      ]
     },
     "metadata": {
      "needs_background": "light"
     },
     "output_type": "display_data"
    },
    {
     "data": {
      "text/plain": [
       "<Figure size 720x720 with 0 Axes>"
      ]
     },
     "metadata": {},
     "output_type": "display_data"
    },
    {
     "data": {
      "image/png": "[encoded data removed]",
      "text/plain": [
       "<Figure size 288x288 with 1 Axes>"
      ]
     },
     "metadata": {
      "needs_background": "light"
     },
     "output_type": "display_data"
    },
    {
     "data": {
      "text/plain": [
       "<Figure size 720x720 with 0 Axes>"
      ]
     },
     "metadata": {},
     "output_type": "display_data"
    },
    {
     "data": {
      "image/png": "[encoded data removed]",
      "text/plain": [
       "<Figure size 288x288 with 1 Axes>"
      ]
     },
     "metadata": {
      "needs_background": "light"
     },
     "output_type": "display_data"
    },
    {
     "data": {
      "text/plain": [
       "<Figure size 720x720 with 0 Axes>"
      ]
     },
     "metadata": {},
     "output_type": "display_data"
    },
    {
     "data": {
      "image/png": "[encoded data removed]",
      "text/plain": [
       "<Figure size 288x288 with 1 Axes>"
      ]
     },
     "metadata": {
      "needs_background": "light"
     },
     "output_type": "display_data"
    },
    {
     "data": {
      "text/plain": [
       "<Figure size 720x720 with 0 Axes>"
      ]
     },
     "metadata": {},
     "output_type": "display_data"
    },
    {
     "data": {
      "image/png": "[encoded data removed]",
      "text/plain": [
       "<Figure size 288x288 with 1 Axes>"
      ]
     },
     "metadata": {
      "needs_background": "light"
     },
     "output_type": "display_data"
    },
    {
     "data": {
      "text/plain": [
       "<Figure size 720x720 with 0 Axes>"
      ]
     },
     "metadata": {},
     "output_type": "display_data"
    },
    {
     "data": {
      "image/png": "[encoded data removed]",
      "text/plain": [
       "<Figure size 288x288 with 1 Axes>"
      ]
     },
     "metadata": {
      "needs_background": "light"
     },
     "output_type": "display_data"
    },
    {
     "data": {
      "text/plain": [
       "<Figure size 720x720 with 0 Axes>"
      ]
     },
     "metadata": {},
     "output_type": "display_data"
    },
    {
     "data": {
      "image/png": "[encoded data removed]",
      "text/plain": [
       "<Figure size 288x288 with 1 Axes>"
      ]
     },
     "metadata": {
      "needs_background": "light"
     },
     "output_type": "display_data"
    },
    {
     "data": {
      "text/plain": [
       "<Figure size 720x720 with 0 Axes>"
      ]
     },
     "metadata": {},
     "output_type": "display_data"
    },
    {
     "data": {
      "image/png": "[encoded data removed]",
      "text/plain": [
       "<Figure size 288x288 with 1 Axes>"
      ]
     },
     "metadata": {
      "needs_background": "light"
     },
     "output_type": "display_data"
    },
    {
     "data": {
      "text/plain": [
       "<Figure size 720x720 with 0 Axes>"
      ]
     },
     "metadata": {},
     "output_type": "display_data"
    },
    {
     "data": {
      "image/png": "[encoded data removed]",
      "text/plain": [
       "<Figure size 288x288 with 1 Axes>"
      ]
     },
     "metadata": {
      "needs_background": "light"
     },
     "output_type": "display_data"
    },
    {
     "data": {
      "text/plain": [
       "<Figure size 720x720 with 0 Axes>"
      ]
     },
     "metadata": {},
     "output_type": "display_data"
    },
    {
     "data": {
      "image/png": "[encoded data removed]",
      "text/plain": [
       "<Figure size 288x288 with 1 Axes>"
      ]
     },
     "metadata": {
      "needs_background": "light"
     },
     "output_type": "display_data"
    },
    {
     "data": {
      "text/plain": [
       "<Figure size 720x720 with 0 Axes>"
      ]
     },
     "metadata": {},
     "output_type": "display_data"
    },
    {
     "data": {
      "image/png": "[encoded data removed]",
      "text/plain": [
       "<Figure size 288x288 with 1 Axes>"
      ]
     },
     "metadata": {
      "needs_background": "light"
     },
     "output_type": "display_data"
    },
    {
     "data": {
      "text/plain": [
       "<Figure size 720x720 with 0 Axes>"
      ]
     },
     "metadata": {},
     "output_type": "display_data"
    },
    {
     "data": {
      "image/png": "[encoded data removed]",
      "text/plain": [
       "<Figure size 288x288 with 1 Axes>"
      ]
     },
     "metadata": {
      "needs_background": "light"
     },
     "output_type": "display_data"
    },
    {
     "data": {
      "text/plain": [
       "<Figure size 720x720 with 0 Axes>"
      ]
     },
     "metadata": {},
     "output_type": "display_data"
    },
    {
     "data": {
      "image/png": "[encoded data removed]",
      "text/plain": [
       "<Figure size 288x288 with 1 Axes>"
      ]
     },
     "metadata": {
      "needs_background": "light"
     },
     "output_type": "display_data"
    },
    {
     "data": {
      "text/plain": [
       "<Figure size 720x720 with 0 Axes>"
      ]
     },
     "metadata": {},
     "output_type": "display_data"
    },
    {
     "data": {
      "image/png": "[encoded data removed]",
      "text/plain": [
       "<Figure size 288x288 with 1 Axes>"
      ]
     },
     "metadata": {
      "needs_background": "light"
     },
     "output_type": "display_data"
    },
    {
     "data": {
      "text/plain": [
       "<Figure size 720x720 with 0 Axes>"
      ]
     },
     "metadata": {},
     "output_type": "display_data"
    },
    {
     "data": {
      "image/png": "[encoded data removed]",
      "text/plain": [
       "<Figure size 288x288 with 1 Axes>"
      ]
     },
     "metadata": {
      "needs_background": "light"
     },
     "output_type": "display_data"
    },
    {
     "data": {
      "text/plain": [
       "<Figure size 720x720 with 0 Axes>"
      ]
     },
     "metadata": {},
     "output_type": "display_data"
    },
    {
     "data": {
      "image/png": "[encoded data removed]",
      "text/plain": [
       "<Figure size 288x288 with 1 Axes>"
      ]
     },
     "metadata": {
      "needs_background": "light"
     },
     "output_type": "display_data"
    },
    {
     "data": {
      "text/plain": [
       "<Figure size 720x720 with 0 Axes>"
      ]
     },
     "metadata": {},
     "output_type": "display_data"
    },
    {
     "data": {
      "image/png": "[encoded data removed]",
      "text/plain": [
       "<Figure size 288x288 with 1 Axes>"
      ]
     },
     "metadata": {
      "needs_background": "light"
     },
     "output_type": "display_data"
    },
    {
     "data": {
      "text/plain": [
       "<Figure size 720x720 with 0 Axes>"
      ]
     },
     "metadata": {},
     "output_type": "display_data"
    },
    {
     "data": {
      "image/png": "[encoded data removed]",
      "text/plain": [
       "<Figure size 288x288 with 1 Axes>"
      ]
     },
     "metadata": {
      "needs_background": "light"
     },
     "output_type": "display_data"
    },
    {
     "data": {
      "text/plain": [
       "<Figure size 720x720 with 0 Axes>"
      ]
     },
     "metadata": {},
     "output_type": "display_data"
    },
    {
     "data": {
      "image/png": "[encoded data removed]",
      "text/plain": [
       "<Figure size 288x288 with 1 Axes>"
      ]
     },
     "metadata": {
      "needs_background": "light"
     },
     "output_type": "display_data"
    },
    {
     "data": {
      "text/plain": [
       "<Figure size 720x720 with 0 Axes>"
      ]
     },
     "metadata": {},
     "output_type": "display_data"
    },
    {
     "data": {
      "image/png": "[encoded data removed]",
      "text/plain": [
       "<Figure size 288x288 with 1 Axes>"
      ]
     },
     "metadata": {
      "needs_background": "light"
     },
     "output_type": "display_data"
    },
    {
     "data": {
      "text/plain": [
       "<Figure size 720x720 with 0 Axes>"
      ]
     },
     "metadata": {},
     "output_type": "display_data"
    },
    {
     "data": {
      "image/png": "[encoded data removed]",
      "text/plain": [
       "<Figure size 288x288 with 1 Axes>"
      ]
     },
     "metadata": {
      "needs_background": "light"
     },
     "output_type": "display_data"
    },
    {
     "data": {
      "text/plain": [
       "<Figure size 720x720 with 0 Axes>"
      ]
     },
     "metadata": {},
     "output_type": "display_data"
    },
    {
     "data": {
      "image/png": "[encoded data removed]",
      "text/plain": [
       "<Figure size 288x288 with 1 Axes>"
      ]
     },
     "metadata": {
      "needs_background": "light"
     },
     "output_type": "display_data"
    }
   ],
   "source": [
    "for i in range(20):\n",
    "    env = MyEnv()\n",
    "    for _ in range(max_num_steps):\n",
    "        action, _states = model.predict(obs)\n",
    "        obs, rewards, done, info = env.step(action)\n",
    "        \n",
    "        if _ % 2:\n",
    "            env.render()\n",
    "        if done is True:\n",
    "            print(_)\n",
    "            break"
   ]
  },
  {
   "cell_type": "code",
   "execution_count": 40,
   "metadata": {},
   "outputs": [
    {
     "name": "stdout",
     "output_type": "stream",
     "text": [
      "15\n"
     ]
    },
    {
     "data": {
      "text/plain": [
       "<Figure size 720x720 with 0 Axes>"
      ]
     },
     "metadata": {},
     "output_type": "display_data"
    },
    {
     "data": {
      "image/png": "[encoded data removed]",
      "text/plain": [
       "<Figure size 288x288 with 1 Axes>"
      ]
     },
     "metadata": {
      "needs_background": "light"
     },
     "output_type": "display_data"
    },
    {
     "data": {
      "text/plain": [
       "<Figure size 720x720 with 0 Axes>"
      ]
     },
     "metadata": {},
     "output_type": "display_data"
    },
    {
     "data": {
      "image/png": "[encoded data removed]",
      "text/plain": [
       "<Figure size 288x288 with 1 Axes>"
      ]
     },
     "metadata": {
      "needs_background": "light"
     },
     "output_type": "display_data"
    },
    {
     "data": {
      "text/plain": [
       "<Figure size 720x720 with 0 Axes>"
      ]
     },
     "metadata": {},
     "output_type": "display_data"
    },
    {
     "data": {
      "image/png": "[encoded data removed]",
      "text/plain": [
       "<Figure size 288x288 with 1 Axes>"
      ]
     },
     "metadata": {
      "needs_background": "light"
     },
     "output_type": "display_data"
    },
    {
     "data": {
      "text/plain": [
       "<Figure size 720x720 with 0 Axes>"
      ]
     },
     "metadata": {},
     "output_type": "display_data"
    },
    {
     "data": {
      "image/png": "[encoded data removed]",
      "text/plain": [
       "<Figure size 288x288 with 1 Axes>"
      ]
     },
     "metadata": {
      "needs_background": "light"
     },
     "output_type": "display_data"
    },
    {
     "data": {
      "text/plain": [
       "<Figure size 720x720 with 0 Axes>"
      ]
     },
     "metadata": {},
     "output_type": "display_data"
    },
    {
     "data": {
      "image/png": "[encoded data removed]",
      "text/plain": [
       "<Figure size 288x288 with 1 Axes>"
      ]
     },
     "metadata": {
      "needs_background": "light"
     },
     "output_type": "display_data"
    },
    {
     "data": {
      "text/plain": [
       "<Figure size 720x720 with 0 Axes>"
      ]
     },
     "metadata": {},
     "output_type": "display_data"
    },
    {
     "data": {
      "image/png": "[encoded data removed]",
      "text/plain": [
       "<Figure size 288x288 with 1 Axes>"
      ]
     },
     "metadata": {
      "needs_background": "light"
     },
     "output_type": "display_data"
    },
    {
     "data": {
      "text/plain": [
       "<Figure size 720x720 with 0 Axes>"
      ]
     },
     "metadata": {},
     "output_type": "display_data"
    },
    {
     "data": {
      "image/png": "[encoded data removed]",
      "text/plain": [
       "<Figure size 288x288 with 1 Axes>"
      ]
     },
     "metadata": {
      "needs_background": "light"
     },
     "output_type": "display_data"
    },
    {
     "data": {
      "text/plain": [
       "<Figure size 720x720 with 0 Axes>"
      ]
     },
     "metadata": {},
     "output_type": "display_data"
    },
    {
     "data": {
      "image/png": "[encoded data removed]",
      "text/plain": [
       "<Figure size 288x288 with 1 Axes>"
      ]
     },
     "metadata": {
      "needs_background": "light"
     },
     "output_type": "display_data"
    },
    {
     "data": {
      "text/plain": [
       "<Figure size 720x720 with 0 Axes>"
      ]
     },
     "metadata": {},
     "output_type": "display_data"
    },
    {
     "data": {
      "image/png": "[encoded data removed]",
      "text/plain": [
       "<Figure size 288x288 with 1 Axes>"
      ]
     },
     "metadata": {
      "needs_background": "light"
     },
     "output_type": "display_data"
    },
    {
     "data": {
      "text/plain": [
       "<Figure size 720x720 with 0 Axes>"
      ]
     },
     "metadata": {},
     "output_type": "display_data"
    },
    {
     "data": {
      "image/png": "[encoded data removed]",
      "text/plain": [
       "<Figure size 288x288 with 1 Axes>"
      ]
     },
     "metadata": {
      "needs_background": "light"
     },
     "output_type": "display_data"
    },
    {
     "data": {
      "text/plain": [
       "<Figure size 720x720 with 0 Axes>"
      ]
     },
     "metadata": {},
     "output_type": "display_data"
    },
    {
     "data": {
      "image/png": "[encoded data removed]",
      "text/plain": [
       "<Figure size 288x288 with 1 Axes>"
      ]
     },
     "metadata": {
      "needs_background": "light"
     },
     "output_type": "display_data"
    },
    {
     "data": {
      "text/plain": [
       "<Figure size 720x720 with 0 Axes>"
      ]
     },
     "metadata": {},
     "output_type": "display_data"
    },
    {
     "data": {
      "image/png": "[encoded data removed]",
      "text/plain": [
       "<Figure size 288x288 with 1 Axes>"
      ]
     },
     "metadata": {
      "needs_background": "light"
     },
     "output_type": "display_data"
    },
    {
     "data": {
      "text/plain": [
       "<Figure size 720x720 with 0 Axes>"
      ]
     },
     "metadata": {},
     "output_type": "display_data"
    },
    {
     "data": {
      "image/png": "[encoded data removed]",
      "text/plain": [
       "<Figure size 288x288 with 1 Axes>"
      ]
     },
     "metadata": {
      "needs_background": "light"
     },
     "output_type": "display_data"
    },
    {
     "data": {
      "text/plain": [
       "<Figure size 720x720 with 0 Axes>"
      ]
     },
     "metadata": {},
     "output_type": "display_data"
    },
    {
     "data": {
      "image/png": "[encoded data removed]",
      "text/plain": [
       "<Figure size 288x288 with 1 Axes>"
      ]
     },
     "metadata": {
      "needs_background": "light"
     },
     "output_type": "display_data"
    },
    {
     "data": {
      "text/plain": [
       "<Figure size 720x720 with 0 Axes>"
      ]
     },
     "metadata": {},
     "output_type": "display_data"
    },
    {
     "data": {
      "image/png": "[encoded data removed]",
      "text/plain": [
       "<Figure size 288x288 with 1 Axes>"
      ]
     },
     "metadata": {
      "needs_background": "light"
     },
     "output_type": "display_data"
    },
    {
     "data": {
      "text/plain": [
       "<Figure size 720x720 with 0 Axes>"
      ]
     },
     "metadata": {},
     "output_type": "display_data"
    },
    {
     "data": {
      "image/png": "[encoded data removed]",
      "text/plain": [
       "<Figure size 288x288 with 1 Axes>"
      ]
     },
     "metadata": {
      "needs_background": "light"
     },
     "output_type": "display_data"
    }
   ],
   "source": [
    "env = MyEnv(N=20)\n",
    "for _ in range(max_num_steps):\n",
    "    action, _states = model.predict(obs)\n",
    "    obs, rewards, done, info = env.step(action)\n",
    "    env.render()\n",
    "    if done is True:\n",
    "        print(_)\n",
    "        break"
   ]
  }
 ],
 "metadata": {
  "kernelspec": {
   "display_name": "Python 3",
   "language": "python",
   "name": "python3"
  },
  "language_info": {
   "codemirror_mode": {
    "name": "ipython",
    "version": 3
   },
   "file_extension": ".py",
   "mimetype": "text/x-python",
   "name": "python",
   "nbconvert_exporter": "python",
   "pygments_lexer": "ipython3",
   "version": "3.7.6"
  }
 },
 "nbformat": 4,
 "nbformat_minor": 4
}

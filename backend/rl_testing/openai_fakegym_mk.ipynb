{
 "cells": [
  {
   "cell_type": "code",
   "execution_count": 1,
   "metadata": {},
   "outputs": [
    {
     "name": "stdout",
     "output_type": "stream",
     "text": [
      "WARNING:tensorflow:\n",
      "The TensorFlow contrib module will not be included in TensorFlow 2.0.\n",
      "For more information, please see:\n",
      "  * https://github.com/tensorflow/community/blob/master/rfcs/20180907-contrib-sunset.md\n",
      "  * https://github.com/tensorflow/addons\n",
      "  * https://github.com/tensorflow/io (for I/O related ops)\n",
      "If you depend on functionality not listed there, please file an issue.\n",
      "\n"
     ]
    }
   ],
   "source": [
    "import sys\n",
    "sys.path.insert(0,'..')\n",
    "\n",
    "import numpy as np\n",
    "\n",
    "import gym\n",
    "import stable_baselines\n",
    "from stable_baselines import A2C, ACER, ACKTR, DQN, DDPG, SAC, PPO1, PPO2, TD3, TRPO\n",
    "from stable_baselines.common.env_checker import check_env\n",
    "from stable_baselines.common.policies import MlpPolicy\n",
    "\n",
    "from fakegym.fakegym import FakeGym\n",
    "import importlib"
   ]
  },
  {
   "cell_type": "code",
   "execution_count": 2,
   "metadata": {},
   "outputs": [
    {
     "name": "stderr",
     "output_type": "stream",
     "text": [
      "/home/pj/anaconda3/envs/spinningup/lib/python3.6/site-packages/gym/logger.py:30: UserWarning: \u001b[33mWARN: Box bound precision lowered by casting to float32\u001b[0m\n",
      "  warnings.warn(colorize('%s: %s'%('WARN', msg % args), 'yellow'))\n"
     ]
    }
   ],
   "source": [
    "class MyObservation():\n",
    "    def __init__(self, env):\n",
    "        self.env = env\n",
    "        self.gps_actual = None\n",
    "        self.gps_target = None\n",
    "        self.distance = None\n",
    "        self.touching = None\n",
    "\n",
    "    def _update(self):\n",
    "        self.gps_actual = self.env.state_object.gps_actual\n",
    "        self.gps_target = self.env.state_object.gps_target\n",
    "        self.distance = self.env.state_object.distance\n",
    "        self.touching = self.env.state_object.touching\n",
    "\n",
    "    def shape(self):\n",
    "        \"\"\"Make sure length is correct here.In this example:\n",
    "        gps_actual: 2\n",
    "        gps_target: 2\n",
    "        distance:   4\n",
    "        touching:   1\n",
    "        =================\n",
    "                   (9, )\n",
    "        \n",
    "        \"\"\"\n",
    "        return (9, )\n",
    "\n",
    "    def get(self, env):\n",
    "        \"\"\"Get observation as numpy array.\"\"\"\n",
    "        self._update()\n",
    "        \n",
    "        arr = np.empty(0)\n",
    "        arr = np.hstack((arr, np.array(self.gps_actual)))\n",
    "        arr = np.hstack((arr, np.array(self.gps_target)))\n",
    "        arr = np.hstack((arr, np.array(self.distance)))\n",
    "        arr = np.hstack((arr, np.array(self.touching)))\n",
    "        \n",
    "        return arr\n",
    "    \n",
    "\n",
    "class MyEnv(FakeGym):\n",
    "    def __init__(self, seed=None, N=10, num_of_sensors=4, obstacles_each=2,\n",
    "                 step_range=(1, 1), action_type=\"discrete\",\n",
    "                 discrete_action_shaping=\"flatten\", obs=MyObservation):\n",
    "        super(MyEnv, self).__init__(seed, N, num_of_sensors, obstacles_each, step_range, action_type, discrete_action_shaping, obs)\n",
    "        \n",
    "\n",
    "    def calc_reward(self):\n",
    "        \"\"\"Calculate reward function.\n",
    "\n",
    "        Idea(Mats):\n",
    "        - negative reward for normal move so that james moves faster to goal\n",
    "        - still lower negative reward if james gets closer to goal\n",
    "        - high positive award for reaching it\n",
    "        - high negative award to hitting a wall\n",
    "        - epsilon only to divide never by 0\n",
    "\n",
    "        \"\"\"\n",
    "        if self.gps_actual == self.gps_target:\n",
    "            reward = 1000\n",
    "        else:\n",
    "            epsilon = 10**-5\n",
    "            cost_step = 1\n",
    "            distance = self.get_target_distance()+epsilon\n",
    "            cost_distance = (distance**0.4)/(distance)\n",
    "            reward_factor = -1\n",
    "            reward = reward_factor * (cost_step * cost_distance)\n",
    "            if self.state_object:\n",
    "                reward = reward - 10\n",
    "        return reward\n",
    "        \n",
    "        \n",
    "    def check_done(self):\n",
    "        if self.com.time_steps == 1000:\n",
    "            return True\n",
    "        if self.gps_actual == self.gps_target:\n",
    "            return True\n",
    "        return False\n",
    "\n",
    "\n",
    "env = MyEnv()\n",
    "check_env(env)"
   ]
  },
  {
   "cell_type": "code",
   "execution_count": 3,
   "metadata": {},
   "outputs": [
    {
     "name": "stdout",
     "output_type": "stream",
     "text": [
      "WARNING:tensorflow:From /home/pj/anaconda3/envs/spinningup/lib/python3.6/site-packages/stable_baselines/common/tf_util.py:191: The name tf.ConfigProto is deprecated. Please use tf.compat.v1.ConfigProto instead.\n",
      "\n",
      "WARNING:tensorflow:From /home/pj/anaconda3/envs/spinningup/lib/python3.6/site-packages/stable_baselines/common/tf_util.py:200: The name tf.Session is deprecated. Please use tf.compat.v1.Session instead.\n",
      "\n",
      "WARNING:tensorflow:From /home/pj/anaconda3/envs/spinningup/lib/python3.6/site-packages/stable_baselines/common/policies.py:116: The name tf.variable_scope is deprecated. Please use tf.compat.v1.variable_scope instead.\n",
      "\n",
      "WARNING:tensorflow:From /home/pj/anaconda3/envs/spinningup/lib/python3.6/site-packages/stable_baselines/common/input.py:25: The name tf.placeholder is deprecated. Please use tf.compat.v1.placeholder instead.\n",
      "\n",
      "WARNING:tensorflow:From /home/pj/anaconda3/envs/spinningup/lib/python3.6/site-packages/stable_baselines/common/policies.py:561: flatten (from tensorflow.python.layers.core) is deprecated and will be removed in a future version.\n",
      "Instructions for updating:\n",
      "Use keras.layers.flatten instead.\n",
      "WARNING:tensorflow:From /home/pj/anaconda3/envs/spinningup/lib/python3.6/site-packages/tensorflow_core/python/layers/core.py:332: Layer.apply (from tensorflow.python.keras.engine.base_layer) is deprecated and will be removed in a future version.\n",
      "Instructions for updating:\n",
      "Please use `layer.__call__` method instead.\n",
      "WARNING:tensorflow:From /home/pj/anaconda3/envs/spinningup/lib/python3.6/site-packages/stable_baselines/common/tf_layers.py:123: The name tf.get_variable is deprecated. Please use tf.compat.v1.get_variable instead.\n",
      "\n",
      "WARNING:tensorflow:From /home/pj/anaconda3/envs/spinningup/lib/python3.6/site-packages/stable_baselines/common/distributions.py:326: The name tf.random_uniform is deprecated. Please use tf.random.uniform instead.\n",
      "\n",
      "WARNING:tensorflow:From /home/pj/anaconda3/envs/spinningup/lib/python3.6/site-packages/stable_baselines/common/distributions.py:327: The name tf.log is deprecated. Please use tf.math.log instead.\n",
      "\n",
      "WARNING:tensorflow:From /home/pj/anaconda3/envs/spinningup/lib/python3.6/site-packages/stable_baselines/ppo1/pposgd_simple.py:153: The name tf.summary.scalar is deprecated. Please use tf.compat.v1.summary.scalar instead.\n",
      "\n",
      "WARNING:tensorflow:From /home/pj/anaconda3/envs/spinningup/lib/python3.6/site-packages/stable_baselines/common/tf_util.py:449: The name tf.get_collection is deprecated. Please use tf.compat.v1.get_collection instead.\n",
      "\n",
      "WARNING:tensorflow:From /home/pj/anaconda3/envs/spinningup/lib/python3.6/site-packages/stable_baselines/common/tf_util.py:449: The name tf.GraphKeys is deprecated. Please use tf.compat.v1.GraphKeys instead.\n",
      "\n",
      "WARNING:tensorflow:From /home/pj/anaconda3/envs/spinningup/lib/python3.6/site-packages/stable_baselines/ppo1/pposgd_simple.py:163: The name tf.assign is deprecated. Please use tf.compat.v1.assign instead.\n",
      "\n",
      "WARNING:tensorflow:From /home/pj/anaconda3/envs/spinningup/lib/python3.6/site-packages/stable_baselines/common/tf_util.py:241: The name tf.global_variables is deprecated. Please use tf.compat.v1.global_variables instead.\n",
      "\n",
      "WARNING:tensorflow:From /home/pj/anaconda3/envs/spinningup/lib/python3.6/site-packages/stable_baselines/common/tf_util.py:242: The name tf.variables_initializer is deprecated. Please use tf.compat.v1.variables_initializer instead.\n",
      "\n",
      "WARNING:tensorflow:From /home/pj/anaconda3/envs/spinningup/lib/python3.6/site-packages/stable_baselines/ppo1/pposgd_simple.py:191: The name tf.summary.merge_all is deprecated. Please use tf.compat.v1.summary.merge_all instead.\n",
      "\n",
      "WARNING:tensorflow:From /home/pj/anaconda3/envs/spinningup/lib/python3.6/site-packages/tensorflow_core/python/ops/math_grad.py:1424: where (from tensorflow.python.ops.array_ops) is deprecated and will be removed in a future version.\n",
      "Instructions for updating:\n",
      "Use tf.where in 2.0, which has the same broadcast rule as np.where\n",
      "********** Iteration 0 ************\n",
      "Optimizing...\n",
      "     pol_surr |    pol_entpen |       vf_loss |            kl |           ent\n",
      "     -0.00349 |      -0.01386 |      9.36e+04 |       0.00071 |       1.38560\n",
      "     -0.01703 |      -0.01381 |      9.35e+04 |       0.00514 |       1.38127\n",
      "     -0.02150 |      -0.01372 |      9.34e+04 |       0.01433 |       1.37230\n",
      "     -0.01951 |      -0.01366 |      9.33e+04 |       0.02062 |       1.36619\n",
      "Evaluating losses...\n",
      "     -0.02386 |      -0.01368 |      9.33e+04 |       0.01876 |       1.36796\n",
      "----------------------------------\n",
      "| EpLenMean       | 62.3         |\n",
      "| EpRewMean       | 358          |\n",
      "| EpThisIter      | 3            |\n",
      "| EpisodesSoFar   | 3            |\n",
      "| TimeElapsed     | 1.2          |\n",
      "| TimestepsSoFar  | 256          |\n",
      "| ev_tdlam_before | 0.0006       |\n",
      "| loss_ent        | 1.3679562    |\n",
      "| loss_kl         | 0.018760236  |\n",
      "| loss_pol_entpen | -0.013679561 |\n",
      "| loss_pol_surr   | -0.023861684 |\n",
      "| loss_vf_loss    | 93276.55     |\n",
      "----------------------------------\n",
      "********** Iteration 1 ************\n",
      "Optimizing...\n",
      "     pol_surr |    pol_entpen |       vf_loss |            kl |           ent\n",
      "     3.67e-05 |      -0.01371 |      2.78e+04 |       0.00017 |       1.37117\n",
      "     -0.00364 |      -0.01373 |      2.76e+04 |       0.00138 |       1.37319\n",
      "     -0.00926 |      -0.01372 |      2.73e+04 |       0.00393 |       1.37163\n",
      "     -0.01091 |      -0.01368 |      2.69e+04 |       0.00786 |       1.36766\n",
      "Evaluating losses...\n",
      "     -0.01104 |      -0.01365 |      2.67e+04 |       0.00979 |       1.36492\n",
      "----------------------------------\n",
      "| EpLenMean       | 62.3         |\n",
      "| EpRewMean       | 358          |\n",
      "| EpThisIter      | 0            |\n",
      "| EpisodesSoFar   | 3            |\n",
      "| TimeElapsed     | 1.87         |\n",
      "| TimestepsSoFar  | 512          |\n",
      "| ev_tdlam_before | 0.0213       |\n",
      "| loss_ent        | 1.364921     |\n",
      "| loss_kl         | 0.009786578  |\n",
      "| loss_pol_entpen | -0.013649209 |\n",
      "| loss_pol_surr   | -0.01103656  |\n",
      "| loss_vf_loss    | 26732.281    |\n",
      "----------------------------------\n",
      "********** Iteration 2 ************\n",
      "Optimizing...\n",
      "     pol_surr |    pol_entpen |       vf_loss |            kl |           ent\n",
      "      0.00054 |      -0.01362 |      6.72e+04 |       0.00014 |       1.36171\n",
      "     -0.00523 |      -0.01358 |      6.72e+04 |       0.00114 |       1.35792\n",
      "     -0.01259 |      -0.01353 |      6.72e+04 |       0.00470 |       1.35276\n",
      "     -0.01738 |      -0.01345 |      6.71e+04 |       0.01173 |       1.34473\n",
      "Evaluating losses...\n",
      "     -0.01979 |      -0.01343 |      6.71e+04 |       0.01501 |       1.34291\n",
      "---------------------------------\n",
      "| EpLenMean       | 139         |\n",
      "| EpRewMean       | -442        |\n",
      "| EpThisIter      | 2           |\n",
      "| EpisodesSoFar   | 5           |\n",
      "| TimeElapsed     | 2.71        |\n",
      "| TimestepsSoFar  | 768         |\n",
      "| ev_tdlam_before | 0.000393    |\n",
      "| loss_ent        | 1.342908    |\n",
      "| loss_kl         | 0.015011544 |\n",
      "| loss_pol_entpen | -0.01342908 |\n",
      "| loss_pol_surr   | -0.01978594 |\n",
      "| loss_vf_loss    | 67105.56    |\n",
      "---------------------------------\n",
      "********** Iteration 3 ************\n",
      "Optimizing...\n",
      "     pol_surr |    pol_entpen |       vf_loss |            kl |           ent\n",
      "      0.00026 |      -0.01353 |      4.76e+04 |       0.00010 |       1.35321\n",
      "     -0.00013 |      -0.01353 |      4.75e+04 |       0.00070 |       1.35285\n",
      "     -0.00274 |      -0.01351 |      4.74e+04 |       0.00158 |       1.35123\n",
      "     -0.00486 |      -0.01347 |      4.72e+04 |       0.00238 |       1.34729\n",
      "Evaluating losses...\n",
      "     -0.00794 |      -0.01345 |      4.71e+04 |       0.00297 |       1.34460\n",
      "----------------------------------\n",
      "| EpLenMean       | 144          |\n",
      "| EpRewMean       | -487         |\n",
      "| EpThisIter      | 1            |\n",
      "| EpisodesSoFar   | 6            |\n",
      "| TimeElapsed     | 3.38         |\n",
      "| TimestepsSoFar  | 1024         |\n",
      "| ev_tdlam_before | -0.00437     |\n",
      "| loss_ent        | 1.3445961    |\n",
      "| loss_kl         | 0.0029734075 |\n",
      "| loss_pol_entpen | -0.013445961 |\n",
      "| loss_pol_surr   | -0.00793555  |\n",
      "| loss_vf_loss    | 47138.0      |\n",
      "----------------------------------\n",
      "********** Iteration 4 ************\n",
      "Optimizing...\n",
      "     pol_surr |    pol_entpen |       vf_loss |            kl |           ent\n",
      "     -0.00041 |      -0.01362 |      2.76e+04 |       0.00011 |       1.36151\n"
     ]
    },
    {
     "name": "stdout",
     "output_type": "stream",
     "text": [
      "     -0.00969 |      -0.01366 |      2.73e+04 |       0.00142 |       1.36586\n",
      "     -0.01152 |      -0.01370 |      2.69e+04 |       0.00547 |       1.36963\n",
      "     -0.01207 |      -0.01365 |      2.66e+04 |       0.00818 |       1.36535\n",
      "Evaluating losses...\n",
      "     -0.01746 |      -0.01358 |      2.65e+04 |       0.00911 |       1.35811\n",
      "----------------------------------\n",
      "| EpLenMean       | 144          |\n",
      "| EpRewMean       | -487         |\n",
      "| EpThisIter      | 0            |\n",
      "| EpisodesSoFar   | 6            |\n",
      "| TimeElapsed     | 4.15         |\n",
      "| TimestepsSoFar  | 1280         |\n",
      "| ev_tdlam_before | 0.00818      |\n",
      "| loss_ent        | 1.358109     |\n",
      "| loss_kl         | 0.009113725  |\n",
      "| loss_pol_entpen | -0.01358109  |\n",
      "| loss_pol_surr   | -0.017455999 |\n",
      "| loss_vf_loss    | 26458.727    |\n",
      "----------------------------------\n",
      "********** Iteration 5 ************\n",
      "Optimizing...\n",
      "     pol_surr |    pol_entpen |       vf_loss |            kl |           ent\n",
      "      0.00066 |      -0.01352 |      5.11e+04 |       0.00012 |       1.35187\n",
      "     -0.00628 |      -0.01352 |      5.09e+04 |       0.00057 |       1.35208\n",
      "     -0.01724 |      -0.01356 |      5.08e+04 |       0.00201 |       1.35601\n",
      "     -0.01724 |      -0.01356 |      5.07e+04 |       0.00457 |       1.35603\n",
      "Evaluating losses...\n",
      "     -0.01870 |      -0.01353 |      5.06e+04 |       0.00612 |       1.35345\n",
      "----------------------------------\n",
      "| EpLenMean       | 185          |\n",
      "| EpRewMean       | -925         |\n",
      "| EpThisIter      | 1            |\n",
      "| EpisodesSoFar   | 7            |\n",
      "| TimeElapsed     | 4.92         |\n",
      "| TimestepsSoFar  | 1536         |\n",
      "| ev_tdlam_before | -8.27e-05    |\n",
      "| loss_ent        | 1.3534477    |\n",
      "| loss_kl         | 0.0061185863 |\n",
      "| loss_pol_entpen | -0.013534477 |\n",
      "| loss_pol_surr   | -0.018699933 |\n",
      "| loss_vf_loss    | 50607.047    |\n",
      "----------------------------------\n",
      "********** Iteration 6 ************\n",
      "Optimizing...\n",
      "     pol_surr |    pol_entpen |       vf_loss |            kl |           ent\n",
      "      0.00108 |      -0.01357 |      2.72e+04 |       0.00011 |       1.35653\n",
      "     -0.00013 |      -0.01353 |      2.71e+04 |       0.00044 |       1.35325\n",
      "     -0.00300 |      -0.01353 |      2.70e+04 |       0.00133 |       1.35275\n",
      "     -0.00899 |      -0.01353 |      2.68e+04 |       0.00428 |       1.35268\n",
      "Evaluating losses...\n",
      "     -0.00922 |      -0.01351 |      2.68e+04 |       0.00603 |       1.35099\n",
      "----------------------------------\n",
      "| EpLenMean       | 185          |\n",
      "| EpRewMean       | -925         |\n",
      "| EpThisIter      | 0            |\n",
      "| EpisodesSoFar   | 7            |\n",
      "| TimeElapsed     | 5.68         |\n",
      "| TimestepsSoFar  | 1792         |\n",
      "| ev_tdlam_before | 0.000565     |\n",
      "| loss_ent        | 1.35099      |\n",
      "| loss_kl         | 0.0060254876 |\n",
      "| loss_pol_entpen | -0.0135099   |\n",
      "| loss_pol_surr   | -0.009223439 |\n",
      "| loss_vf_loss    | 26768.63     |\n",
      "----------------------------------\n",
      "********** Iteration 7 ************\n",
      "Optimizing...\n",
      "     pol_surr |    pol_entpen |       vf_loss |            kl |           ent\n",
      "     -0.00012 |      -0.01345 |      2.71e+04 |       0.00015 |       1.34534\n",
      "     -0.00441 |      -0.01338 |      2.69e+04 |       0.00121 |       1.33833\n",
      "     -0.00845 |      -0.01328 |      2.68e+04 |       0.00406 |       1.32750\n",
      "     -0.00816 |      -0.01317 |      2.67e+04 |       0.00790 |       1.31679\n",
      "Evaluating losses...\n",
      "     -0.01041 |      -0.01312 |      2.67e+04 |       0.00996 |       1.31180\n",
      "----------------------------------\n",
      "| EpLenMean       | 185          |\n",
      "| EpRewMean       | -925         |\n",
      "| EpThisIter      | 0            |\n",
      "| EpisodesSoFar   | 7            |\n",
      "| TimeElapsed     | 6.42         |\n",
      "| TimestepsSoFar  | 2048         |\n",
      "| ev_tdlam_before | -7.24e-05    |\n",
      "| loss_ent        | 1.311804     |\n",
      "| loss_kl         | 0.009961598  |\n",
      "| loss_pol_entpen | -0.01311804  |\n",
      "| loss_pol_surr   | -0.010409687 |\n",
      "| loss_vf_loss    | 26671.307    |\n",
      "----------------------------------\n",
      "********** Iteration 8 ************\n",
      "Optimizing...\n",
      "     pol_surr |    pol_entpen |       vf_loss |            kl |           ent\n",
      "      0.00039 |      -0.01330 |      2.63e+04 |       0.00012 |       1.32986\n",
      "     -0.00469 |      -0.01316 |      2.62e+04 |       0.00227 |       1.31632\n",
      "     -0.01108 |      -0.01298 |      2.61e+04 |       0.00746 |       1.29779\n",
      "     -0.01074 |      -0.01292 |      2.60e+04 |       0.00895 |       1.29222\n",
      "Evaluating losses...\n",
      "     -0.01301 |      -0.01296 |      2.60e+04 |       0.00750 |       1.29615\n",
      "----------------------------------\n",
      "| EpLenMean       | 287          |\n",
      "| EpRewMean       | -2.11e+03    |\n",
      "| EpThisIter      | 1            |\n",
      "| EpisodesSoFar   | 8            |\n",
      "| TimeElapsed     | 7.28         |\n",
      "| TimestepsSoFar  | 2304         |\n",
      "| ev_tdlam_before | 0.00506      |\n",
      "| loss_ent        | 1.2961527    |\n",
      "| loss_kl         | 0.0074998885 |\n",
      "| loss_pol_entpen | -0.012961527 |\n",
      "| loss_pol_surr   | -0.01301167  |\n",
      "| loss_vf_loss    | 25952.686    |\n",
      "----------------------------------\n",
      "********** Iteration 9 ************\n",
      "Optimizing...\n",
      "     pol_surr |    pol_entpen |       vf_loss |            kl |           ent\n",
      "      0.00131 |      -0.01304 |      2.68e+04 |       0.00034 |       1.30378\n",
      "     -0.00763 |      -0.01316 |      2.67e+04 |       0.00253 |       1.31589\n",
      "     -0.00920 |      -0.01322 |      2.66e+04 |       0.00658 |       1.32236\n",
      "     -0.01166 |      -0.01324 |      2.65e+04 |       0.00837 |       1.32368\n",
      "Evaluating losses...\n",
      "     -0.01461 |      -0.01321 |      2.64e+04 |       0.00795 |       1.32142\n",
      "----------------------------------\n",
      "| EpLenMean       | 287          |\n",
      "| EpRewMean       | -2.11e+03    |\n",
      "| EpThisIter      | 0            |\n",
      "| EpisodesSoFar   | 8            |\n",
      "| TimeElapsed     | 8.12         |\n",
      "| TimestepsSoFar  | 2560         |\n",
      "| ev_tdlam_before | 0.000191     |\n",
      "| loss_ent        | 1.3214161    |\n",
      "| loss_kl         | 0.007952746  |\n",
      "| loss_pol_entpen | -0.01321416  |\n",
      "| loss_pol_surr   | -0.014612962 |\n",
      "| loss_vf_loss    | 26433.512    |\n",
      "----------------------------------\n",
      "********** Iteration 10 ************\n",
      "Optimizing...\n",
      "     pol_surr |    pol_entpen |       vf_loss |            kl |           ent\n",
      "     -0.00037 |      -0.01328 |      4.77e+04 |      2.85e-05 |       1.32783\n",
      "     -0.01200 |      -0.01339 |      4.77e+04 |       0.00138 |       1.33895\n",
      "     -0.01815 |      -0.01351 |      4.76e+04 |       0.00612 |       1.35129\n",
      "     -0.01762 |      -0.01358 |      4.76e+04 |       0.01091 |       1.35797\n",
      "Evaluating losses...\n",
      "     -0.01860 |      -0.01360 |      4.76e+04 |       0.01263 |       1.36003\n",
      "----------------------------------\n",
      "| EpLenMean       | 292          |\n",
      "| EpRewMean       | -2.14e+03    |\n",
      "| EpThisIter      | 1            |\n",
      "| EpisodesSoFar   | 9            |\n",
      "| TimeElapsed     | 8.85         |\n",
      "| TimestepsSoFar  | 2816         |\n",
      "| ev_tdlam_before | 0.000536     |\n",
      "| loss_ent        | 1.3600295    |\n",
      "| loss_kl         | 0.0126318075 |\n",
      "| loss_pol_entpen | -0.013600295 |\n",
      "| loss_pol_surr   | -0.018604392 |\n",
      "| loss_vf_loss    | 47586.047    |\n",
      "----------------------------------\n",
      "********** Iteration 11 ************\n",
      "Optimizing...\n",
      "     pol_surr |    pol_entpen |       vf_loss |            kl |           ent\n",
      "      0.00062 |      -0.01353 |      2.68e+04 |      6.89e-05 |       1.35298\n",
      "     -0.00466 |      -0.01355 |      2.67e+04 |       0.00030 |       1.35530\n",
      "     -0.01175 |      -0.01361 |      2.66e+04 |       0.00142 |       1.36054\n",
      "     -0.01731 |      -0.01366 |      2.66e+04 |       0.00448 |       1.36613\n",
      "Evaluating losses...\n",
      "     -0.02120 |      -0.01369 |      2.65e+04 |       0.00721 |       1.36883\n",
      "----------------------------------\n",
      "| EpLenMean       | 292          |\n",
      "| EpRewMean       | -2.14e+03    |\n",
      "| EpThisIter      | 0            |\n",
      "| EpisodesSoFar   | 9            |\n",
      "| TimeElapsed     | 9.63         |\n",
      "| TimestepsSoFar  | 3072         |\n",
      "| ev_tdlam_before | -0.00114     |\n",
      "| loss_ent        | 1.3688309    |\n",
      "| loss_kl         | 0.007208771  |\n",
      "| loss_pol_entpen | -0.013688309 |\n",
      "| loss_pol_surr   | -0.021200016 |\n",
      "| loss_vf_loss    | 26503.348    |\n",
      "----------------------------------\n",
      "********** Iteration 12 ************\n",
      "Optimizing...\n",
      "     pol_surr |    pol_entpen |       vf_loss |            kl |           ent\n",
      "     -0.00049 |      -0.01368 |      2.67e+04 |       0.00017 |       1.36777\n"
     ]
    },
    {
     "name": "stdout",
     "output_type": "stream",
     "text": [
      "     -0.00570 |      -0.01365 |      2.66e+04 |       0.00129 |       1.36549\n",
      "     -0.01207 |      -0.01361 |      2.65e+04 |       0.00358 |       1.36052\n",
      "     -0.01481 |      -0.01356 |      2.65e+04 |       0.00620 |       1.35616\n",
      "Evaluating losses...\n",
      "     -0.01498 |      -0.01355 |      2.64e+04 |       0.00702 |       1.35537\n",
      "----------------------------------\n",
      "| EpLenMean       | 292          |\n",
      "| EpRewMean       | -2.14e+03    |\n",
      "| EpThisIter      | 0            |\n",
      "| EpisodesSoFar   | 9            |\n",
      "| TimeElapsed     | 10.3         |\n",
      "| TimestepsSoFar  | 3328         |\n",
      "| ev_tdlam_before | -0.000124    |\n",
      "| loss_ent        | 1.3553723    |\n",
      "| loss_kl         | 0.007016729  |\n",
      "| loss_pol_entpen | -0.013553724 |\n",
      "| loss_pol_surr   | -0.014975965 |\n",
      "| loss_vf_loss    | 26426.363    |\n",
      "----------------------------------\n",
      "********** Iteration 13 ************\n",
      "Optimizing...\n",
      "     pol_surr |    pol_entpen |       vf_loss |            kl |           ent\n",
      "      0.00013 |      -0.01353 |      2.64e+04 |       0.00012 |       1.35267\n",
      "     -0.00549 |      -0.01352 |      2.63e+04 |       0.00209 |       1.35163\n",
      "     -0.00695 |      -0.01350 |      2.63e+04 |       0.00685 |       1.35009\n",
      "     -0.01002 |      -0.01346 |      2.62e+04 |       0.00847 |       1.34596\n",
      "Evaluating losses...\n",
      "     -0.01332 |      -0.01343 |      2.62e+04 |       0.00731 |       1.34290\n",
      "----------------------------------\n",
      "| EpLenMean       | 292          |\n",
      "| EpRewMean       | -2.14e+03    |\n",
      "| EpThisIter      | 0            |\n",
      "| EpisodesSoFar   | 9            |\n",
      "| TimeElapsed     | 11.1         |\n",
      "| TimestepsSoFar  | 3584         |\n",
      "| ev_tdlam_before | -0.000403    |\n",
      "| loss_ent        | 1.3429021    |\n",
      "| loss_kl         | 0.007306564  |\n",
      "| loss_pol_entpen | -0.01342902  |\n",
      "| loss_pol_surr   | -0.013317108 |\n",
      "| loss_vf_loss    | 26153.23     |\n",
      "----------------------------------\n",
      "********** Iteration 14 ************\n",
      "Optimizing...\n",
      "     pol_surr |    pol_entpen |       vf_loss |            kl |           ent\n",
      "     -0.00049 |      -0.01354 |      3.11e+04 |       0.00016 |       1.35387\n",
      "     -0.00256 |      -0.01349 |      3.11e+04 |       0.00168 |       1.34926\n",
      "     -0.00304 |      -0.01346 |      3.10e+04 |       0.00432 |       1.34558\n",
      "     -0.00603 |      -0.01346 |      3.09e+04 |       0.00558 |       1.34636\n",
      "Evaluating losses...\n",
      "     -0.01014 |      -0.01348 |      3.09e+04 |       0.00559 |       1.34782\n",
      "-----------------------------------\n",
      "| EpLenMean       | 330           |\n",
      "| EpRewMean       | -2.6e+03      |\n",
      "| EpThisIter      | 2             |\n",
      "| EpisodesSoFar   | 11            |\n",
      "| TimeElapsed     | 11.8          |\n",
      "| TimestepsSoFar  | 3840          |\n",
      "| ev_tdlam_before | 0.000131      |\n",
      "| loss_ent        | 1.3478234     |\n",
      "| loss_kl         | 0.0055857133  |\n",
      "| loss_pol_entpen | -0.013478234  |\n",
      "| loss_pol_surr   | -0.0101380255 |\n",
      "| loss_vf_loss    | 30913.16      |\n",
      "-----------------------------------\n",
      "********** Iteration 15 ************\n",
      "Optimizing...\n",
      "     pol_surr |    pol_entpen |       vf_loss |            kl |           ent\n",
      "     -0.00063 |      -0.01352 |      2.64e+04 |       0.00013 |       1.35206\n",
      "     -0.00525 |      -0.01356 |      2.64e+04 |       0.00138 |       1.35569\n",
      "     -0.00975 |      -0.01358 |      2.63e+04 |       0.00444 |       1.35775\n",
      "     -0.01089 |      -0.01356 |      2.63e+04 |       0.00688 |       1.35565\n",
      "Evaluating losses...\n",
      "     -0.01227 |      -0.01354 |      2.62e+04 |       0.00728 |       1.35386\n",
      "-----------------------------------\n",
      "| EpLenMean       | 330           |\n",
      "| EpRewMean       | -2.6e+03      |\n",
      "| EpThisIter      | 0             |\n",
      "| EpisodesSoFar   | 11            |\n",
      "| TimeElapsed     | 12.5          |\n",
      "| TimestepsSoFar  | 4096          |\n",
      "| ev_tdlam_before | 0.000298      |\n",
      "| loss_ent        | 1.3538649     |\n",
      "| loss_kl         | 0.0072830915  |\n",
      "| loss_pol_entpen | -0.013538649  |\n",
      "| loss_pol_surr   | -0.0122716855 |\n",
      "| loss_vf_loss    | 26221.266     |\n",
      "-----------------------------------\n",
      "********** Iteration 16 ************\n",
      "Optimizing...\n",
      "     pol_surr |    pol_entpen |       vf_loss |            kl |           ent\n",
      "      0.00087 |      -0.01351 |      2.65e+04 |       0.00011 |       1.35089\n",
      "     -0.00210 |      -0.01353 |      2.65e+04 |       0.00108 |       1.35318\n",
      "     -0.00423 |      -0.01355 |      2.64e+04 |       0.00410 |       1.35547\n",
      "     -0.00437 |      -0.01355 |      2.64e+04 |       0.00541 |       1.35483\n",
      "Evaluating losses...\n",
      "     -0.00688 |      -0.01354 |      2.63e+04 |       0.00461 |       1.35364\n",
      "-----------------------------------\n",
      "| EpLenMean       | 330           |\n",
      "| EpRewMean       | -2.6e+03      |\n",
      "| EpThisIter      | 0             |\n",
      "| EpisodesSoFar   | 11            |\n",
      "| TimeElapsed     | 13.2          |\n",
      "| TimestepsSoFar  | 4352          |\n",
      "| ev_tdlam_before | 3.39e-05      |\n",
      "| loss_ent        | 1.3536426     |\n",
      "| loss_kl         | 0.0046092384  |\n",
      "| loss_pol_entpen | -0.013536425  |\n",
      "| loss_pol_surr   | -0.0068817614 |\n",
      "| loss_vf_loss    | 26333.82      |\n",
      "-----------------------------------\n",
      "********** Iteration 17 ************\n",
      "Optimizing...\n",
      "     pol_surr |    pol_entpen |       vf_loss |            kl |           ent\n",
      "     -0.00029 |      -0.01348 |      2.64e+04 |      9.16e-05 |       1.34770\n",
      "     -0.00375 |      -0.01346 |      2.63e+04 |       0.00091 |       1.34573\n",
      "     -0.00643 |      -0.01343 |      2.63e+04 |       0.00291 |       1.34296\n",
      "     -0.00680 |      -0.01341 |      2.62e+04 |       0.00438 |       1.34148\n",
      "Evaluating losses...\n",
      "     -0.00789 |      -0.01342 |      2.62e+04 |       0.00425 |       1.34152\n",
      "----------------------------------\n",
      "| EpLenMean       | 330          |\n",
      "| EpRewMean       | -2.6e+03     |\n",
      "| EpThisIter      | 0            |\n",
      "| EpisodesSoFar   | 11           |\n",
      "| TimeElapsed     | 14           |\n",
      "| TimestepsSoFar  | 4608         |\n",
      "| ev_tdlam_before | -0.000291    |\n",
      "| loss_ent        | 1.3415198    |\n",
      "| loss_kl         | 0.004245595  |\n",
      "| loss_pol_entpen | -0.013415199 |\n",
      "| loss_pol_surr   | -0.007891313 |\n",
      "| loss_vf_loss    | 26171.258    |\n",
      "----------------------------------\n",
      "********** Iteration 18 ************\n",
      "Optimizing...\n",
      "     pol_surr |    pol_entpen |       vf_loss |            kl |           ent\n",
      "     -0.00014 |      -0.01343 |      4.64e+04 |      6.96e-05 |       1.34251\n",
      "     -0.00411 |      -0.01346 |      4.64e+04 |       0.00083 |       1.34593\n",
      "     -0.01154 |      -0.01348 |      4.64e+04 |       0.00262 |       1.34811\n",
      "     -0.01212 |      -0.01347 |      4.64e+04 |       0.00446 |       1.34663\n",
      "Evaluating losses...\n",
      "     -0.01141 |      -0.01345 |      4.63e+04 |       0.00534 |       1.34495\n",
      "----------------------------------\n",
      "| EpLenMean       | 361          |\n",
      "| EpRewMean       | -2.97e+03    |\n",
      "| EpThisIter      | 2            |\n",
      "| EpisodesSoFar   | 13           |\n",
      "| TimeElapsed     | 14.7         |\n",
      "| TimestepsSoFar  | 4864         |\n",
      "| ev_tdlam_before | -6.32e-05    |\n",
      "| loss_ent        | 1.3449514    |\n",
      "| loss_kl         | 0.0053416276 |\n",
      "| loss_pol_entpen | -0.013449513 |\n",
      "| loss_pol_surr   | -0.011410103 |\n",
      "| loss_vf_loss    | 46347.254    |\n",
      "----------------------------------\n",
      "********** Iteration 19 ************\n",
      "Optimizing...\n",
      "     pol_surr |    pol_entpen |       vf_loss |            kl |           ent\n",
      "     -0.00046 |      -0.01352 |      2.67e+04 |      1.80e-05 |       1.35237\n",
      "     -0.00467 |      -0.01355 |      2.66e+04 |       0.00111 |       1.35547\n",
      "     -0.00276 |      -0.01357 |      2.66e+04 |       0.00405 |       1.35728\n",
      "     -0.00387 |      -0.01357 |      2.65e+04 |       0.00381 |       1.35670\n",
      "Evaluating losses...\n",
      "     -0.00721 |      -0.01356 |      2.65e+04 |       0.00250 |       1.35573\n",
      "----------------------------------\n",
      "| EpLenMean       | 361          |\n",
      "| EpRewMean       | -2.97e+03    |\n",
      "| EpThisIter      | 0            |\n",
      "| EpisodesSoFar   | 13           |\n",
      "| TimeElapsed     | 15.4         |\n",
      "| TimestepsSoFar  | 5120         |\n",
      "| ev_tdlam_before | 0.000379     |\n",
      "| loss_ent        | 1.3557348    |\n",
      "| loss_kl         | 0.0024989122 |\n",
      "| loss_pol_entpen | -0.013557348 |\n",
      "| loss_pol_surr   | -0.007210253 |\n",
      "| loss_vf_loss    | 26510.502    |\n",
      "----------------------------------\n",
      "********** Iteration 20 ************\n",
      "Optimizing...\n",
      "     pol_surr |    pol_entpen |       vf_loss |            kl |           ent\n"
     ]
    },
    {
     "name": "stdout",
     "output_type": "stream",
     "text": [
      "     -0.00170 |      -0.01364 |      2.66e+04 |       0.00027 |       1.36393\n",
      "     -0.00848 |      -0.01362 |      2.66e+04 |       0.00286 |       1.36190\n",
      "     -0.00900 |      -0.01360 |      2.65e+04 |       0.00625 |       1.36047\n",
      "     -0.00929 |      -0.01361 |      2.65e+04 |       0.00678 |       1.36060\n",
      "Evaluating losses...\n",
      "     -0.01145 |      -0.01362 |      2.64e+04 |       0.00530 |       1.36175\n",
      "----------------------------------\n",
      "| EpLenMean       | 361          |\n",
      "| EpRewMean       | -2.97e+03    |\n",
      "| EpThisIter      | 0            |\n",
      "| EpisodesSoFar   | 13           |\n",
      "| TimeElapsed     | 16.2         |\n",
      "| TimestepsSoFar  | 5376         |\n",
      "| ev_tdlam_before | 0.000135     |\n",
      "| loss_ent        | 1.3617473    |\n",
      "| loss_kl         | 0.0052985386 |\n",
      "| loss_pol_entpen | -0.013617473 |\n",
      "| loss_pol_surr   | -0.011446636 |\n",
      "| loss_vf_loss    | 26430.06     |\n",
      "----------------------------------\n",
      "********** Iteration 21 ************\n",
      "Optimizing...\n",
      "     pol_surr |    pol_entpen |       vf_loss |            kl |           ent\n",
      "     -0.00051 |      -0.01367 |      2.65e+04 |      8.99e-05 |       1.36681\n",
      "     -0.00101 |      -0.01368 |      2.65e+04 |       0.00121 |       1.36837\n",
      "     -0.00070 |      -0.01368 |      2.64e+04 |       0.00305 |       1.36790\n",
      "     -0.00824 |      -0.01365 |      2.64e+04 |       0.00238 |       1.36488\n",
      "Evaluating losses...\n",
      "     -0.00870 |      -0.01362 |      2.64e+04 |       0.00207 |       1.36175\n",
      "----------------------------------\n",
      "| EpLenMean       | 361          |\n",
      "| EpRewMean       | -2.97e+03    |\n",
      "| EpThisIter      | 0            |\n",
      "| EpisodesSoFar   | 13           |\n",
      "| TimeElapsed     | 17.1         |\n",
      "| TimestepsSoFar  | 5632         |\n",
      "| ev_tdlam_before | -4.05e-05    |\n",
      "| loss_ent        | 1.3617548    |\n",
      "| loss_kl         | 0.0020669214 |\n",
      "| loss_pol_entpen | -0.013617547 |\n",
      "| loss_pol_surr   | -0.008701328 |\n",
      "| loss_vf_loss    | 26367.377    |\n",
      "----------------------------------\n",
      "********** Iteration 22 ************\n",
      "Optimizing...\n",
      "     pol_surr |    pol_entpen |       vf_loss |            kl |           ent\n",
      "      0.00024 |      -0.01333 |      4.60e+04 |       0.00014 |       1.33255\n",
      "      0.00051 |      -0.01327 |      4.60e+04 |       0.00086 |       1.32720\n",
      "     -0.00038 |      -0.01322 |      4.60e+04 |       0.00153 |       1.32223\n",
      "     -0.00266 |      -0.01319 |      4.60e+04 |       0.00194 |       1.31918\n",
      "Evaluating losses...\n",
      "     -0.00416 |      -0.01318 |      4.60e+04 |       0.00225 |       1.31779\n",
      "----------------------------------\n",
      "| EpLenMean       | 380          |\n",
      "| EpRewMean       | -3.21e+03    |\n",
      "| EpThisIter      | 2            |\n",
      "| EpisodesSoFar   | 15           |\n",
      "| TimeElapsed     | 17.8         |\n",
      "| TimestepsSoFar  | 5888         |\n",
      "| ev_tdlam_before | 3.31e-05     |\n",
      "| loss_ent        | 1.317786     |\n",
      "| loss_kl         | 0.002249166  |\n",
      "| loss_pol_entpen | -0.01317786  |\n",
      "| loss_pol_surr   | -0.004160499 |\n",
      "| loss_vf_loss    | 45953.04     |\n",
      "----------------------------------\n",
      "********** Iteration 23 ************\n",
      "Optimizing...\n",
      "     pol_surr |    pol_entpen |       vf_loss |            kl |           ent\n",
      "     3.62e-05 |      -0.01318 |      2.64e+04 |      3.67e-05 |       1.31848\n",
      "     -0.00030 |      -0.01316 |      2.64e+04 |       0.00027 |       1.31582\n",
      "     -0.00044 |      -0.01312 |      2.63e+04 |       0.00053 |       1.31239\n",
      "     -0.00125 |      -0.01309 |      2.63e+04 |       0.00091 |       1.30936\n",
      "Evaluating losses...\n",
      "     -0.00227 |      -0.01307 |      2.63e+04 |       0.00132 |       1.30722\n",
      "-----------------------------------\n",
      "| EpLenMean       | 380           |\n",
      "| EpRewMean       | -3.21e+03     |\n",
      "| EpThisIter      | 0             |\n",
      "| EpisodesSoFar   | 15            |\n",
      "| TimeElapsed     | 18.5          |\n",
      "| TimestepsSoFar  | 6144          |\n",
      "| ev_tdlam_before | -0.000162     |\n",
      "| loss_ent        | 1.307219      |\n",
      "| loss_kl         | 0.0013171537  |\n",
      "| loss_pol_entpen | -0.01307219   |\n",
      "| loss_pol_surr   | -0.0022743214 |\n",
      "| loss_vf_loss    | 26264.484     |\n",
      "-----------------------------------\n",
      "********** Iteration 24 ************\n",
      "Optimizing...\n",
      "     pol_surr |    pol_entpen |       vf_loss |            kl |           ent\n",
      "      0.00017 |      -0.01313 |      2.64e+04 |      4.15e-05 |       1.31329\n",
      "     -0.00196 |      -0.01311 |      2.63e+04 |       0.00032 |       1.31118\n",
      "     -0.00433 |      -0.01309 |      2.63e+04 |       0.00092 |       1.30947\n",
      "     -0.00434 |      -0.01308 |      2.63e+04 |       0.00131 |       1.30754\n",
      "Evaluating losses...\n",
      "     -0.00521 |      -0.01307 |      2.62e+04 |       0.00140 |       1.30704\n",
      "----------------------------------\n",
      "| EpLenMean       | 380          |\n",
      "| EpRewMean       | -3.21e+03    |\n",
      "| EpThisIter      | 0            |\n",
      "| EpisodesSoFar   | 15           |\n",
      "| TimeElapsed     | 19.2         |\n",
      "| TimestepsSoFar  | 6400         |\n",
      "| ev_tdlam_before | -0.000117    |\n",
      "| loss_ent        | 1.3070362    |\n",
      "| loss_kl         | 0.0013957159 |\n",
      "| loss_pol_entpen | -0.013070362 |\n",
      "| loss_pol_surr   | -0.005207911 |\n",
      "| loss_vf_loss    | 26243.975    |\n",
      "----------------------------------\n",
      "********** Iteration 25 ************\n",
      "Optimizing...\n",
      "     pol_surr |    pol_entpen |       vf_loss |            kl |           ent\n",
      "      0.00088 |      -0.01320 |      2.66e+04 |      6.24e-05 |       1.31954\n",
      "     -0.00134 |      -0.01318 |      2.66e+04 |       0.00027 |       1.31773\n",
      "     -0.00237 |      -0.01314 |      2.66e+04 |       0.00092 |       1.31445\n",
      "     -0.00349 |      -0.01312 |      2.65e+04 |       0.00181 |       1.31154\n",
      "Evaluating losses...\n",
      "     -0.00419 |      -0.01311 |      2.65e+04 |       0.00220 |       1.31140\n",
      "-----------------------------------\n",
      "| EpLenMean       | 380           |\n",
      "| EpRewMean       | -3.21e+03     |\n",
      "| EpThisIter      | 0             |\n",
      "| EpisodesSoFar   | 15            |\n",
      "| TimeElapsed     | 20            |\n",
      "| TimestepsSoFar  | 6656          |\n",
      "| ev_tdlam_before | -2.09e-05     |\n",
      "| loss_ent        | 1.3113987     |\n",
      "| loss_kl         | 0.0022049611  |\n",
      "| loss_pol_entpen | -0.013113987  |\n",
      "| loss_pol_surr   | -0.0041853823 |\n",
      "| loss_vf_loss    | 26506.887     |\n",
      "-----------------------------------\n",
      "********** Iteration 26 ************\n",
      "Optimizing...\n",
      "     pol_surr |    pol_entpen |       vf_loss |            kl |           ent\n",
      "      0.00016 |      -0.01324 |      4.76e+04 |      1.43e-05 |       1.32353\n",
      "     -0.00059 |      -0.01323 |      4.76e+04 |       0.00010 |       1.32330\n",
      "     -0.00170 |      -0.01323 |      4.76e+04 |       0.00024 |       1.32252\n",
      "     -0.00279 |      -0.01321 |      4.76e+04 |       0.00042 |       1.32145\n",
      "Evaluating losses...\n",
      "     -0.00327 |      -0.01321 |      4.76e+04 |       0.00060 |       1.32065\n",
      "----------------------------------\n",
      "| EpLenMean       | 395          |\n",
      "| EpRewMean       | -3.39e+03    |\n",
      "| EpThisIter      | 2            |\n",
      "| EpisodesSoFar   | 17           |\n",
      "| TimeElapsed     | 20.7         |\n",
      "| TimestepsSoFar  | 6912         |\n",
      "| ev_tdlam_before | 4.18e-05     |\n",
      "| loss_ent        | 1.3206455    |\n",
      "| loss_kl         | 0.0005954259 |\n",
      "| loss_pol_entpen | -0.013206454 |\n",
      "| loss_pol_surr   | -0.003270585 |\n",
      "| loss_vf_loss    | 47580.367    |\n",
      "----------------------------------\n",
      "********** Iteration 27 ************\n",
      "Optimizing...\n",
      "     pol_surr |    pol_entpen |       vf_loss |            kl |           ent\n",
      "    -5.57e-05 |      -0.01334 |      2.62e+04 |      5.76e-06 |       1.33356\n",
      "     -0.00142 |      -0.01334 |      2.61e+04 |       0.00010 |       1.33352\n",
      "     -0.00393 |      -0.01333 |      2.61e+04 |       0.00058 |       1.33311\n",
      "     -0.00434 |      -0.01333 |      2.61e+04 |       0.00150 |       1.33320\n",
      "Evaluating losses...\n",
      "     -0.00457 |      -0.01334 |      2.61e+04 |       0.00185 |       1.33351\n",
      "----------------------------------\n",
      "| EpLenMean       | 395          |\n",
      "| EpRewMean       | -3.39e+03    |\n",
      "| EpThisIter      | 0            |\n",
      "| EpisodesSoFar   | 17           |\n",
      "| TimeElapsed     | 21.4         |\n",
      "| TimestepsSoFar  | 7168         |\n",
      "| ev_tdlam_before | -8.52e-05    |\n",
      "| loss_ent        | 1.3335075    |\n",
      "| loss_kl         | 0.0018537884 |\n",
      "| loss_pol_entpen | -0.013335074 |\n",
      "| loss_pol_surr   | -0.004571098 |\n",
      "| loss_vf_loss    | 26072.98     |\n",
      "----------------------------------\n",
      "********** Iteration 28 ************\n",
      "Optimizing...\n",
      "     pol_surr |    pol_entpen |       vf_loss |            kl |           ent\n"
     ]
    },
    {
     "name": "stdout",
     "output_type": "stream",
     "text": [
      "    -8.39e-05 |      -0.01332 |      2.62e+04 |      2.47e-05 |       1.33155\n",
      "     -0.00234 |      -0.01334 |      2.62e+04 |       0.00030 |       1.33425\n",
      "     -0.00305 |      -0.01336 |      2.61e+04 |       0.00060 |       1.33590\n",
      "     -0.00402 |      -0.01336 |      2.61e+04 |       0.00069 |       1.33609\n",
      "Evaluating losses...\n",
      "     -0.00478 |      -0.01336 |      2.61e+04 |       0.00071 |       1.33576\n",
      "-----------------------------------\n",
      "| EpLenMean       | 395           |\n",
      "| EpRewMean       | -3.39e+03     |\n",
      "| EpThisIter      | 0             |\n",
      "| EpisodesSoFar   | 17            |\n",
      "| TimeElapsed     | 22            |\n",
      "| TimestepsSoFar  | 7424          |\n",
      "| ev_tdlam_before | -6.04e-05     |\n",
      "| loss_ent        | 1.335759      |\n",
      "| loss_kl         | 0.00071181916 |\n",
      "| loss_pol_entpen | -0.013357591  |\n",
      "| loss_pol_surr   | -0.004783528  |\n",
      "| loss_vf_loss    | 26091.906     |\n",
      "-----------------------------------\n",
      "********** Iteration 29 ************\n",
      "Optimizing...\n",
      "     pol_surr |    pol_entpen |       vf_loss |            kl |           ent\n",
      "     -0.00012 |      -0.01329 |      4.77e+04 |      9.25e-06 |       1.32909\n",
      "     -0.00397 |      -0.01333 |      4.77e+04 |       0.00019 |       1.33327\n",
      "     -0.00570 |      -0.01338 |      4.77e+04 |       0.00066 |       1.33772\n",
      "     -0.00671 |      -0.01340 |      4.76e+04 |       0.00133 |       1.34048\n",
      "Evaluating losses...\n",
      "     -0.00636 |      -0.01341 |      4.76e+04 |       0.00172 |       1.34140\n",
      "----------------------------------\n",
      "| EpLenMean       | 417          |\n",
      "| EpRewMean       | -3.61e+03    |\n",
      "| EpThisIter      | 1            |\n",
      "| EpisodesSoFar   | 18           |\n",
      "| TimeElapsed     | 22.8         |\n",
      "| TimestepsSoFar  | 7680         |\n",
      "| ev_tdlam_before | 5.6e-05      |\n",
      "| loss_ent        | 1.3413963    |\n",
      "| loss_kl         | 0.0017207974 |\n",
      "| loss_pol_entpen | -0.013413962 |\n",
      "| loss_pol_surr   | -0.006360743 |\n",
      "| loss_vf_loss    | 47642.543    |\n",
      "----------------------------------\n",
      "********** Iteration 30 ************\n",
      "Optimizing...\n",
      "     pol_surr |    pol_entpen |       vf_loss |            kl |           ent\n",
      "     2.15e-05 |      -0.01351 |      2.61e+04 |      1.29e-05 |       1.35104\n",
      "     -0.00093 |      -0.01352 |      2.61e+04 |      8.88e-05 |       1.35228\n",
      "     -0.00192 |      -0.01354 |      2.60e+04 |       0.00033 |       1.35370\n",
      "     -0.00306 |      -0.01355 |      2.60e+04 |       0.00073 |       1.35523\n",
      "Evaluating losses...\n",
      "     -0.00372 |      -0.01356 |      2.60e+04 |       0.00094 |       1.35621\n",
      "----------------------------------\n",
      "| EpLenMean       | 417          |\n",
      "| EpRewMean       | -3.61e+03    |\n",
      "| EpThisIter      | 0            |\n",
      "| EpisodesSoFar   | 18           |\n",
      "| TimeElapsed     | 23.5         |\n",
      "| TimestepsSoFar  | 7936         |\n",
      "| ev_tdlam_before | 0.000325     |\n",
      "| loss_ent        | 1.3562055    |\n",
      "| loss_kl         | 0.0009416948 |\n",
      "| loss_pol_entpen | -0.013562053 |\n",
      "| loss_pol_surr   | -0.00372231  |\n",
      "| loss_vf_loss    | 26010.836    |\n",
      "----------------------------------\n",
      "********** Iteration 31 ************\n",
      "Optimizing...\n",
      "     pol_surr |    pol_entpen |       vf_loss |            kl |           ent\n",
      "      0.00032 |      -0.01366 |      2.58e+04 |      4.94e-06 |       1.36596\n",
      "     -0.00026 |      -0.01365 |      2.58e+04 |      2.89e-05 |       1.36511\n",
      "     -0.00243 |      -0.01364 |      2.58e+04 |       0.00016 |       1.36362\n",
      "     -0.00359 |      -0.01362 |      2.58e+04 |       0.00046 |       1.36204\n",
      "Evaluating losses...\n",
      "     -0.00345 |      -0.01361 |      2.57e+04 |       0.00065 |       1.36125\n",
      "-----------------------------------\n",
      "| EpLenMean       | 417           |\n",
      "| EpRewMean       | -3.61e+03     |\n",
      "| EpThisIter      | 0             |\n",
      "| EpisodesSoFar   | 18            |\n",
      "| TimeElapsed     | 24.2          |\n",
      "| TimestepsSoFar  | 8192          |\n",
      "| ev_tdlam_before | -4.82e-05     |\n",
      "| loss_ent        | 1.3612514     |\n",
      "| loss_kl         | 0.000650822   |\n",
      "| loss_pol_entpen | -0.013612514  |\n",
      "| loss_pol_surr   | -0.0034488682 |\n",
      "| loss_vf_loss    | 25743.84      |\n",
      "-----------------------------------\n",
      "********** Iteration 32 ************\n",
      "Optimizing...\n",
      "     pol_surr |    pol_entpen |       vf_loss |            kl |           ent\n",
      "    -5.47e-05 |      -0.01359 |      2.59e+04 |      1.65e-06 |       1.35948\n",
      "     -0.00012 |      -0.01359 |      2.59e+04 |      3.45e-05 |       1.35918\n",
      "     -0.00092 |      -0.01360 |      2.59e+04 |       0.00016 |       1.35952\n",
      "     -0.00112 |      -0.01360 |      2.59e+04 |       0.00028 |       1.35979\n",
      "Evaluating losses...\n",
      "     -0.00152 |      -0.01360 |      2.59e+04 |       0.00025 |       1.35958\n",
      "-----------------------------------\n",
      "| EpLenMean       | 417           |\n",
      "| EpRewMean       | -3.61e+03     |\n",
      "| EpThisIter      | 0             |\n",
      "| EpisodesSoFar   | 18            |\n",
      "| TimeElapsed     | 24.9          |\n",
      "| TimestepsSoFar  | 8448          |\n",
      "| ev_tdlam_before | 0.000197      |\n",
      "| loss_ent        | 1.3595787     |\n",
      "| loss_kl         | 0.00025270556 |\n",
      "| loss_pol_entpen | -0.013595788  |\n",
      "| loss_pol_surr   | -0.0015168302 |\n",
      "| loss_vf_loss    | 25851.113     |\n",
      "-----------------------------------\n",
      "********** Iteration 33 ************\n",
      "Optimizing...\n",
      "     pol_surr |    pol_entpen |       vf_loss |            kl |           ent\n",
      "     7.30e-05 |      -0.01323 |      6.62e+04 |      1.84e-06 |       1.32284\n",
      "    -1.96e-05 |      -0.01323 |      6.62e+04 |      1.46e-05 |       1.32296\n",
      "     -0.00093 |      -0.01323 |      6.62e+04 |      4.08e-05 |       1.32318\n",
      "     -0.00145 |      -0.01323 |      6.62e+04 |      9.34e-05 |       1.32334\n",
      "Evaluating losses...\n",
      "     -0.00194 |      -0.01323 |      6.62e+04 |       0.00014 |       1.32337\n",
      "-----------------------------------\n",
      "| EpLenMean       | 407           |\n",
      "| EpRewMean       | -3.5e+03      |\n",
      "| EpThisIter      | 3             |\n",
      "| EpisodesSoFar   | 21            |\n",
      "| TimeElapsed     | 25.6          |\n",
      "| TimestepsSoFar  | 8704          |\n",
      "| ev_tdlam_before | 0.000212      |\n",
      "| loss_ent        | 1.3233706     |\n",
      "| loss_kl         | 0.0001438954  |\n",
      "| loss_pol_entpen | -0.013233705  |\n",
      "| loss_pol_surr   | -0.0019417778 |\n",
      "| loss_vf_loss    | 66165.96      |\n",
      "-----------------------------------\n",
      "********** Iteration 34 ************\n",
      "Optimizing...\n",
      "     pol_surr |    pol_entpen |       vf_loss |            kl |           ent\n",
      "     4.02e-05 |      -0.01323 |      2.61e+04 |      1.33e-06 |       1.32329\n",
      "    -1.31e-05 |      -0.01324 |      2.61e+04 |      9.53e-06 |       1.32383\n",
      "     -0.00059 |      -0.01324 |      2.61e+04 |      3.02e-05 |       1.32448\n",
      "     -0.00085 |      -0.01325 |      2.61e+04 |      6.49e-05 |       1.32509\n",
      "Evaluating losses...\n",
      "     -0.00103 |      -0.01325 |      2.61e+04 |      8.20e-05 |       1.32511\n",
      "-----------------------------------\n",
      "| EpLenMean       | 407           |\n",
      "| EpRewMean       | -3.5e+03      |\n",
      "| EpThisIter      | 0             |\n",
      "| EpisodesSoFar   | 21            |\n",
      "| TimeElapsed     | 26.3          |\n",
      "| TimestepsSoFar  | 8960          |\n",
      "| ev_tdlam_before | 7.03e-05      |\n",
      "| loss_ent        | 1.3251069     |\n",
      "| loss_kl         | 8.2016384e-05 |\n",
      "| loss_pol_entpen | -0.013251068  |\n",
      "| loss_pol_surr   | -0.001032915  |\n",
      "| loss_vf_loss    | 26101.537     |\n",
      "-----------------------------------\n",
      "********** Iteration 35 ************\n",
      "Optimizing...\n",
      "     pol_surr |    pol_entpen |       vf_loss |            kl |           ent\n",
      "     9.59e-07 |      -0.01328 |      2.62e+04 |      9.58e-07 |       1.32844\n",
      "     -0.00094 |      -0.01329 |      2.61e+04 |      1.65e-05 |       1.32909\n",
      "     -0.00235 |      -0.01330 |      2.61e+04 |      9.62e-05 |       1.33026\n",
      "     -0.00281 |      -0.01331 |      2.61e+04 |       0.00023 |       1.33124\n",
      "Evaluating losses...\n",
      "     -0.00287 |      -0.01331 |      2.61e+04 |       0.00028 |       1.33138\n",
      "-----------------------------------\n",
      "| EpLenMean       | 407           |\n",
      "| EpRewMean       | -3.5e+03      |\n",
      "| EpThisIter      | 0             |\n",
      "| EpisodesSoFar   | 21            |\n",
      "| TimeElapsed     | 27            |\n",
      "| TimestepsSoFar  | 9216          |\n",
      "| ev_tdlam_before | -6.28e-05     |\n",
      "| loss_ent        | 1.3313777     |\n",
      "| loss_kl         | 0.000284092   |\n",
      "| loss_pol_entpen | -0.013313778  |\n",
      "| loss_pol_surr   | -0.0028690966 |\n",
      "| loss_vf_loss    | 26121.49      |\n",
      "-----------------------------------\n"
     ]
    },
    {
     "name": "stdout",
     "output_type": "stream",
     "text": [
      "********** Iteration 36 ************\n",
      "Optimizing...\n",
      "     pol_surr |    pol_entpen |       vf_loss |            kl |           ent\n",
      "     7.85e-05 |      -0.01325 |      2.61e+04 |      1.04e-06 |       1.32492\n",
      "     -0.00011 |      -0.01325 |      2.61e+04 |      6.68e-06 |       1.32471\n",
      "     -0.00041 |      -0.01324 |      2.61e+04 |      1.66e-05 |       1.32442\n",
      "     -0.00072 |      -0.01324 |      2.61e+04 |      3.32e-05 |       1.32414\n",
      "Evaluating losses...\n",
      "     -0.00087 |      -0.01324 |      2.61e+04 |      4.93e-05 |       1.32398\n",
      "-----------------------------------\n",
      "| EpLenMean       | 407           |\n",
      "| EpRewMean       | -3.5e+03      |\n",
      "| EpThisIter      | 0             |\n",
      "| EpisodesSoFar   | 21            |\n",
      "| TimeElapsed     | 27.6          |\n",
      "| TimestepsSoFar  | 9472          |\n",
      "| ev_tdlam_before | -9.89e-05     |\n",
      "| loss_ent        | 1.3239826     |\n",
      "| loss_kl         | 4.925774e-05  |\n",
      "| loss_pol_entpen | -0.013239826  |\n",
      "| loss_pol_surr   | -0.0008716546 |\n",
      "| loss_vf_loss    | 26052.305     |\n",
      "-----------------------------------\n",
      "********** Iteration 37 ************\n",
      "Optimizing...\n",
      "     pol_surr |    pol_entpen |       vf_loss |            kl |           ent\n",
      "     -0.00010 |      -0.01335 |      2.31e+04 |      7.38e-07 |       1.33530\n",
      "     -0.00055 |      -0.01335 |      2.31e+04 |      9.68e-06 |       1.33540\n",
      "     -0.00088 |      -0.01336 |      2.31e+04 |      3.51e-05 |       1.33554\n",
      "     -0.00094 |      -0.01336 |      2.31e+04 |      5.77e-05 |       1.33560\n",
      "Evaluating losses...\n",
      "     -0.00103 |      -0.01336 |      2.31e+04 |      5.66e-05 |       1.33554\n",
      "-----------------------------------\n",
      "| EpLenMean       | 434           |\n",
      "| EpRewMean       | -3.81e+03     |\n",
      "| EpThisIter      | 1             |\n",
      "| EpisodesSoFar   | 22            |\n",
      "| TimeElapsed     | 28.3          |\n",
      "| TimestepsSoFar  | 9728          |\n",
      "| ev_tdlam_before | -0.000263     |\n",
      "| loss_ent        | 1.335539      |\n",
      "| loss_kl         | 5.6606903e-05 |\n",
      "| loss_pol_entpen | -0.013355389  |\n",
      "| loss_pol_surr   | -0.0010333452 |\n",
      "| loss_vf_loss    | 23101.578     |\n",
      "-----------------------------------\n",
      "********** Iteration 38 ************\n",
      "Optimizing...\n",
      "     pol_surr |    pol_entpen |       vf_loss |            kl |           ent\n",
      "     8.93e-06 |      -0.01345 |      2.59e+04 |      6.80e-08 |       1.34515\n",
      "     -0.00011 |      -0.01345 |      2.59e+04 |      1.06e-06 |       1.34500\n",
      "     -0.00032 |      -0.01345 |      2.59e+04 |      4.49e-06 |       1.34480\n",
      "     -0.00044 |      -0.01345 |      2.59e+04 |      9.12e-06 |       1.34464\n",
      "Evaluating losses...\n",
      "     -0.00051 |      -0.01345 |      2.59e+04 |      1.10e-05 |       1.34460\n",
      "------------------------------------\n",
      "| EpLenMean       | 434            |\n",
      "| EpRewMean       | -3.81e+03      |\n",
      "| EpThisIter      | 0              |\n",
      "| EpisodesSoFar   | 22             |\n",
      "| TimeElapsed     | 29             |\n",
      "| TimestepsSoFar  | 9984           |\n",
      "| ev_tdlam_before | -0.000641      |\n",
      "| loss_ent        | 1.3446021      |\n",
      "| loss_kl         | 1.10313595e-05 |\n",
      "| loss_pol_entpen | -0.013446023   |\n",
      "| loss_pol_surr   | -0.0005097771  |\n",
      "| loss_vf_loss    | 25900.027      |\n",
      "------------------------------------\n",
      "********** Iteration 39 ************\n",
      "Optimizing...\n",
      "     pol_surr |    pol_entpen |       vf_loss |            kl |           ent\n",
      "     1.08e-06 |      -0.01345 |      2.59e+04 |      9.63e-09 |       1.34495\n",
      "    -1.39e-06 |      -0.01345 |      2.59e+04 |      3.02e-08 |       1.34495\n",
      "    -7.01e-06 |      -0.01345 |      2.59e+04 |      4.29e-08 |       1.34495\n",
      "    -1.04e-05 |      -0.01345 |      2.59e+04 |      4.09e-08 |       1.34495\n",
      "Evaluating losses...\n",
      "    -1.59e-05 |      -0.01345 |      2.59e+04 |      4.83e-08 |       1.34495\n",
      "-----------------------------------\n",
      "| EpLenMean       | 434           |\n",
      "| EpRewMean       | -3.81e+03     |\n",
      "| EpThisIter      | 0             |\n",
      "| EpisodesSoFar   | 22            |\n",
      "| TimeElapsed     | 29.8          |\n",
      "| TimestepsSoFar  | 10240         |\n",
      "| ev_tdlam_before | -0.000164     |\n",
      "| loss_ent        | 1.3449459     |\n",
      "| loss_kl         | 4.8279603e-08 |\n",
      "| loss_pol_entpen | -0.013449458  |\n",
      "| loss_pol_surr   | -1.587905e-05 |\n",
      "| loss_vf_loss    | 25859.06      |\n",
      "-----------------------------------\n"
     ]
    }
   ],
   "source": [
    "time_steps = 10**4\n",
    "reward_function = \"nReward2\"\n",
    "fake = \"WebotFakeMini\"\n",
    "name = \"TRPO_pj1\"\n",
    "model_name = \"PPO_{}_{}_{}_{}\".format(fake, name, reward_function, time_steps)\n",
    "\n",
    "model = PPO1(\"MlpPolicy\", env, verbose=1)\n",
    "model.learn(total_timesteps=time_steps, log_interval=100)\n",
    "model.save(\"../models/fake/{}\".format(model_name))\n",
    "del model"
   ]
  },
  {
   "cell_type": "code",
   "execution_count": 4,
   "metadata": {},
   "outputs": [
    {
     "name": "stdout",
     "output_type": "stream",
     "text": [
      "Loading a model without an environment, this model cannot be trained until it has a valid environment.\n"
     ]
    },
    {
     "name": "stderr",
     "output_type": "stream",
     "text": [
      "/home/pj/anaconda3/envs/spinningup/lib/python3.6/site-packages/gym/logger.py:30: UserWarning: \u001b[33mWARN: Box bound precision lowered by casting to float32\u001b[0m\n",
      "  warnings.warn(colorize('%s: %s'%('WARN', msg % args), 'yellow'))\n",
      "../fakegym/fakegym.py:209: RuntimeWarning: More than 20 figures have been opened. Figures created through the pyplot interface (`matplotlib.pyplot.figure`) are retained until explicitly closed and may consume too much memory. (To control this warning, see the rcParam `figure.max_open_warning`).\n",
      "  plt.figure(figsize=(10, 10))\n",
      "../fakegym/fakegym.py:226: RuntimeWarning: More than 20 figures have been opened. Figures created through the pyplot interface (`matplotlib.pyplot.figure`) are retained until explicitly closed and may consume too much memory. (To control this warning, see the rcParam `figure.max_open_warning`).\n",
      "  plt.matshow(f)\n"
     ]
    },
    {
     "data": {
      "text/plain": [
       "<Figure size 720x720 with 0 Axes>"
      ]
     },
     "metadata": {},
     "output_type": "display_data"
    },
    {
     "data": {
      "image/png": "[encoded data removed]",
      "text/plain": [
       "<Figure size 288x288 with 1 Axes>"
      ]
     },
     "metadata": {
      "needs_background": "light"
     },
     "output_type": "display_data"
    },
    {
     "data": {
      "text/plain": [
       "<Figure size 720x720 with 0 Axes>"
      ]
     },
     "metadata": {},
     "output_type": "display_data"
    },
    {
     "data": {
      "image/png": "[encoded data removed]",
      "text/plain": [
       "<Figure size 288x288 with 1 Axes>"
      ]
     },
     "metadata": {
      "needs_background": "light"
     },
     "output_type": "display_data"
    },
    {
     "data": {
      "text/plain": [
       "<Figure size 720x720 with 0 Axes>"
      ]
     },
     "metadata": {},
     "output_type": "display_data"
    },
    {
     "data": {
      "image/png": "[encoded data removed]",
      "text/plain": [
       "<Figure size 288x288 with 1 Axes>"
      ]
     },
     "metadata": {
      "needs_background": "light"
     },
     "output_type": "display_data"
    },
    {
     "data": {
      "text/plain": [
       "<Figure size 720x720 with 0 Axes>"
      ]
     },
     "metadata": {},
     "output_type": "display_data"
    },
    {
     "data": {
      "image/png": "[encoded data removed]",
      "text/plain": [
       "<Figure size 288x288 with 1 Axes>"
      ]
     },
     "metadata": {
      "needs_background": "light"
     },
     "output_type": "display_data"
    },
    {
     "data": {
      "text/plain": [
       "<Figure size 720x720 with 0 Axes>"
      ]
     },
     "metadata": {},
     "output_type": "display_data"
    },
    {
     "data": {
      "image/png": "[encoded data removed]",
      "text/plain": [
       "<Figure size 288x288 with 1 Axes>"
      ]
     },
     "metadata": {
      "needs_background": "light"
     },
     "output_type": "display_data"
    },
    {
     "data": {
      "text/plain": [
       "<Figure size 720x720 with 0 Axes>"
      ]
     },
     "metadata": {},
     "output_type": "display_data"
    },
    {
     "data": {
      "image/png": "[encoded data removed]",
      "text/plain": [
       "<Figure size 288x288 with 1 Axes>"
      ]
     },
     "metadata": {
      "needs_background": "light"
     },
     "output_type": "display_data"
    },
    {
     "data": {
      "text/plain": [
       "<Figure size 720x720 with 0 Axes>"
      ]
     },
     "metadata": {},
     "output_type": "display_data"
    },
    {
     "data": {
      "image/png": "[encoded data removed]",
      "text/plain": [
       "<Figure size 288x288 with 1 Axes>"
      ]
     },
     "metadata": {
      "needs_background": "light"
     },
     "output_type": "display_data"
    },
    {
     "data": {
      "text/plain": [
       "<Figure size 720x720 with 0 Axes>"
      ]
     },
     "metadata": {},
     "output_type": "display_data"
    },
    {
     "data": {
      "image/png": "[encoded data removed]",
      "text/plain": [
       "<Figure size 288x288 with 1 Axes>"
      ]
     },
     "metadata": {
      "needs_background": "light"
     },
     "output_type": "display_data"
    },
    {
     "data": {
      "text/plain": [
       "<Figure size 720x720 with 0 Axes>"
      ]
     },
     "metadata": {},
     "output_type": "display_data"
    },
    {
     "data": {
      "image/png": "[encoded data removed]",
      "text/plain": [
       "<Figure size 288x288 with 1 Axes>"
      ]
     },
     "metadata": {
      "needs_background": "light"
     },
     "output_type": "display_data"
    },
    {
     "data": {
      "text/plain": [
       "<Figure size 720x720 with 0 Axes>"
      ]
     },
     "metadata": {},
     "output_type": "display_data"
    },
    {
     "data": {
      "image/png": "[encoded data removed]",
      "text/plain": [
       "<Figure size 288x288 with 1 Axes>"
      ]
     },
     "metadata": {
      "needs_background": "light"
     },
     "output_type": "display_data"
    },
    {
     "data": {
      "text/plain": [
       "<Figure size 720x720 with 0 Axes>"
      ]
     },
     "metadata": {},
     "output_type": "display_data"
    },
    {
     "data": {
      "image/png": "[encoded data removed]",
      "text/plain": [
       "<Figure size 288x288 with 1 Axes>"
      ]
     },
     "metadata": {
      "needs_background": "light"
     },
     "output_type": "display_data"
    },
    {
     "data": {
      "text/plain": [
       "<Figure size 720x720 with 0 Axes>"
      ]
     },
     "metadata": {},
     "output_type": "display_data"
    },
    {
     "data": {
      "image/png": "[encoded data removed]",
      "text/plain": [
       "<Figure size 288x288 with 1 Axes>"
      ]
     },
     "metadata": {
      "needs_background": "light"
     },
     "output_type": "display_data"
    },
    {
     "data": {
      "text/plain": [
       "<Figure size 720x720 with 0 Axes>"
      ]
     },
     "metadata": {},
     "output_type": "display_data"
    },
    {
     "data": {
      "image/png": "[encoded data removed]",
      "text/plain": [
       "<Figure size 288x288 with 1 Axes>"
      ]
     },
     "metadata": {
      "needs_background": "light"
     },
     "output_type": "display_data"
    },
    {
     "data": {
      "text/plain": [
       "<Figure size 720x720 with 0 Axes>"
      ]
     },
     "metadata": {},
     "output_type": "display_data"
    },
    {
     "data": {
      "image/png": "[encoded data removed]",
      "text/plain": [
       "<Figure size 288x288 with 1 Axes>"
      ]
     },
     "metadata": {
      "needs_background": "light"
     },
     "output_type": "display_data"
    },
    {
     "data": {
      "text/plain": [
       "<Figure size 720x720 with 0 Axes>"
      ]
     },
     "metadata": {},
     "output_type": "display_data"
    },
    {
     "data": {
      "image/png": "[encoded data removed]",
      "text/plain": [
       "<Figure size 288x288 with 1 Axes>"
      ]
     },
     "metadata": {
      "needs_background": "light"
     },
     "output_type": "display_data"
    },
    {
     "data": {
      "text/plain": [
       "<Figure size 720x720 with 0 Axes>"
      ]
     },
     "metadata": {},
     "output_type": "display_data"
    },
    {
     "data": {
      "image/png": "[encoded data removed]",
      "text/plain": [
       "<Figure size 288x288 with 1 Axes>"
      ]
     },
     "metadata": {
      "needs_background": "light"
     },
     "output_type": "display_data"
    },
    {
     "data": {
      "text/plain": [
       "<Figure size 720x720 with 0 Axes>"
      ]
     },
     "metadata": {},
     "output_type": "display_data"
    },
    {
     "data": {
      "image/png": "[encoded data removed]",
      "text/plain": [
       "<Figure size 288x288 with 1 Axes>"
      ]
     },
     "metadata": {
      "needs_background": "light"
     },
     "output_type": "display_data"
    },
    {
     "data": {
      "text/plain": [
       "<Figure size 720x720 with 0 Axes>"
      ]
     },
     "metadata": {},
     "output_type": "display_data"
    },
    {
     "data": {
      "image/png": "[encoded data removed]",
      "text/plain": [
       "<Figure size 288x288 with 1 Axes>"
      ]
     },
     "metadata": {
      "needs_background": "light"
     },
     "output_type": "display_data"
    },
    {
     "data": {
      "text/plain": [
       "<Figure size 720x720 with 0 Axes>"
      ]
     },
     "metadata": {},
     "output_type": "display_data"
    },
    {
     "data": {
      "image/png": "[encoded data removed]",
      "text/plain": [
       "<Figure size 288x288 with 1 Axes>"
      ]
     },
     "metadata": {
      "needs_background": "light"
     },
     "output_type": "display_data"
    },
    {
     "data": {
      "text/plain": [
       "<Figure size 720x720 with 0 Axes>"
      ]
     },
     "metadata": {},
     "output_type": "display_data"
    },
    {
     "data": {
      "image/png": "[encoded data removed]",
      "text/plain": [
       "<Figure size 288x288 with 1 Axes>"
      ]
     },
     "metadata": {
      "needs_background": "light"
     },
     "output_type": "display_data"
    },
    {
     "data": {
      "text/plain": [
       "<Figure size 720x720 with 0 Axes>"
      ]
     },
     "metadata": {},
     "output_type": "display_data"
    },
    {
     "data": {
      "image/png": "[encoded data removed]",
      "text/plain": [
       "<Figure size 288x288 with 1 Axes>"
      ]
     },
     "metadata": {
      "needs_background": "light"
     },
     "output_type": "display_data"
    },
    {
     "data": {
      "text/plain": [
       "<Figure size 720x720 with 0 Axes>"
      ]
     },
     "metadata": {},
     "output_type": "display_data"
    },
    {
     "data": {
      "image/png": "[encoded data removed]",
      "text/plain": [
       "<Figure size 288x288 with 1 Axes>"
      ]
     },
     "metadata": {
      "needs_background": "light"
     },
     "output_type": "display_data"
    },
    {
     "data": {
      "text/plain": [
       "<Figure size 720x720 with 0 Axes>"
      ]
     },
     "metadata": {},
     "output_type": "display_data"
    },
    {
     "data": {
      "image/png": "[encoded data removed]",
      "text/plain": [
       "<Figure size 288x288 with 1 Axes>"
      ]
     },
     "metadata": {
      "needs_background": "light"
     },
     "output_type": "display_data"
    },
    {
     "data": {
      "text/plain": [
       "<Figure size 720x720 with 0 Axes>"
      ]
     },
     "metadata": {},
     "output_type": "display_data"
    },
    {
     "data": {
      "image/png": "[encoded data removed]",
      "text/plain": [
       "<Figure size 288x288 with 1 Axes>"
      ]
     },
     "metadata": {
      "needs_background": "light"
     },
     "output_type": "display_data"
    },
    {
     "data": {
      "text/plain": [
       "<Figure size 720x720 with 0 Axes>"
      ]
     },
     "metadata": {},
     "output_type": "display_data"
    },
    {
     "data": {
      "image/png": "[encoded data removed]",
      "text/plain": [
       "<Figure size 288x288 with 1 Axes>"
      ]
     },
     "metadata": {
      "needs_background": "light"
     },
     "output_type": "display_data"
    },
    {
     "data": {
      "text/plain": [
       "<Figure size 720x720 with 0 Axes>"
      ]
     },
     "metadata": {},
     "output_type": "display_data"
    },
    {
     "data": {
      "image/png": "[encoded data removed]",
      "text/plain": [
       "<Figure size 288x288 with 1 Axes>"
      ]
     },
     "metadata": {
      "needs_background": "light"
     },
     "output_type": "display_data"
    },
    {
     "data": {
      "text/plain": [
       "<Figure size 720x720 with 0 Axes>"
      ]
     },
     "metadata": {},
     "output_type": "display_data"
    },
    {
     "data": {
      "image/png": "[encoded data removed]",
      "text/plain": [
       "<Figure size 288x288 with 1 Axes>"
      ]
     },
     "metadata": {
      "needs_background": "light"
     },
     "output_type": "display_data"
    },
    {
     "data": {
      "text/plain": [
       "<Figure size 720x720 with 0 Axes>"
      ]
     },
     "metadata": {},
     "output_type": "display_data"
    },
    {
     "data": {
      "image/png": "[encoded data removed]",
      "text/plain": [
       "<Figure size 288x288 with 1 Axes>"
      ]
     },
     "metadata": {
      "needs_background": "light"
     },
     "output_type": "display_data"
    },
    {
     "data": {
      "text/plain": [
       "<Figure size 720x720 with 0 Axes>"
      ]
     },
     "metadata": {},
     "output_type": "display_data"
    },
    {
     "data": {
      "image/png": "[encoded data removed]",
      "text/plain": [
       "<Figure size 288x288 with 1 Axes>"
      ]
     },
     "metadata": {
      "needs_background": "light"
     },
     "output_type": "display_data"
    },
    {
     "data": {
      "text/plain": [
       "<Figure size 720x720 with 0 Axes>"
      ]
     },
     "metadata": {},
     "output_type": "display_data"
    },
    {
     "data": {
      "image/png": "[encoded data removed]",
      "text/plain": [
       "<Figure size 288x288 with 1 Axes>"
      ]
     },
     "metadata": {
      "needs_background": "light"
     },
     "output_type": "display_data"
    },
    {
     "data": {
      "text/plain": [
       "<Figure size 720x720 with 0 Axes>"
      ]
     },
     "metadata": {},
     "output_type": "display_data"
    },
    {
     "data": {
      "image/png": "[encoded data removed]",
      "text/plain": [
       "<Figure size 288x288 with 1 Axes>"
      ]
     },
     "metadata": {
      "needs_background": "light"
     },
     "output_type": "display_data"
    },
    {
     "data": {
      "text/plain": [
       "<Figure size 720x720 with 0 Axes>"
      ]
     },
     "metadata": {},
     "output_type": "display_data"
    },
    {
     "data": {
      "image/png": "[encoded data removed]",
      "text/plain": [
       "<Figure size 288x288 with 1 Axes>"
      ]
     },
     "metadata": {
      "needs_background": "light"
     },
     "output_type": "display_data"
    },
    {
     "data": {
      "text/plain": [
       "<Figure size 720x720 with 0 Axes>"
      ]
     },
     "metadata": {},
     "output_type": "display_data"
    },
    {
     "data": {
      "image/png": "[encoded data removed]",
      "text/plain": [
       "<Figure size 288x288 with 1 Axes>"
      ]
     },
     "metadata": {
      "needs_background": "light"
     },
     "output_type": "display_data"
    },
    {
     "data": {
      "text/plain": [
       "<Figure size 720x720 with 0 Axes>"
      ]
     },
     "metadata": {},
     "output_type": "display_data"
    },
    {
     "data": {
      "image/png": "[encoded data removed]",
      "text/plain": [
       "<Figure size 288x288 with 1 Axes>"
      ]
     },
     "metadata": {
      "needs_background": "light"
     },
     "output_type": "display_data"
    },
    {
     "data": {
      "text/plain": [
       "<Figure size 720x720 with 0 Axes>"
      ]
     },
     "metadata": {},
     "output_type": "display_data"
    },
    {
     "data": {
      "image/png": "[encoded data removed]",
      "text/plain": [
       "<Figure size 288x288 with 1 Axes>"
      ]
     },
     "metadata": {
      "needs_background": "light"
     },
     "output_type": "display_data"
    },
    {
     "data": {
      "text/plain": [
       "<Figure size 720x720 with 0 Axes>"
      ]
     },
     "metadata": {},
     "output_type": "display_data"
    },
    {
     "data": {
      "image/png": "[encoded data removed]",
      "text/plain": [
       "<Figure size 288x288 with 1 Axes>"
      ]
     },
     "metadata": {
      "needs_background": "light"
     },
     "output_type": "display_data"
    },
    {
     "data": {
      "text/plain": [
       "<Figure size 720x720 with 0 Axes>"
      ]
     },
     "metadata": {},
     "output_type": "display_data"
    },
    {
     "data": {
      "image/png": "[encoded data removed]",
      "text/plain": [
       "<Figure size 288x288 with 1 Axes>"
      ]
     },
     "metadata": {
      "needs_background": "light"
     },
     "output_type": "display_data"
    },
    {
     "data": {
      "text/plain": [
       "<Figure size 720x720 with 0 Axes>"
      ]
     },
     "metadata": {},
     "output_type": "display_data"
    },
    {
     "data": {
      "image/png": "[encoded data removed]",
      "text/plain": [
       "<Figure size 288x288 with 1 Axes>"
      ]
     },
     "metadata": {
      "needs_background": "light"
     },
     "output_type": "display_data"
    },
    {
     "data": {
      "text/plain": [
       "<Figure size 720x720 with 0 Axes>"
      ]
     },
     "metadata": {},
     "output_type": "display_data"
    },
    {
     "data": {
      "image/png": "[encoded data removed]",
      "text/plain": [
       "<Figure size 288x288 with 1 Axes>"
      ]
     },
     "metadata": {
      "needs_background": "light"
     },
     "output_type": "display_data"
    },
    {
     "data": {
      "text/plain": [
       "<Figure size 720x720 with 0 Axes>"
      ]
     },
     "metadata": {},
     "output_type": "display_data"
    },
    {
     "data": {
      "image/png": "[encoded data removed]",
      "text/plain": [
       "<Figure size 288x288 with 1 Axes>"
      ]
     },
     "metadata": {
      "needs_background": "light"
     },
     "output_type": "display_data"
    },
    {
     "data": {
      "text/plain": [
       "<Figure size 720x720 with 0 Axes>"
      ]
     },
     "metadata": {},
     "output_type": "display_data"
    },
    {
     "data": {
      "image/png": "[encoded data removed]",
      "text/plain": [
       "<Figure size 288x288 with 1 Axes>"
      ]
     },
     "metadata": {
      "needs_background": "light"
     },
     "output_type": "display_data"
    },
    {
     "data": {
      "text/plain": [
       "<Figure size 720x720 with 0 Axes>"
      ]
     },
     "metadata": {},
     "output_type": "display_data"
    },
    {
     "data": {
      "image/png": "[encoded data removed]",
      "text/plain": [
       "<Figure size 288x288 with 1 Axes>"
      ]
     },
     "metadata": {
      "needs_background": "light"
     },
     "output_type": "display_data"
    },
    {
     "data": {
      "text/plain": [
       "<Figure size 720x720 with 0 Axes>"
      ]
     },
     "metadata": {},
     "output_type": "display_data"
    },
    {
     "data": {
      "image/png": "[encoded data removed]",
      "text/plain": [
       "<Figure size 288x288 with 1 Axes>"
      ]
     },
     "metadata": {
      "needs_background": "light"
     },
     "output_type": "display_data"
    },
    {
     "data": {
      "text/plain": [
       "<Figure size 720x720 with 0 Axes>"
      ]
     },
     "metadata": {},
     "output_type": "display_data"
    },
    {
     "data": {
      "image/png": "[encoded data removed]",
      "text/plain": [
       "<Figure size 288x288 with 1 Axes>"
      ]
     },
     "metadata": {
      "needs_background": "light"
     },
     "output_type": "display_data"
    },
    {
     "data": {
      "text/plain": [
       "<Figure size 720x720 with 0 Axes>"
      ]
     },
     "metadata": {},
     "output_type": "display_data"
    },
    {
     "data": {
      "image/png": "[encoded data removed]",
      "text/plain": [
       "<Figure size 288x288 with 1 Axes>"
      ]
     },
     "metadata": {
      "needs_background": "light"
     },
     "output_type": "display_data"
    },
    {
     "data": {
      "text/plain": [
       "<Figure size 720x720 with 0 Axes>"
      ]
     },
     "metadata": {},
     "output_type": "display_data"
    },
    {
     "data": {
      "image/png": "[encoded data removed]",
      "text/plain": [
       "<Figure size 288x288 with 1 Axes>"
      ]
     },
     "metadata": {
      "needs_background": "light"
     },
     "output_type": "display_data"
    },
    {
     "data": {
      "text/plain": [
       "<Figure size 720x720 with 0 Axes>"
      ]
     },
     "metadata": {},
     "output_type": "display_data"
    },
    {
     "data": {
      "image/png": "[encoded data removed]",
      "text/plain": [
       "<Figure size 288x288 with 1 Axes>"
      ]
     },
     "metadata": {
      "needs_background": "light"
     },
     "output_type": "display_data"
    },
    {
     "data": {
      "text/plain": [
       "<Figure size 720x720 with 0 Axes>"
      ]
     },
     "metadata": {},
     "output_type": "display_data"
    },
    {
     "data": {
      "image/png": "[encoded data removed]",
      "text/plain": [
       "<Figure size 288x288 with 1 Axes>"
      ]
     },
     "metadata": {
      "needs_background": "light"
     },
     "output_type": "display_data"
    },
    {
     "data": {
      "text/plain": [
       "<Figure size 720x720 with 0 Axes>"
      ]
     },
     "metadata": {},
     "output_type": "display_data"
    },
    {
     "data": {
      "image/png": "[encoded data removed]",
      "text/plain": [
       "<Figure size 288x288 with 1 Axes>"
      ]
     },
     "metadata": {
      "needs_background": "light"
     },
     "output_type": "display_data"
    },
    {
     "data": {
      "text/plain": [
       "<Figure size 720x720 with 0 Axes>"
      ]
     },
     "metadata": {},
     "output_type": "display_data"
    },
    {
     "data": {
      "image/png": "[encoded data removed]",
      "text/plain": [
       "<Figure size 288x288 with 1 Axes>"
      ]
     },
     "metadata": {
      "needs_background": "light"
     },
     "output_type": "display_data"
    },
    {
     "data": {
      "text/plain": [
       "<Figure size 720x720 with 0 Axes>"
      ]
     },
     "metadata": {},
     "output_type": "display_data"
    },
    {
     "data": {
      "image/png": "[encoded data removed]",
      "text/plain": [
       "<Figure size 288x288 with 1 Axes>"
      ]
     },
     "metadata": {
      "needs_background": "light"
     },
     "output_type": "display_data"
    },
    {
     "data": {
      "text/plain": [
       "<Figure size 720x720 with 0 Axes>"
      ]
     },
     "metadata": {},
     "output_type": "display_data"
    },
    {
     "data": {
      "image/png": "[encoded data removed]",
      "text/plain": [
       "<Figure size 288x288 with 1 Axes>"
      ]
     },
     "metadata": {
      "needs_background": "light"
     },
     "output_type": "display_data"
    },
    {
     "data": {
      "text/plain": [
       "<Figure size 720x720 with 0 Axes>"
      ]
     },
     "metadata": {},
     "output_type": "display_data"
    },
    {
     "data": {
      "image/png": "[encoded data removed]",
      "text/plain": [
       "<Figure size 288x288 with 1 Axes>"
      ]
     },
     "metadata": {
      "needs_background": "light"
     },
     "output_type": "display_data"
    },
    {
     "data": {
      "text/plain": [
       "<Figure size 720x720 with 0 Axes>"
      ]
     },
     "metadata": {},
     "output_type": "display_data"
    },
    {
     "data": {
      "image/png": "[encoded data removed]",
      "text/plain": [
       "<Figure size 288x288 with 1 Axes>"
      ]
     },
     "metadata": {
      "needs_background": "light"
     },
     "output_type": "display_data"
    },
    {
     "data": {
      "text/plain": [
       "<Figure size 720x720 with 0 Axes>"
      ]
     },
     "metadata": {},
     "output_type": "display_data"
    },
    {
     "data": {
      "image/png": "[encoded data removed]",
      "text/plain": [
       "<Figure size 288x288 with 1 Axes>"
      ]
     },
     "metadata": {
      "needs_background": "light"
     },
     "output_type": "display_data"
    },
    {
     "data": {
      "text/plain": [
       "<Figure size 720x720 with 0 Axes>"
      ]
     },
     "metadata": {},
     "output_type": "display_data"
    },
    {
     "data": {
      "image/png": "[encoded data removed]",
      "text/plain": [
       "<Figure size 288x288 with 1 Axes>"
      ]
     },
     "metadata": {
      "needs_background": "light"
     },
     "output_type": "display_data"
    },
    {
     "data": {
      "text/plain": [
       "<Figure size 720x720 with 0 Axes>"
      ]
     },
     "metadata": {},
     "output_type": "display_data"
    },
    {
     "data": {
      "image/png": "[encoded data removed]",
      "text/plain": [
       "<Figure size 288x288 with 1 Axes>"
      ]
     },
     "metadata": {
      "needs_background": "light"
     },
     "output_type": "display_data"
    },
    {
     "data": {
      "text/plain": [
       "<Figure size 720x720 with 0 Axes>"
      ]
     },
     "metadata": {},
     "output_type": "display_data"
    },
    {
     "data": {
      "image/png": "[encoded data removed]",
      "text/plain": [
       "<Figure size 288x288 with 1 Axes>"
      ]
     },
     "metadata": {
      "needs_background": "light"
     },
     "output_type": "display_data"
    },
    {
     "data": {
      "text/plain": [
       "<Figure size 720x720 with 0 Axes>"
      ]
     },
     "metadata": {},
     "output_type": "display_data"
    },
    {
     "data": {
      "image/png": "[encoded data removed]",
      "text/plain": [
       "<Figure size 288x288 with 1 Axes>"
      ]
     },
     "metadata": {
      "needs_background": "light"
     },
     "output_type": "display_data"
    },
    {
     "data": {
      "text/plain": [
       "<Figure size 720x720 with 0 Axes>"
      ]
     },
     "metadata": {},
     "output_type": "display_data"
    },
    {
     "data": {
      "image/png": "[encoded data removed]",
      "text/plain": [
       "<Figure size 288x288 with 1 Axes>"
      ]
     },
     "metadata": {
      "needs_background": "light"
     },
     "output_type": "display_data"
    },
    {
     "data": {
      "text/plain": [
       "<Figure size 720x720 with 0 Axes>"
      ]
     },
     "metadata": {},
     "output_type": "display_data"
    },
    {
     "data": {
      "image/png": "[encoded data removed]",
      "text/plain": [
       "<Figure size 288x288 with 1 Axes>"
      ]
     },
     "metadata": {
      "needs_background": "light"
     },
     "output_type": "display_data"
    },
    {
     "data": {
      "text/plain": [
       "<Figure size 720x720 with 0 Axes>"
      ]
     },
     "metadata": {},
     "output_type": "display_data"
    },
    {
     "data": {
      "image/png": "[encoded data removed]",
      "text/plain": [
       "<Figure size 288x288 with 1 Axes>"
      ]
     },
     "metadata": {
      "needs_background": "light"
     },
     "output_type": "display_data"
    },
    {
     "data": {
      "text/plain": [
       "<Figure size 720x720 with 0 Axes>"
      ]
     },
     "metadata": {},
     "output_type": "display_data"
    },
    {
     "data": {
      "image/png": "[encoded data removed]",
      "text/plain": [
       "<Figure size 288x288 with 1 Axes>"
      ]
     },
     "metadata": {
      "needs_background": "light"
     },
     "output_type": "display_data"
    },
    {
     "data": {
      "text/plain": [
       "<Figure size 720x720 with 0 Axes>"
      ]
     },
     "metadata": {},
     "output_type": "display_data"
    },
    {
     "data": {
      "image/png": "[encoded data removed]",
      "text/plain": [
       "<Figure size 288x288 with 1 Axes>"
      ]
     },
     "metadata": {
      "needs_background": "light"
     },
     "output_type": "display_data"
    },
    {
     "data": {
      "text/plain": [
       "<Figure size 720x720 with 0 Axes>"
      ]
     },
     "metadata": {},
     "output_type": "display_data"
    },
    {
     "data": {
      "image/png": "[encoded data removed]",
      "text/plain": [
       "<Figure size 288x288 with 1 Axes>"
      ]
     },
     "metadata": {
      "needs_background": "light"
     },
     "output_type": "display_data"
    },
    {
     "data": {
      "text/plain": [
       "<Figure size 720x720 with 0 Axes>"
      ]
     },
     "metadata": {},
     "output_type": "display_data"
    },
    {
     "data": {
      "image/png": "[encoded data removed]",
      "text/plain": [
       "<Figure size 288x288 with 1 Axes>"
      ]
     },
     "metadata": {
      "needs_background": "light"
     },
     "output_type": "display_data"
    },
    {
     "data": {
      "text/plain": [
       "<Figure size 720x720 with 0 Axes>"
      ]
     },
     "metadata": {},
     "output_type": "display_data"
    },
    {
     "data": {
      "image/png": "[encoded data removed]",
      "text/plain": [
       "<Figure size 288x288 with 1 Axes>"
      ]
     },
     "metadata": {
      "needs_background": "light"
     },
     "output_type": "display_data"
    },
    {
     "data": {
      "text/plain": [
       "<Figure size 720x720 with 0 Axes>"
      ]
     },
     "metadata": {},
     "output_type": "display_data"
    },
    {
     "data": {
      "image/png": "[encoded data removed]",
      "text/plain": [
       "<Figure size 288x288 with 1 Axes>"
      ]
     },
     "metadata": {
      "needs_background": "light"
     },
     "output_type": "display_data"
    },
    {
     "data": {
      "text/plain": [
       "<Figure size 720x720 with 0 Axes>"
      ]
     },
     "metadata": {},
     "output_type": "display_data"
    },
    {
     "data": {
      "image/png": "[encoded data removed]",
      "text/plain": [
       "<Figure size 288x288 with 1 Axes>"
      ]
     },
     "metadata": {
      "needs_background": "light"
     },
     "output_type": "display_data"
    },
    {
     "data": {
      "text/plain": [
       "<Figure size 720x720 with 0 Axes>"
      ]
     },
     "metadata": {},
     "output_type": "display_data"
    },
    {
     "data": {
      "image/png": "[encoded data removed]",
      "text/plain": [
       "<Figure size 288x288 with 1 Axes>"
      ]
     },
     "metadata": {
      "needs_background": "light"
     },
     "output_type": "display_data"
    },
    {
     "data": {
      "text/plain": [
       "<Figure size 720x720 with 0 Axes>"
      ]
     },
     "metadata": {},
     "output_type": "display_data"
    },
    {
     "data": {
      "image/png": "[encoded data removed]",
      "text/plain": [
       "<Figure size 288x288 with 1 Axes>"
      ]
     },
     "metadata": {
      "needs_background": "light"
     },
     "output_type": "display_data"
    },
    {
     "data": {
      "text/plain": [
       "<Figure size 720x720 with 0 Axes>"
      ]
     },
     "metadata": {},
     "output_type": "display_data"
    },
    {
     "data": {
      "image/png": "[encoded data removed]",
      "text/plain": [
       "<Figure size 288x288 with 1 Axes>"
      ]
     },
     "metadata": {
      "needs_background": "light"
     },
     "output_type": "display_data"
    },
    {
     "data": {
      "text/plain": [
       "<Figure size 720x720 with 0 Axes>"
      ]
     },
     "metadata": {},
     "output_type": "display_data"
    },
    {
     "data": {
      "image/png": "[encoded data removed]",
      "text/plain": [
       "<Figure size 288x288 with 1 Axes>"
      ]
     },
     "metadata": {
      "needs_background": "light"
     },
     "output_type": "display_data"
    },
    {
     "data": {
      "text/plain": [
       "<Figure size 720x720 with 0 Axes>"
      ]
     },
     "metadata": {},
     "output_type": "display_data"
    },
    {
     "data": {
      "image/png": "[encoded data removed]",
      "text/plain": [
       "<Figure size 288x288 with 1 Axes>"
      ]
     },
     "metadata": {
      "needs_background": "light"
     },
     "output_type": "display_data"
    },
    {
     "data": {
      "text/plain": [
       "<Figure size 720x720 with 0 Axes>"
      ]
     },
     "metadata": {},
     "output_type": "display_data"
    },
    {
     "data": {
      "image/png": "[encoded data removed]",
      "text/plain": [
       "<Figure size 288x288 with 1 Axes>"
      ]
     },
     "metadata": {
      "needs_background": "light"
     },
     "output_type": "display_data"
    },
    {
     "data": {
      "text/plain": [
       "<Figure size 720x720 with 0 Axes>"
      ]
     },
     "metadata": {},
     "output_type": "display_data"
    },
    {
     "data": {
      "image/png": "[encoded data removed]",
      "text/plain": [
       "<Figure size 288x288 with 1 Axes>"
      ]
     },
     "metadata": {
      "needs_background": "light"
     },
     "output_type": "display_data"
    },
    {
     "data": {
      "text/plain": [
       "<Figure size 720x720 with 0 Axes>"
      ]
     },
     "metadata": {},
     "output_type": "display_data"
    },
    {
     "data": {
      "image/png": "[encoded data removed]",
      "text/plain": [
       "<Figure size 288x288 with 1 Axes>"
      ]
     },
     "metadata": {
      "needs_background": "light"
     },
     "output_type": "display_data"
    },
    {
     "data": {
      "text/plain": [
       "<Figure size 720x720 with 0 Axes>"
      ]
     },
     "metadata": {},
     "output_type": "display_data"
    },
    {
     "data": {
      "image/png": "[encoded data removed]",
      "text/plain": [
       "<Figure size 288x288 with 1 Axes>"
      ]
     },
     "metadata": {
      "needs_background": "light"
     },
     "output_type": "display_data"
    },
    {
     "data": {
      "text/plain": [
       "<Figure size 720x720 with 0 Axes>"
      ]
     },
     "metadata": {},
     "output_type": "display_data"
    },
    {
     "data": {
      "image/png": "[encoded data removed]",
      "text/plain": [
       "<Figure size 288x288 with 1 Axes>"
      ]
     },
     "metadata": {
      "needs_background": "light"
     },
     "output_type": "display_data"
    },
    {
     "data": {
      "text/plain": [
       "<Figure size 720x720 with 0 Axes>"
      ]
     },
     "metadata": {},
     "output_type": "display_data"
    },
    {
     "data": {
      "image/png": "[encoded data removed]",
      "text/plain": [
       "<Figure size 288x288 with 1 Axes>"
      ]
     },
     "metadata": {
      "needs_background": "light"
     },
     "output_type": "display_data"
    },
    {
     "data": {
      "text/plain": [
       "<Figure size 720x720 with 0 Axes>"
      ]
     },
     "metadata": {},
     "output_type": "display_data"
    },
    {
     "data": {
      "image/png": "[encoded data removed]",
      "text/plain": [
       "<Figure size 288x288 with 1 Axes>"
      ]
     },
     "metadata": {
      "needs_background": "light"
     },
     "output_type": "display_data"
    },
    {
     "data": {
      "text/plain": [
       "<Figure size 720x720 with 0 Axes>"
      ]
     },
     "metadata": {},
     "output_type": "display_data"
    },
    {
     "data": {
      "image/png": "[encoded data removed]",
      "text/plain": [
       "<Figure size 288x288 with 1 Axes>"
      ]
     },
     "metadata": {
      "needs_background": "light"
     },
     "output_type": "display_data"
    },
    {
     "data": {
      "text/plain": [
       "<Figure size 720x720 with 0 Axes>"
      ]
     },
     "metadata": {},
     "output_type": "display_data"
    },
    {
     "data": {
      "image/png": "[encoded data removed]",
      "text/plain": [
       "<Figure size 288x288 with 1 Axes>"
      ]
     },
     "metadata": {
      "needs_background": "light"
     },
     "output_type": "display_data"
    },
    {
     "data": {
      "text/plain": [
       "<Figure size 720x720 with 0 Axes>"
      ]
     },
     "metadata": {},
     "output_type": "display_data"
    },
    {
     "data": {
      "image/png": "[encoded data removed]",
      "text/plain": [
       "<Figure size 288x288 with 1 Axes>"
      ]
     },
     "metadata": {
      "needs_background": "light"
     },
     "output_type": "display_data"
    },
    {
     "data": {
      "text/plain": [
       "<Figure size 720x720 with 0 Axes>"
      ]
     },
     "metadata": {},
     "output_type": "display_data"
    },
    {
     "data": {
      "image/png": "[encoded data removed]",
      "text/plain": [
       "<Figure size 288x288 with 1 Axes>"
      ]
     },
     "metadata": {
      "needs_background": "light"
     },
     "output_type": "display_data"
    },
    {
     "data": {
      "text/plain": [
       "<Figure size 720x720 with 0 Axes>"
      ]
     },
     "metadata": {},
     "output_type": "display_data"
    },
    {
     "data": {
      "image/png": "[encoded data removed]",
      "text/plain": [
       "<Figure size 288x288 with 1 Axes>"
      ]
     },
     "metadata": {
      "needs_background": "light"
     },
     "output_type": "display_data"
    },
    {
     "data": {
      "text/plain": [
       "<Figure size 720x720 with 0 Axes>"
      ]
     },
     "metadata": {},
     "output_type": "display_data"
    },
    {
     "data": {
      "image/png": "[encoded data removed]",
      "text/plain": [
       "<Figure size 288x288 with 1 Axes>"
      ]
     },
     "metadata": {
      "needs_background": "light"
     },
     "output_type": "display_data"
    },
    {
     "data": {
      "text/plain": [
       "<Figure size 720x720 with 0 Axes>"
      ]
     },
     "metadata": {},
     "output_type": "display_data"
    },
    {
     "data": {
      "image/png": "[encoded data removed]",
      "text/plain": [
       "<Figure size 288x288 with 1 Axes>"
      ]
     },
     "metadata": {
      "needs_background": "light"
     },
     "output_type": "display_data"
    },
    {
     "data": {
      "text/plain": [
       "<Figure size 720x720 with 0 Axes>"
      ]
     },
     "metadata": {},
     "output_type": "display_data"
    },
    {
     "data": {
      "image/png": "[encoded data removed]",
      "text/plain": [
       "<Figure size 288x288 with 1 Axes>"
      ]
     },
     "metadata": {
      "needs_background": "light"
     },
     "output_type": "display_data"
    },
    {
     "data": {
      "text/plain": [
       "<Figure size 720x720 with 0 Axes>"
      ]
     },
     "metadata": {},
     "output_type": "display_data"
    },
    {
     "data": {
      "image/png": "[encoded data removed]",
      "text/plain": [
       "<Figure size 288x288 with 1 Axes>"
      ]
     },
     "metadata": {
      "needs_background": "light"
     },
     "output_type": "display_data"
    },
    {
     "data": {
      "text/plain": [
       "<Figure size 720x720 with 0 Axes>"
      ]
     },
     "metadata": {},
     "output_type": "display_data"
    },
    {
     "data": {
      "image/png": "[encoded data removed]",
      "text/plain": [
       "<Figure size 288x288 with 1 Axes>"
      ]
     },
     "metadata": {
      "needs_background": "light"
     },
     "output_type": "display_data"
    },
    {
     "data": {
      "text/plain": [
       "<Figure size 720x720 with 0 Axes>"
      ]
     },
     "metadata": {},
     "output_type": "display_data"
    },
    {
     "data": {
      "image/png": "[encoded data removed]",
      "text/plain": [
       "<Figure size 288x288 with 1 Axes>"
      ]
     },
     "metadata": {
      "needs_background": "light"
     },
     "output_type": "display_data"
    },
    {
     "data": {
      "text/plain": [
       "<Figure size 720x720 with 0 Axes>"
      ]
     },
     "metadata": {},
     "output_type": "display_data"
    },
    {
     "data": {
      "image/png": "[encoded data removed]",
      "text/plain": [
       "<Figure size 288x288 with 1 Axes>"
      ]
     },
     "metadata": {
      "needs_background": "light"
     },
     "output_type": "display_data"
    },
    {
     "data": {
      "text/plain": [
       "<Figure size 720x720 with 0 Axes>"
      ]
     },
     "metadata": {},
     "output_type": "display_data"
    },
    {
     "data": {
      "image/png": "[encoded data removed]",
      "text/plain": [
       "<Figure size 288x288 with 1 Axes>"
      ]
     },
     "metadata": {
      "needs_background": "light"
     },
     "output_type": "display_data"
    },
    {
     "data": {
      "text/plain": [
       "<Figure size 720x720 with 0 Axes>"
      ]
     },
     "metadata": {},
     "output_type": "display_data"
    },
    {
     "data": {
      "image/png": "[encoded data removed]",
      "text/plain": [
       "<Figure size 288x288 with 1 Axes>"
      ]
     },
     "metadata": {
      "needs_background": "light"
     },
     "output_type": "display_data"
    },
    {
     "data": {
      "text/plain": [
       "<Figure size 720x720 with 0 Axes>"
      ]
     },
     "metadata": {},
     "output_type": "display_data"
    },
    {
     "data": {
      "image/png": "[encoded data removed]",
      "text/plain": [
       "<Figure size 288x288 with 1 Axes>"
      ]
     },
     "metadata": {
      "needs_background": "light"
     },
     "output_type": "display_data"
    },
    {
     "data": {
      "text/plain": [
       "<Figure size 720x720 with 0 Axes>"
      ]
     },
     "metadata": {},
     "output_type": "display_data"
    },
    {
     "data": {
      "image/png": "[encoded data removed]",
      "text/plain": [
       "<Figure size 288x288 with 1 Axes>"
      ]
     },
     "metadata": {
      "needs_background": "light"
     },
     "output_type": "display_data"
    },
    {
     "data": {
      "text/plain": [
       "<Figure size 720x720 with 0 Axes>"
      ]
     },
     "metadata": {},
     "output_type": "display_data"
    },
    {
     "data": {
      "image/png": "[encoded data removed]",
      "text/plain": [
       "<Figure size 288x288 with 1 Axes>"
      ]
     },
     "metadata": {
      "needs_background": "light"
     },
     "output_type": "display_data"
    },
    {
     "data": {
      "text/plain": [
       "<Figure size 720x720 with 0 Axes>"
      ]
     },
     "metadata": {},
     "output_type": "display_data"
    },
    {
     "data": {
      "image/png": "[encoded data removed]",
      "text/plain": [
       "<Figure size 288x288 with 1 Axes>"
      ]
     },
     "metadata": {
      "needs_background": "light"
     },
     "output_type": "display_data"
    },
    {
     "data": {
      "text/plain": [
       "<Figure size 720x720 with 0 Axes>"
      ]
     },
     "metadata": {},
     "output_type": "display_data"
    },
    {
     "data": {
      "image/png": "[encoded data removed]",
      "text/plain": [
       "<Figure size 288x288 with 1 Axes>"
      ]
     },
     "metadata": {
      "needs_background": "light"
     },
     "output_type": "display_data"
    },
    {
     "data": {
      "text/plain": [
       "<Figure size 720x720 with 0 Axes>"
      ]
     },
     "metadata": {},
     "output_type": "display_data"
    },
    {
     "data": {
      "image/png": "[encoded data removed]",
      "text/plain": [
       "<Figure size 288x288 with 1 Axes>"
      ]
     },
     "metadata": {
      "needs_background": "light"
     },
     "output_type": "display_data"
    },
    {
     "data": {
      "text/plain": [
       "<Figure size 720x720 with 0 Axes>"
      ]
     },
     "metadata": {},
     "output_type": "display_data"
    },
    {
     "data": {
      "image/png": "[encoded data removed]",
      "text/plain": [
       "<Figure size 288x288 with 1 Axes>"
      ]
     },
     "metadata": {
      "needs_background": "light"
     },
     "output_type": "display_data"
    },
    {
     "data": {
      "text/plain": [
       "<Figure size 720x720 with 0 Axes>"
      ]
     },
     "metadata": {},
     "output_type": "display_data"
    },
    {
     "data": {
      "image/png": "[encoded data removed]",
      "text/plain": [
       "<Figure size 288x288 with 1 Axes>"
      ]
     },
     "metadata": {
      "needs_background": "light"
     },
     "output_type": "display_data"
    },
    {
     "data": {
      "text/plain": [
       "<Figure size 720x720 with 0 Axes>"
      ]
     },
     "metadata": {},
     "output_type": "display_data"
    },
    {
     "data": {
      "image/png": "[encoded data removed]",
      "text/plain": [
       "<Figure size 288x288 with 1 Axes>"
      ]
     },
     "metadata": {
      "needs_background": "light"
     },
     "output_type": "display_data"
    },
    {
     "data": {
      "text/plain": [
       "<Figure size 720x720 with 0 Axes>"
      ]
     },
     "metadata": {},
     "output_type": "display_data"
    },
    {
     "data": {
      "image/png": "[encoded data removed]",
      "text/plain": [
       "<Figure size 288x288 with 1 Axes>"
      ]
     },
     "metadata": {
      "needs_background": "light"
     },
     "output_type": "display_data"
    },
    {
     "data": {
      "text/plain": [
       "<Figure size 720x720 with 0 Axes>"
      ]
     },
     "metadata": {},
     "output_type": "display_data"
    },
    {
     "data": {
      "image/png": "[encoded data removed]",
      "text/plain": [
       "<Figure size 288x288 with 1 Axes>"
      ]
     },
     "metadata": {
      "needs_background": "light"
     },
     "output_type": "display_data"
    },
    {
     "data": {
      "text/plain": [
       "<Figure size 720x720 with 0 Axes>"
      ]
     },
     "metadata": {},
     "output_type": "display_data"
    },
    {
     "data": {
      "image/png": "[encoded data removed]",
      "text/plain": [
       "<Figure size 288x288 with 1 Axes>"
      ]
     },
     "metadata": {
      "needs_background": "light"
     },
     "output_type": "display_data"
    },
    {
     "data": {
      "text/plain": [
       "<Figure size 720x720 with 0 Axes>"
      ]
     },
     "metadata": {},
     "output_type": "display_data"
    },
    {
     "data": {
      "image/png": "[encoded data removed]",
      "text/plain": [
       "<Figure size 288x288 with 1 Axes>"
      ]
     },
     "metadata": {
      "needs_background": "light"
     },
     "output_type": "display_data"
    },
    {
     "data": {
      "text/plain": [
       "<Figure size 720x720 with 0 Axes>"
      ]
     },
     "metadata": {},
     "output_type": "display_data"
    },
    {
     "data": {
      "image/png": "[encoded data removed]",
      "text/plain": [
       "<Figure size 288x288 with 1 Axes>"
      ]
     },
     "metadata": {
      "needs_background": "light"
     },
     "output_type": "display_data"
    },
    {
     "data": {
      "text/plain": [
       "<Figure size 720x720 with 0 Axes>"
      ]
     },
     "metadata": {},
     "output_type": "display_data"
    },
    {
     "data": {
      "image/png": "[encoded data removed]",
      "text/plain": [
       "<Figure size 288x288 with 1 Axes>"
      ]
     },
     "metadata": {
      "needs_background": "light"
     },
     "output_type": "display_data"
    },
    {
     "data": {
      "text/plain": [
       "<Figure size 720x720 with 0 Axes>"
      ]
     },
     "metadata": {},
     "output_type": "display_data"
    },
    {
     "data": {
      "image/png": "[encoded data removed]",
      "text/plain": [
       "<Figure size 288x288 with 1 Axes>"
      ]
     },
     "metadata": {
      "needs_background": "light"
     },
     "output_type": "display_data"
    },
    {
     "data": {
      "text/plain": [
       "<Figure size 720x720 with 0 Axes>"
      ]
     },
     "metadata": {},
     "output_type": "display_data"
    },
    {
     "data": {
      "image/png": "[encoded data removed]",
      "text/plain": [
       "<Figure size 288x288 with 1 Axes>"
      ]
     },
     "metadata": {
      "needs_background": "light"
     },
     "output_type": "display_data"
    },
    {
     "data": {
      "text/plain": [
       "<Figure size 720x720 with 0 Axes>"
      ]
     },
     "metadata": {},
     "output_type": "display_data"
    },
    {
     "data": {
      "image/png": "[encoded data removed]",
      "text/plain": [
       "<Figure size 288x288 with 1 Axes>"
      ]
     },
     "metadata": {
      "needs_background": "light"
     },
     "output_type": "display_data"
    },
    {
     "data": {
      "text/plain": [
       "<Figure size 720x720 with 0 Axes>"
      ]
     },
     "metadata": {},
     "output_type": "display_data"
    },
    {
     "data": {
      "image/png": "[encoded data removed]",
      "text/plain": [
       "<Figure size 288x288 with 1 Axes>"
      ]
     },
     "metadata": {
      "needs_background": "light"
     },
     "output_type": "display_data"
    },
    {
     "data": {
      "text/plain": [
       "<Figure size 720x720 with 0 Axes>"
      ]
     },
     "metadata": {},
     "output_type": "display_data"
    },
    {
     "data": {
      "image/png": "[encoded data removed]",
      "text/plain": [
       "<Figure size 288x288 with 1 Axes>"
      ]
     },
     "metadata": {
      "needs_background": "light"
     },
     "output_type": "display_data"
    },
    {
     "data": {
      "text/plain": [
       "<Figure size 720x720 with 0 Axes>"
      ]
     },
     "metadata": {},
     "output_type": "display_data"
    },
    {
     "data": {
      "image/png": "[encoded data removed]",
      "text/plain": [
       "<Figure size 288x288 with 1 Axes>"
      ]
     },
     "metadata": {
      "needs_background": "light"
     },
     "output_type": "display_data"
    },
    {
     "data": {
      "text/plain": [
       "<Figure size 720x720 with 0 Axes>"
      ]
     },
     "metadata": {},
     "output_type": "display_data"
    },
    {
     "data": {
      "image/png": "[encoded data removed]",
      "text/plain": [
       "<Figure size 288x288 with 1 Axes>"
      ]
     },
     "metadata": {
      "needs_background": "light"
     },
     "output_type": "display_data"
    },
    {
     "data": {
      "text/plain": [
       "<Figure size 720x720 with 0 Axes>"
      ]
     },
     "metadata": {},
     "output_type": "display_data"
    },
    {
     "data": {
      "image/png": "[encoded data removed]",
      "text/plain": [
       "<Figure size 288x288 with 1 Axes>"
      ]
     },
     "metadata": {
      "needs_background": "light"
     },
     "output_type": "display_data"
    },
    {
     "data": {
      "text/plain": [
       "<Figure size 720x720 with 0 Axes>"
      ]
     },
     "metadata": {},
     "output_type": "display_data"
    },
    {
     "data": {
      "image/png": "[encoded data removed]",
      "text/plain": [
       "<Figure size 288x288 with 1 Axes>"
      ]
     },
     "metadata": {
      "needs_background": "light"
     },
     "output_type": "display_data"
    },
    {
     "data": {
      "text/plain": [
       "<Figure size 720x720 with 0 Axes>"
      ]
     },
     "metadata": {},
     "output_type": "display_data"
    },
    {
     "data": {
      "image/png": "[encoded data removed]",
      "text/plain": [
       "<Figure size 288x288 with 1 Axes>"
      ]
     },
     "metadata": {
      "needs_background": "light"
     },
     "output_type": "display_data"
    },
    {
     "data": {
      "text/plain": [
       "<Figure size 720x720 with 0 Axes>"
      ]
     },
     "metadata": {},
     "output_type": "display_data"
    },
    {
     "data": {
      "image/png": "[encoded data removed]",
      "text/plain": [
       "<Figure size 288x288 with 1 Axes>"
      ]
     },
     "metadata": {
      "needs_background": "light"
     },
     "output_type": "display_data"
    },
    {
     "data": {
      "text/plain": [
       "<Figure size 720x720 with 0 Axes>"
      ]
     },
     "metadata": {},
     "output_type": "display_data"
    },
    {
     "data": {
      "image/png": "[encoded data removed]",
      "text/plain": [
       "<Figure size 288x288 with 1 Axes>"
      ]
     },
     "metadata": {
      "needs_background": "light"
     },
     "output_type": "display_data"
    },
    {
     "data": {
      "text/plain": [
       "<Figure size 720x720 with 0 Axes>"
      ]
     },
     "metadata": {},
     "output_type": "display_data"
    },
    {
     "data": {
      "image/png": "[encoded data removed]",
      "text/plain": [
       "<Figure size 288x288 with 1 Axes>"
      ]
     },
     "metadata": {
      "needs_background": "light"
     },
     "output_type": "display_data"
    },
    {
     "data": {
      "text/plain": [
       "<Figure size 720x720 with 0 Axes>"
      ]
     },
     "metadata": {},
     "output_type": "display_data"
    },
    {
     "data": {
      "image/png": "[encoded data removed]",
      "text/plain": [
       "<Figure size 288x288 with 1 Axes>"
      ]
     },
     "metadata": {
      "needs_background": "light"
     },
     "output_type": "display_data"
    },
    {
     "data": {
      "text/plain": [
       "<Figure size 720x720 with 0 Axes>"
      ]
     },
     "metadata": {},
     "output_type": "display_data"
    },
    {
     "data": {
      "image/png": "[encoded data removed]",
      "text/plain": [
       "<Figure size 288x288 with 1 Axes>"
      ]
     },
     "metadata": {
      "needs_background": "light"
     },
     "output_type": "display_data"
    },
    {
     "data": {
      "text/plain": [
       "<Figure size 720x720 with 0 Axes>"
      ]
     },
     "metadata": {},
     "output_type": "display_data"
    },
    {
     "data": {
      "image/png": "[encoded data removed]",
      "text/plain": [
       "<Figure size 288x288 with 1 Axes>"
      ]
     },
     "metadata": {
      "needs_background": "light"
     },
     "output_type": "display_data"
    },
    {
     "data": {
      "text/plain": [
       "<Figure size 720x720 with 0 Axes>"
      ]
     },
     "metadata": {},
     "output_type": "display_data"
    },
    {
     "data": {
      "image/png": "[encoded data removed]",
      "text/plain": [
       "<Figure size 288x288 with 1 Axes>"
      ]
     },
     "metadata": {
      "needs_background": "light"
     },
     "output_type": "display_data"
    },
    {
     "data": {
      "text/plain": [
       "<Figure size 720x720 with 0 Axes>"
      ]
     },
     "metadata": {},
     "output_type": "display_data"
    },
    {
     "data": {
      "image/png": "[encoded data removed]",
      "text/plain": [
       "<Figure size 288x288 with 1 Axes>"
      ]
     },
     "metadata": {
      "needs_background": "light"
     },
     "output_type": "display_data"
    },
    {
     "data": {
      "text/plain": [
       "<Figure size 720x720 with 0 Axes>"
      ]
     },
     "metadata": {},
     "output_type": "display_data"
    },
    {
     "data": {
      "image/png": "[encoded data removed]",
      "text/plain": [
       "<Figure size 288x288 with 1 Axes>"
      ]
     },
     "metadata": {
      "needs_background": "light"
     },
     "output_type": "display_data"
    },
    {
     "data": {
      "text/plain": [
       "<Figure size 720x720 with 0 Axes>"
      ]
     },
     "metadata": {},
     "output_type": "display_data"
    },
    {
     "data": {
      "image/png": "[encoded data removed]",
      "text/plain": [
       "<Figure size 288x288 with 1 Axes>"
      ]
     },
     "metadata": {
      "needs_background": "light"
     },
     "output_type": "display_data"
    },
    {
     "data": {
      "text/plain": [
       "<Figure size 720x720 with 0 Axes>"
      ]
     },
     "metadata": {},
     "output_type": "display_data"
    },
    {
     "data": {
      "image/png": "[encoded data removed]",
      "text/plain": [
       "<Figure size 288x288 with 1 Axes>"
      ]
     },
     "metadata": {
      "needs_background": "light"
     },
     "output_type": "display_data"
    },
    {
     "data": {
      "text/plain": [
       "<Figure size 720x720 with 0 Axes>"
      ]
     },
     "metadata": {},
     "output_type": "display_data"
    },
    {
     "data": {
      "image/png": "[encoded data removed]",
      "text/plain": [
       "<Figure size 288x288 with 1 Axes>"
      ]
     },
     "metadata": {
      "needs_background": "light"
     },
     "output_type": "display_data"
    },
    {
     "data": {
      "text/plain": [
       "<Figure size 720x720 with 0 Axes>"
      ]
     },
     "metadata": {},
     "output_type": "display_data"
    },
    {
     "data": {
      "image/png": "[encoded data removed]",
      "text/plain": [
       "<Figure size 288x288 with 1 Axes>"
      ]
     },
     "metadata": {
      "needs_background": "light"
     },
     "output_type": "display_data"
    },
    {
     "data": {
      "text/plain": [
       "<Figure size 720x720 with 0 Axes>"
      ]
     },
     "metadata": {},
     "output_type": "display_data"
    },
    {
     "data": {
      "image/png": "[encoded data removed]",
      "text/plain": [
       "<Figure size 288x288 with 1 Axes>"
      ]
     },
     "metadata": {
      "needs_background": "light"
     },
     "output_type": "display_data"
    },
    {
     "data": {
      "text/plain": [
       "<Figure size 720x720 with 0 Axes>"
      ]
     },
     "metadata": {},
     "output_type": "display_data"
    },
    {
     "data": {
      "image/png": "[encoded data removed]",
      "text/plain": [
       "<Figure size 288x288 with 1 Axes>"
      ]
     },
     "metadata": {
      "needs_background": "light"
     },
     "output_type": "display_data"
    },
    {
     "data": {
      "text/plain": [
       "<Figure size 720x720 with 0 Axes>"
      ]
     },
     "metadata": {},
     "output_type": "display_data"
    },
    {
     "data": {
      "image/png": "[encoded data removed]",
      "text/plain": [
       "<Figure size 288x288 with 1 Axes>"
      ]
     },
     "metadata": {
      "needs_background": "light"
     },
     "output_type": "display_data"
    },
    {
     "data": {
      "text/plain": [
       "<Figure size 720x720 with 0 Axes>"
      ]
     },
     "metadata": {},
     "output_type": "display_data"
    },
    {
     "data": {
      "image/png": "[encoded data removed]",
      "text/plain": [
       "<Figure size 288x288 with 1 Axes>"
      ]
     },
     "metadata": {
      "needs_background": "light"
     },
     "output_type": "display_data"
    },
    {
     "data": {
      "text/plain": [
       "<Figure size 720x720 with 0 Axes>"
      ]
     },
     "metadata": {},
     "output_type": "display_data"
    },
    {
     "data": {
      "image/png": "[encoded data removed]",
      "text/plain": [
       "<Figure size 288x288 with 1 Axes>"
      ]
     },
     "metadata": {
      "needs_background": "light"
     },
     "output_type": "display_data"
    },
    {
     "data": {
      "text/plain": [
       "<Figure size 720x720 with 0 Axes>"
      ]
     },
     "metadata": {},
     "output_type": "display_data"
    },
    {
     "data": {
      "image/png": "[encoded data removed]",
      "text/plain": [
       "<Figure size 288x288 with 1 Axes>"
      ]
     },
     "metadata": {
      "needs_background": "light"
     },
     "output_type": "display_data"
    },
    {
     "data": {
      "text/plain": [
       "<Figure size 720x720 with 0 Axes>"
      ]
     },
     "metadata": {},
     "output_type": "display_data"
    },
    {
     "data": {
      "image/png": "[encoded data removed]",
      "text/plain": [
       "<Figure size 288x288 with 1 Axes>"
      ]
     },
     "metadata": {
      "needs_background": "light"
     },
     "output_type": "display_data"
    },
    {
     "data": {
      "text/plain": [
       "<Figure size 720x720 with 0 Axes>"
      ]
     },
     "metadata": {},
     "output_type": "display_data"
    },
    {
     "data": {
      "image/png": "[encoded data removed]",
      "text/plain": [
       "<Figure size 288x288 with 1 Axes>"
      ]
     },
     "metadata": {
      "needs_background": "light"
     },
     "output_type": "display_data"
    },
    {
     "data": {
      "text/plain": [
       "<Figure size 720x720 with 0 Axes>"
      ]
     },
     "metadata": {},
     "output_type": "display_data"
    },
    {
     "data": {
      "image/png": "[encoded data removed]",
      "text/plain": [
       "<Figure size 288x288 with 1 Axes>"
      ]
     },
     "metadata": {
      "needs_background": "light"
     },
     "output_type": "display_data"
    },
    {
     "data": {
      "text/plain": [
       "<Figure size 720x720 with 0 Axes>"
      ]
     },
     "metadata": {},
     "output_type": "display_data"
    },
    {
     "data": {
      "image/png": "[encoded data removed]",
      "text/plain": [
       "<Figure size 288x288 with 1 Axes>"
      ]
     },
     "metadata": {
      "needs_background": "light"
     },
     "output_type": "display_data"
    },
    {
     "data": {
      "text/plain": [
       "<Figure size 720x720 with 0 Axes>"
      ]
     },
     "metadata": {},
     "output_type": "display_data"
    },
    {
     "data": {
      "image/png": "[encoded data removed]",
      "text/plain": [
       "<Figure size 288x288 with 1 Axes>"
      ]
     },
     "metadata": {
      "needs_background": "light"
     },
     "output_type": "display_data"
    },
    {
     "data": {
      "text/plain": [
       "<Figure size 720x720 with 0 Axes>"
      ]
     },
     "metadata": {},
     "output_type": "display_data"
    },
    {
     "data": {
      "image/png": "[encoded data removed]",
      "text/plain": [
       "<Figure size 288x288 with 1 Axes>"
      ]
     },
     "metadata": {
      "needs_background": "light"
     },
     "output_type": "display_data"
    },
    {
     "data": {
      "text/plain": [
       "<Figure size 720x720 with 0 Axes>"
      ]
     },
     "metadata": {},
     "output_type": "display_data"
    },
    {
     "data": {
      "image/png": "[encoded data removed]",
      "text/plain": [
       "<Figure size 288x288 with 1 Axes>"
      ]
     },
     "metadata": {
      "needs_background": "light"
     },
     "output_type": "display_data"
    },
    {
     "data": {
      "text/plain": [
       "<Figure size 720x720 with 0 Axes>"
      ]
     },
     "metadata": {},
     "output_type": "display_data"
    },
    {
     "data": {
      "image/png": "[encoded data removed]",
      "text/plain": [
       "<Figure size 288x288 with 1 Axes>"
      ]
     },
     "metadata": {
      "needs_background": "light"
     },
     "output_type": "display_data"
    },
    {
     "data": {
      "text/plain": [
       "<Figure size 720x720 with 0 Axes>"
      ]
     },
     "metadata": {},
     "output_type": "display_data"
    },
    {
     "data": {
      "image/png": "[encoded data removed]",
      "text/plain": [
       "<Figure size 288x288 with 1 Axes>"
      ]
     },
     "metadata": {
      "needs_background": "light"
     },
     "output_type": "display_data"
    },
    {
     "data": {
      "text/plain": [
       "<Figure size 720x720 with 0 Axes>"
      ]
     },
     "metadata": {},
     "output_type": "display_data"
    },
    {
     "data": {
      "image/png": "[encoded data removed]",
      "text/plain": [
       "<Figure size 288x288 with 1 Axes>"
      ]
     },
     "metadata": {
      "needs_background": "light"
     },
     "output_type": "display_data"
    },
    {
     "data": {
      "text/plain": [
       "<Figure size 720x720 with 0 Axes>"
      ]
     },
     "metadata": {},
     "output_type": "display_data"
    },
    {
     "data": {
      "image/png": "[encoded data removed]",
      "text/plain": [
       "<Figure size 288x288 with 1 Axes>"
      ]
     },
     "metadata": {
      "needs_background": "light"
     },
     "output_type": "display_data"
    },
    {
     "data": {
      "text/plain": [
       "<Figure size 720x720 with 0 Axes>"
      ]
     },
     "metadata": {},
     "output_type": "display_data"
    },
    {
     "data": {
      "image/png": "[encoded data removed]",
      "text/plain": [
       "<Figure size 288x288 with 1 Axes>"
      ]
     },
     "metadata": {
      "needs_background": "light"
     },
     "output_type": "display_data"
    },
    {
     "data": {
      "text/plain": [
       "<Figure size 720x720 with 0 Axes>"
      ]
     },
     "metadata": {},
     "output_type": "display_data"
    },
    {
     "data": {
      "image/png": "[encoded data removed]",
      "text/plain": [
       "<Figure size 288x288 with 1 Axes>"
      ]
     },
     "metadata": {
      "needs_background": "light"
     },
     "output_type": "display_data"
    },
    {
     "data": {
      "text/plain": [
       "<Figure size 720x720 with 0 Axes>"
      ]
     },
     "metadata": {},
     "output_type": "display_data"
    },
    {
     "data": {
      "image/png": "[encoded data removed]",
      "text/plain": [
       "<Figure size 288x288 with 1 Axes>"
      ]
     },
     "metadata": {
      "needs_background": "light"
     },
     "output_type": "display_data"
    },
    {
     "data": {
      "text/plain": [
       "<Figure size 720x720 with 0 Axes>"
      ]
     },
     "metadata": {},
     "output_type": "display_data"
    },
    {
     "data": {
      "image/png": "[encoded data removed]",
      "text/plain": [
       "<Figure size 288x288 with 1 Axes>"
      ]
     },
     "metadata": {
      "needs_background": "light"
     },
     "output_type": "display_data"
    },
    {
     "data": {
      "text/plain": [
       "<Figure size 720x720 with 0 Axes>"
      ]
     },
     "metadata": {},
     "output_type": "display_data"
    },
    {
     "data": {
      "image/png": "[encoded data removed]",
      "text/plain": [
       "<Figure size 288x288 with 1 Axes>"
      ]
     },
     "metadata": {
      "needs_background": "light"
     },
     "output_type": "display_data"
    },
    {
     "data": {
      "text/plain": [
       "<Figure size 720x720 with 0 Axes>"
      ]
     },
     "metadata": {},
     "output_type": "display_data"
    },
    {
     "data": {
      "image/png": "[encoded data removed]",
      "text/plain": [
       "<Figure size 288x288 with 1 Axes>"
      ]
     },
     "metadata": {
      "needs_background": "light"
     },
     "output_type": "display_data"
    },
    {
     "data": {
      "text/plain": [
       "<Figure size 720x720 with 0 Axes>"
      ]
     },
     "metadata": {},
     "output_type": "display_data"
    },
    {
     "data": {
      "image/png": "[encoded data removed]",
      "text/plain": [
       "<Figure size 288x288 with 1 Axes>"
      ]
     },
     "metadata": {
      "needs_background": "light"
     },
     "output_type": "display_data"
    },
    {
     "data": {
      "text/plain": [
       "<Figure size 720x720 with 0 Axes>"
      ]
     },
     "metadata": {},
     "output_type": "display_data"
    },
    {
     "data": {
      "image/png": "[encoded data removed]",
      "text/plain": [
       "<Figure size 288x288 with 1 Axes>"
      ]
     },
     "metadata": {
      "needs_background": "light"
     },
     "output_type": "display_data"
    },
    {
     "data": {
      "text/plain": [
       "<Figure size 720x720 with 0 Axes>"
      ]
     },
     "metadata": {},
     "output_type": "display_data"
    },
    {
     "data": {
      "image/png": "[encoded data removed]",
      "text/plain": [
       "<Figure size 288x288 with 1 Axes>"
      ]
     },
     "metadata": {
      "needs_background": "light"
     },
     "output_type": "display_data"
    },
    {
     "data": {
      "text/plain": [
       "<Figure size 720x720 with 0 Axes>"
      ]
     },
     "metadata": {},
     "output_type": "display_data"
    },
    {
     "data": {
      "image/png": "[encoded data removed]",
      "text/plain": [
       "<Figure size 288x288 with 1 Axes>"
      ]
     },
     "metadata": {
      "needs_background": "light"
     },
     "output_type": "display_data"
    },
    {
     "data": {
      "text/plain": [
       "<Figure size 720x720 with 0 Axes>"
      ]
     },
     "metadata": {},
     "output_type": "display_data"
    },
    {
     "data": {
      "image/png": "[encoded data removed]",
      "text/plain": [
       "<Figure size 288x288 with 1 Axes>"
      ]
     },
     "metadata": {
      "needs_background": "light"
     },
     "output_type": "display_data"
    },
    {
     "data": {
      "text/plain": [
       "<Figure size 720x720 with 0 Axes>"
      ]
     },
     "metadata": {},
     "output_type": "display_data"
    },
    {
     "data": {
      "image/png": "[encoded data removed]",
      "text/plain": [
       "<Figure size 288x288 with 1 Axes>"
      ]
     },
     "metadata": {
      "needs_background": "light"
     },
     "output_type": "display_data"
    },
    {
     "data": {
      "text/plain": [
       "<Figure size 720x720 with 0 Axes>"
      ]
     },
     "metadata": {},
     "output_type": "display_data"
    },
    {
     "data": {
      "image/png": "[encoded data removed]",
      "text/plain": [
       "<Figure size 288x288 with 1 Axes>"
      ]
     },
     "metadata": {
      "needs_background": "light"
     },
     "output_type": "display_data"
    },
    {
     "data": {
      "text/plain": [
       "<Figure size 720x720 with 0 Axes>"
      ]
     },
     "metadata": {},
     "output_type": "display_data"
    },
    {
     "data": {
      "image/png": "[encoded data removed]",
      "text/plain": [
       "<Figure size 288x288 with 1 Axes>"
      ]
     },
     "metadata": {
      "needs_background": "light"
     },
     "output_type": "display_data"
    },
    {
     "data": {
      "text/plain": [
       "<Figure size 720x720 with 0 Axes>"
      ]
     },
     "metadata": {},
     "output_type": "display_data"
    },
    {
     "data": {
      "image/png": "[encoded data removed]",
      "text/plain": [
       "<Figure size 288x288 with 1 Axes>"
      ]
     },
     "metadata": {
      "needs_background": "light"
     },
     "output_type": "display_data"
    },
    {
     "data": {
      "text/plain": [
       "<Figure size 720x720 with 0 Axes>"
      ]
     },
     "metadata": {},
     "output_type": "display_data"
    },
    {
     "data": {
      "image/png": "[encoded data removed]",
      "text/plain": [
       "<Figure size 288x288 with 1 Axes>"
      ]
     },
     "metadata": {
      "needs_background": "light"
     },
     "output_type": "display_data"
    },
    {
     "data": {
      "text/plain": [
       "<Figure size 720x720 with 0 Axes>"
      ]
     },
     "metadata": {},
     "output_type": "display_data"
    },
    {
     "data": {
      "image/png": "[encoded data removed]",
      "text/plain": [
       "<Figure size 288x288 with 1 Axes>"
      ]
     },
     "metadata": {
      "needs_background": "light"
     },
     "output_type": "display_data"
    },
    {
     "data": {
      "text/plain": [
       "<Figure size 720x720 with 0 Axes>"
      ]
     },
     "metadata": {},
     "output_type": "display_data"
    },
    {
     "data": {
      "image/png": "[encoded data removed]",
      "text/plain": [
       "<Figure size 288x288 with 1 Axes>"
      ]
     },
     "metadata": {
      "needs_background": "light"
     },
     "output_type": "display_data"
    },
    {
     "data": {
      "text/plain": [
       "<Figure size 720x720 with 0 Axes>"
      ]
     },
     "metadata": {},
     "output_type": "display_data"
    },
    {
     "data": {
      "image/png": "[encoded data removed]",
      "text/plain": [
       "<Figure size 288x288 with 1 Axes>"
      ]
     },
     "metadata": {
      "needs_background": "light"
     },
     "output_type": "display_data"
    },
    {
     "data": {
      "text/plain": [
       "<Figure size 720x720 with 0 Axes>"
      ]
     },
     "metadata": {},
     "output_type": "display_data"
    },
    {
     "data": {
      "image/png": "[encoded data removed]",
      "text/plain": [
       "<Figure size 288x288 with 1 Axes>"
      ]
     },
     "metadata": {
      "needs_background": "light"
     },
     "output_type": "display_data"
    },
    {
     "data": {
      "text/plain": [
       "<Figure size 720x720 with 0 Axes>"
      ]
     },
     "metadata": {},
     "output_type": "display_data"
    },
    {
     "data": {
      "image/png": "[encoded data removed]",
      "text/plain": [
       "<Figure size 288x288 with 1 Axes>"
      ]
     },
     "metadata": {
      "needs_background": "light"
     },
     "output_type": "display_data"
    },
    {
     "data": {
      "text/plain": [
       "<Figure size 720x720 with 0 Axes>"
      ]
     },
     "metadata": {},
     "output_type": "display_data"
    },
    {
     "data": {
      "image/png": "[encoded data removed]",
      "text/plain": [
       "<Figure size 288x288 with 1 Axes>"
      ]
     },
     "metadata": {
      "needs_background": "light"
     },
     "output_type": "display_data"
    },
    {
     "data": {
      "text/plain": [
       "<Figure size 720x720 with 0 Axes>"
      ]
     },
     "metadata": {},
     "output_type": "display_data"
    },
    {
     "data": {
      "image/png": "[encoded data removed]",
      "text/plain": [
       "<Figure size 288x288 with 1 Axes>"
      ]
     },
     "metadata": {
      "needs_background": "light"
     },
     "output_type": "display_data"
    },
    {
     "data": {
      "text/plain": [
       "<Figure size 720x720 with 0 Axes>"
      ]
     },
     "metadata": {},
     "output_type": "display_data"
    },
    {
     "data": {
      "image/png": "[encoded data removed]",
      "text/plain": [
       "<Figure size 288x288 with 1 Axes>"
      ]
     },
     "metadata": {
      "needs_background": "light"
     },
     "output_type": "display_data"
    },
    {
     "data": {
      "text/plain": [
       "<Figure size 720x720 with 0 Axes>"
      ]
     },
     "metadata": {},
     "output_type": "display_data"
    },
    {
     "data": {
      "image/png": "[encoded data removed]",
      "text/plain": [
       "<Figure size 288x288 with 1 Axes>"
      ]
     },
     "metadata": {
      "needs_background": "light"
     },
     "output_type": "display_data"
    },
    {
     "data": {
      "text/plain": [
       "<Figure size 720x720 with 0 Axes>"
      ]
     },
     "metadata": {},
     "output_type": "display_data"
    },
    {
     "data": {
      "image/png": "[encoded data removed]",
      "text/plain": [
       "<Figure size 288x288 with 1 Axes>"
      ]
     },
     "metadata": {
      "needs_background": "light"
     },
     "output_type": "display_data"
    },
    {
     "data": {
      "text/plain": [
       "<Figure size 720x720 with 0 Axes>"
      ]
     },
     "metadata": {},
     "output_type": "display_data"
    },
    {
     "data": {
      "image/png": "[encoded data removed]",
      "text/plain": [
       "<Figure size 288x288 with 1 Axes>"
      ]
     },
     "metadata": {
      "needs_background": "light"
     },
     "output_type": "display_data"
    },
    {
     "data": {
      "text/plain": [
       "<Figure size 720x720 with 0 Axes>"
      ]
     },
     "metadata": {},
     "output_type": "display_data"
    },
    {
     "data": {
      "image/png": "[encoded data removed]",
      "text/plain": [
       "<Figure size 288x288 with 1 Axes>"
      ]
     },
     "metadata": {
      "needs_background": "light"
     },
     "output_type": "display_data"
    },
    {
     "data": {
      "text/plain": [
       "<Figure size 720x720 with 0 Axes>"
      ]
     },
     "metadata": {},
     "output_type": "display_data"
    },
    {
     "data": {
      "image/png": "[encoded data removed]",
      "text/plain": [
       "<Figure size 288x288 with 1 Axes>"
      ]
     },
     "metadata": {
      "needs_background": "light"
     },
     "output_type": "display_data"
    },
    {
     "data": {
      "text/plain": [
       "<Figure size 720x720 with 0 Axes>"
      ]
     },
     "metadata": {},
     "output_type": "display_data"
    },
    {
     "data": {
      "image/png": "[encoded data removed]",
      "text/plain": [
       "<Figure size 288x288 with 1 Axes>"
      ]
     },
     "metadata": {
      "needs_background": "light"
     },
     "output_type": "display_data"
    },
    {
     "data": {
      "text/plain": [
       "<Figure size 720x720 with 0 Axes>"
      ]
     },
     "metadata": {},
     "output_type": "display_data"
    },
    {
     "data": {
      "image/png": "[encoded data removed]",
      "text/plain": [
       "<Figure size 288x288 with 1 Axes>"
      ]
     },
     "metadata": {
      "needs_background": "light"
     },
     "output_type": "display_data"
    },
    {
     "data": {
      "text/plain": [
       "<Figure size 720x720 with 0 Axes>"
      ]
     },
     "metadata": {},
     "output_type": "display_data"
    },
    {
     "data": {
      "image/png": "[encoded data removed]",
      "text/plain": [
       "<Figure size 288x288 with 1 Axes>"
      ]
     },
     "metadata": {
      "needs_background": "light"
     },
     "output_type": "display_data"
    },
    {
     "data": {
      "text/plain": [
       "<Figure size 720x720 with 0 Axes>"
      ]
     },
     "metadata": {},
     "output_type": "display_data"
    },
    {
     "data": {
      "image/png": "[encoded data removed]",
      "text/plain": [
       "<Figure size 288x288 with 1 Axes>"
      ]
     },
     "metadata": {
      "needs_background": "light"
     },
     "output_type": "display_data"
    },
    {
     "data": {
      "text/plain": [
       "<Figure size 720x720 with 0 Axes>"
      ]
     },
     "metadata": {},
     "output_type": "display_data"
    },
    {
     "data": {
      "image/png": "[encoded data removed]",
      "text/plain": [
       "<Figure size 288x288 with 1 Axes>"
      ]
     },
     "metadata": {
      "needs_background": "light"
     },
     "output_type": "display_data"
    },
    {
     "data": {
      "text/plain": [
       "<Figure size 720x720 with 0 Axes>"
      ]
     },
     "metadata": {},
     "output_type": "display_data"
    },
    {
     "data": {
      "image/png": "[encoded data removed]",
      "text/plain": [
       "<Figure size 288x288 with 1 Axes>"
      ]
     },
     "metadata": {
      "needs_background": "light"
     },
     "output_type": "display_data"
    },
    {
     "data": {
      "text/plain": [
       "<Figure size 720x720 with 0 Axes>"
      ]
     },
     "metadata": {},
     "output_type": "display_data"
    },
    {
     "data": {
      "image/png": "[encoded data removed]",
      "text/plain": [
       "<Figure size 288x288 with 1 Axes>"
      ]
     },
     "metadata": {
      "needs_background": "light"
     },
     "output_type": "display_data"
    },
    {
     "data": {
      "text/plain": [
       "<Figure size 720x720 with 0 Axes>"
      ]
     },
     "metadata": {},
     "output_type": "display_data"
    },
    {
     "data": {
      "image/png": "[encoded data removed]",
      "text/plain": [
       "<Figure size 288x288 with 1 Axes>"
      ]
     },
     "metadata": {
      "needs_background": "light"
     },
     "output_type": "display_data"
    },
    {
     "data": {
      "text/plain": [
       "<Figure size 720x720 with 0 Axes>"
      ]
     },
     "metadata": {},
     "output_type": "display_data"
    },
    {
     "data": {
      "image/png": "[encoded data removed]",
      "text/plain": [
       "<Figure size 288x288 with 1 Axes>"
      ]
     },
     "metadata": {
      "needs_background": "light"
     },
     "output_type": "display_data"
    },
    {
     "data": {
      "text/plain": [
       "<Figure size 720x720 with 0 Axes>"
      ]
     },
     "metadata": {},
     "output_type": "display_data"
    },
    {
     "data": {
      "image/png": "[encoded data removed]",
      "text/plain": [
       "<Figure size 288x288 with 1 Axes>"
      ]
     },
     "metadata": {
      "needs_background": "light"
     },
     "output_type": "display_data"
    },
    {
     "data": {
      "text/plain": [
       "<Figure size 720x720 with 0 Axes>"
      ]
     },
     "metadata": {},
     "output_type": "display_data"
    },
    {
     "data": {
      "image/png": "[encoded data removed]",
      "text/plain": [
       "<Figure size 288x288 with 1 Axes>"
      ]
     },
     "metadata": {
      "needs_background": "light"
     },
     "output_type": "display_data"
    },
    {
     "data": {
      "text/plain": [
       "<Figure size 720x720 with 0 Axes>"
      ]
     },
     "metadata": {},
     "output_type": "display_data"
    },
    {
     "data": {
      "image/png": "[encoded data removed]",
      "text/plain": [
       "<Figure size 288x288 with 1 Axes>"
      ]
     },
     "metadata": {
      "needs_background": "light"
     },
     "output_type": "display_data"
    },
    {
     "data": {
      "text/plain": [
       "<Figure size 720x720 with 0 Axes>"
      ]
     },
     "metadata": {},
     "output_type": "display_data"
    },
    {
     "data": {
      "image/png": "[encoded data removed]",
      "text/plain": [
       "<Figure size 288x288 with 1 Axes>"
      ]
     },
     "metadata": {
      "needs_background": "light"
     },
     "output_type": "display_data"
    },
    {
     "data": {
      "text/plain": [
       "<Figure size 720x720 with 0 Axes>"
      ]
     },
     "metadata": {},
     "output_type": "display_data"
    },
    {
     "data": {
      "image/png": "[encoded data removed]",
      "text/plain": [
       "<Figure size 288x288 with 1 Axes>"
      ]
     },
     "metadata": {
      "needs_background": "light"
     },
     "output_type": "display_data"
    },
    {
     "data": {
      "text/plain": [
       "<Figure size 720x720 with 0 Axes>"
      ]
     },
     "metadata": {},
     "output_type": "display_data"
    },
    {
     "data": {
      "image/png": "[encoded data removed]",
      "text/plain": [
       "<Figure size 288x288 with 1 Axes>"
      ]
     },
     "metadata": {
      "needs_background": "light"
     },
     "output_type": "display_data"
    },
    {
     "data": {
      "text/plain": [
       "<Figure size 720x720 with 0 Axes>"
      ]
     },
     "metadata": {},
     "output_type": "display_data"
    },
    {
     "data": {
      "image/png": "[encoded data removed]",
      "text/plain": [
       "<Figure size 288x288 with 1 Axes>"
      ]
     },
     "metadata": {
      "needs_background": "light"
     },
     "output_type": "display_data"
    },
    {
     "data": {
      "text/plain": [
       "<Figure size 720x720 with 0 Axes>"
      ]
     },
     "metadata": {},
     "output_type": "display_data"
    },
    {
     "data": {
      "image/png": "[encoded data removed]",
      "text/plain": [
       "<Figure size 288x288 with 1 Axes>"
      ]
     },
     "metadata": {
      "needs_background": "light"
     },
     "output_type": "display_data"
    },
    {
     "data": {
      "text/plain": [
       "<Figure size 720x720 with 0 Axes>"
      ]
     },
     "metadata": {},
     "output_type": "display_data"
    },
    {
     "data": {
      "image/png": "[encoded data removed]",
      "text/plain": [
       "<Figure size 288x288 with 1 Axes>"
      ]
     },
     "metadata": {
      "needs_background": "light"
     },
     "output_type": "display_data"
    },
    {
     "data": {
      "text/plain": [
       "<Figure size 720x720 with 0 Axes>"
      ]
     },
     "metadata": {},
     "output_type": "display_data"
    },
    {
     "data": {
      "image/png": "[encoded data removed]",
      "text/plain": [
       "<Figure size 288x288 with 1 Axes>"
      ]
     },
     "metadata": {
      "needs_background": "light"
     },
     "output_type": "display_data"
    },
    {
     "data": {
      "text/plain": [
       "<Figure size 720x720 with 0 Axes>"
      ]
     },
     "metadata": {},
     "output_type": "display_data"
    },
    {
     "data": {
      "image/png": "[encoded data removed]",
      "text/plain": [
       "<Figure size 288x288 with 1 Axes>"
      ]
     },
     "metadata": {
      "needs_background": "light"
     },
     "output_type": "display_data"
    },
    {
     "data": {
      "text/plain": [
       "<Figure size 720x720 with 0 Axes>"
      ]
     },
     "metadata": {},
     "output_type": "display_data"
    },
    {
     "data": {
      "image/png": "[encoded data removed]",
      "text/plain": [
       "<Figure size 288x288 with 1 Axes>"
      ]
     },
     "metadata": {
      "needs_background": "light"
     },
     "output_type": "display_data"
    }
   ],
   "source": [
    "model = PPO1.load(\"../models/fake/{}\".format(model_name))\n",
    "\n",
    "env = MyEnv(N=10)\n",
    "obs = env.reset()\n",
    "for _ in range(200):\n",
    "    action, _states = model.predict(obs)\n",
    "    obs, rewards, done, info = env.step(action)\n",
    "    env.render()\n",
    "    if done is True:\n",
    "        break"
   ]
  }
 ],
 "metadata": {
  "kernelspec": {
   "display_name": "Python 3",
   "language": "python",
   "name": "python3"
  },
  "language_info": {
   "codemirror_mode": {
    "name": "ipython",
    "version": 3
   },
   "file_extension": ".py",
   "mimetype": "text/x-python",
   "name": "python",
   "nbconvert_exporter": "python",
   "pygments_lexer": "ipython3",
   "version": "3.6.10"
  }
 },
 "nbformat": 4,
 "nbformat_minor": 4
}
